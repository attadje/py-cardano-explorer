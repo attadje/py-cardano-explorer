{
 "cells": [
  {
   "cell_type": "code",
   "execution_count": 47,
   "metadata": {
    "jupyter": {
     "source_hidden": true
    }
   },
   "outputs": [],
   "source": [
    "stake_address = 'stake1uyttshgm6jtejckv48tll58hfw3fg2ffrcc4d5qvcc4yc7q9jsalf'\n",
    "address = 'addr1q8z24xgrlj3m2qjh2vxyqg2fh33y3tegufkll5c4lu8u35gkhpw3h4yhn93ve2whllg0wjazjs5jj8332mgqe332f3uq8m7m6h'\n",
    "pool_id = \"pool1ekhy5xsgjaq38em75vevk8df0k0rljju77tljw288ys5kumqce5\""
   ]
  },
  {
   "cell_type": "code",
   "execution_count": 11,
   "metadata": {
    "collapsed": true,
    "jupyter": {
     "outputs_hidden": true,
     "source_hidden": true
    }
   },
   "outputs": [
    {
     "name": "stdout",
     "output_type": "stream",
     "text": [
      "env: BLOCKFROST_API_KEY=iSXrfNxhpPChKCnts2KX9MJ1eQ7exYgb\n"
     ]
    }
   ],
   "source": [
    "%env BLOCKFROST_API_KEY=iSXrfNxhpPChKCnts2KX9MJ1eQ7exYgb"
   ]
  },
  {
   "cell_type": "markdown",
   "metadata": {},
   "source": [
    "## Install\n",
    "___"
   ]
  },
  {
   "cell_type": "markdown",
   "metadata": {},
   "source": [
    "pip3 install cardano_explorer"
   ]
  },
  {
   "cell_type": "markdown",
   "metadata": {},
   "source": [
    "## Usage\n",
    "___"
   ]
  },
  {
   "cell_type": "code",
   "execution_count": null,
   "metadata": {},
   "outputs": [],
   "source": [
    "from cardano_explorer import blockfrost_api"
   ]
  },
  {
   "cell_type": "markdown",
   "metadata": {},
   "source": [
    "## Api Key\n",
    "___\n",
    "If you have an API key, you can either set it as environment variable **BLOCKFROST_API_KEY** or set it manually with:"
   ]
  },
  {
   "cell_type": "code",
   "execution_count": 10,
   "metadata": {},
   "outputs": [],
   "source": [
    "cardano_mainnet = blockfrost_api.Auth()\n",
    "#or\n",
    "cardano_mainnet = blockfrost_api.Auth(api_key=api_key)"
   ]
  },
  {
   "cell_type": "markdown",
   "metadata": {},
   "source": [
    "## Proxies\n",
    "___"
   ]
  },
  {
   "cell_type": "code",
   "execution_count": null,
   "metadata": {},
   "outputs": [],
   "source": []
  },
  {
   "cell_type": "markdown",
   "metadata": {},
   "source": [
    "## Network (mainnet, tesnet, local)\n",
    "You can specify the cardano network to explore with the class parameter **network** (mainnet by default)."
   ]
  },
  {
   "cell_type": "code",
   "execution_count": 15,
   "metadata": {},
   "outputs": [],
   "source": [
    "cardano_mainnet = blockfrost_api.Auth()\n",
    "#or\n",
    "cardano_mainnet = blockfrost_api.Auth(network='mainnet')"
   ]
  },
  {
   "cell_type": "markdown",
   "metadata": {},
   "source": [
    "## Network\n",
    "___"
   ]
  },
  {
   "cell_type": "markdown",
   "metadata": {},
   "source": [
    "### Network information\n",
    "Return detailed network information."
   ]
  },
  {
   "cell_type": "code",
   "execution_count": 42,
   "metadata": {},
   "outputs": [
    {
     "data": {
      "text/plain": [
       "{'supply': {'max': '45000000000000000',\n",
       "  'total': '33095610707522483',\n",
       "  'circulating': '32815060450967318'},\n",
       " 'stake': {'live': '23309647932671648', 'active': '23136223153988390'}}"
      ]
     },
     "execution_count": 42,
     "metadata": {},
     "output_type": "execute_result"
    }
   ],
   "source": [
    "cardano_mainnet.network_info()"
   ]
  },
  {
   "cell_type": "markdown",
   "metadata": {},
   "source": [
    "## Stake\n",
    "___"
   ]
  },
  {
   "cell_type": "markdown",
   "metadata": {},
   "source": [
    "### Stake informations\n",
    "Obtain information about a specific stake account."
   ]
  },
  {
   "cell_type": "code",
   "execution_count": 17,
   "metadata": {},
   "outputs": [
    {
     "data": {
      "text/plain": [
       "{'stake_address': 'stake1uyttshgm6jtejckv48tll58hfw3fg2ffrcc4d5qvcc4yc7q9jsalf',\n",
       " 'active': True,\n",
       " 'active_epoch': 271,\n",
       " 'controlled_amount': '2868511950',\n",
       " 'rewards_sum': '18946556',\n",
       " 'withdrawals_sum': '0',\n",
       " 'reserves_sum': '97317',\n",
       " 'treasury_sum': '0',\n",
       " 'withdrawable_amount': '19043873',\n",
       " 'pool_id': 'pool1ekhy5xsgjaq38em75vevk8df0k0rljju77tljw288ys5kumqce5'}"
      ]
     },
     "execution_count": 17,
     "metadata": {},
     "output_type": "execute_result"
    }
   ],
   "source": [
    "cardano_mainnet.stake_informations(stake_address)"
   ]
  },
  {
   "cell_type": "markdown",
   "metadata": {},
   "source": [
    "### Stake reward history \n",
    "Obtain information about the reward history of a specific account."
   ]
  },
  {
   "cell_type": "code",
   "execution_count": 27,
   "metadata": {},
   "outputs": [
    {
     "name": "stdout",
     "output_type": "stream",
     "text": [
      "[INFO] Function stake_reward_history, 1 API calls.\n"
     ]
    },
    {
     "data": {
      "text/html": [
       "<div>\n",
       "<style scoped>\n",
       "    .dataframe tbody tr th:only-of-type {\n",
       "        vertical-align: middle;\n",
       "    }\n",
       "\n",
       "    .dataframe tbody tr th {\n",
       "        vertical-align: top;\n",
       "    }\n",
       "\n",
       "    .dataframe thead th {\n",
       "        text-align: right;\n",
       "    }\n",
       "</style>\n",
       "<table border=\"1\" class=\"dataframe\">\n",
       "  <thead>\n",
       "    <tr style=\"text-align: right;\">\n",
       "      <th></th>\n",
       "      <th>epoch</th>\n",
       "      <th>amount</th>\n",
       "      <th>pool_id</th>\n",
       "    </tr>\n",
       "  </thead>\n",
       "  <tbody>\n",
       "    <tr>\n",
       "      <th>0</th>\n",
       "      <td>273</td>\n",
       "      <td>587159</td>\n",
       "      <td>pool1ekhy5xsgjaq38em75vevk8df0k0rljju77tljw288...</td>\n",
       "    </tr>\n",
       "    <tr>\n",
       "      <th>1</th>\n",
       "      <td>274</td>\n",
       "      <td>715853</td>\n",
       "      <td>pool1ekhy5xsgjaq38em75vevk8df0k0rljju77tljw288...</td>\n",
       "    </tr>\n",
       "    <tr>\n",
       "      <th>2</th>\n",
       "      <td>275</td>\n",
       "      <td>902199</td>\n",
       "      <td>pool1ekhy5xsgjaq38em75vevk8df0k0rljju77tljw288...</td>\n",
       "    </tr>\n",
       "    <tr>\n",
       "      <th>3</th>\n",
       "      <td>276</td>\n",
       "      <td>824733</td>\n",
       "      <td>pool1ekhy5xsgjaq38em75vevk8df0k0rljju77tljw288...</td>\n",
       "    </tr>\n",
       "    <tr>\n",
       "      <th>4</th>\n",
       "      <td>277</td>\n",
       "      <td>1056705</td>\n",
       "      <td>pool1ekhy5xsgjaq38em75vevk8df0k0rljju77tljw288...</td>\n",
       "    </tr>\n",
       "  </tbody>\n",
       "</table>\n",
       "</div>"
      ],
      "text/plain": [
       "   epoch   amount                                            pool_id\n",
       "0    273   587159  pool1ekhy5xsgjaq38em75vevk8df0k0rljju77tljw288...\n",
       "1    274   715853  pool1ekhy5xsgjaq38em75vevk8df0k0rljju77tljw288...\n",
       "2    275   902199  pool1ekhy5xsgjaq38em75vevk8df0k0rljju77tljw288...\n",
       "3    276   824733  pool1ekhy5xsgjaq38em75vevk8df0k0rljju77tljw288...\n",
       "4    277  1056705  pool1ekhy5xsgjaq38em75vevk8df0k0rljju77tljw288..."
      ]
     },
     "execution_count": 27,
     "metadata": {},
     "output_type": "execute_result"
    }
   ],
   "source": [
    "cardano_mainnet.stake_reward_history(stake_address) \n",
    "#or      \n",
    "cardano_mainnet.stake_reward_history(stake_address, \n",
    "                                     data_order='asc', # Optional: Data order (default: Ascending)\n",
    "                                     nb_of_results=100, # Optional: Return max 100 results at the time (default: None), None for get all the data available.\n",
    "                                     pandas=True).head() # Optional: Return a pandas dataframe"
   ]
  },
  {
   "cell_type": "markdown",
   "metadata": {},
   "source": [
    "### Stake amount history \n",
    "Obtain information about the history of a specific account."
   ]
  },
  {
   "cell_type": "code",
   "execution_count": 28,
   "metadata": {},
   "outputs": [
    {
     "name": "stdout",
     "output_type": "stream",
     "text": [
      "[INFO] Function stake_amount_history, 1 API calls.\n"
     ]
    },
    {
     "data": {
      "text/html": [
       "<div>\n",
       "<style scoped>\n",
       "    .dataframe tbody tr th:only-of-type {\n",
       "        vertical-align: middle;\n",
       "    }\n",
       "\n",
       "    .dataframe tbody tr th {\n",
       "        vertical-align: top;\n",
       "    }\n",
       "\n",
       "    .dataframe thead th {\n",
       "        text-align: right;\n",
       "    }\n",
       "</style>\n",
       "<table border=\"1\" class=\"dataframe\">\n",
       "  <thead>\n",
       "    <tr style=\"text-align: right;\">\n",
       "      <th></th>\n",
       "      <th>active_epoch</th>\n",
       "      <th>amount</th>\n",
       "      <th>pool_id</th>\n",
       "    </tr>\n",
       "  </thead>\n",
       "  <tbody>\n",
       "    <tr>\n",
       "      <th>0</th>\n",
       "      <td>273</td>\n",
       "      <td>998824863</td>\n",
       "      <td>pool1ekhy5xsgjaq38em75vevk8df0k0rljju77tljw288...</td>\n",
       "    </tr>\n",
       "    <tr>\n",
       "      <th>1</th>\n",
       "      <td>274</td>\n",
       "      <td>998824863</td>\n",
       "      <td>pool1ekhy5xsgjaq38em75vevk8df0k0rljju77tljw288...</td>\n",
       "    </tr>\n",
       "    <tr>\n",
       "      <th>2</th>\n",
       "      <td>275</td>\n",
       "      <td>1618824863</td>\n",
       "      <td>pool1ekhy5xsgjaq38em75vevk8df0k0rljju77tljw288...</td>\n",
       "    </tr>\n",
       "    <tr>\n",
       "      <th>3</th>\n",
       "      <td>276</td>\n",
       "      <td>1619412022</td>\n",
       "      <td>pool1ekhy5xsgjaq38em75vevk8df0k0rljju77tljw288...</td>\n",
       "    </tr>\n",
       "    <tr>\n",
       "      <th>4</th>\n",
       "      <td>277</td>\n",
       "      <td>1620127875</td>\n",
       "      <td>pool1ekhy5xsgjaq38em75vevk8df0k0rljju77tljw288...</td>\n",
       "    </tr>\n",
       "  </tbody>\n",
       "</table>\n",
       "</div>"
      ],
      "text/plain": [
       "   active_epoch      amount                                            pool_id\n",
       "0           273   998824863  pool1ekhy5xsgjaq38em75vevk8df0k0rljju77tljw288...\n",
       "1           274   998824863  pool1ekhy5xsgjaq38em75vevk8df0k0rljju77tljw288...\n",
       "2           275  1618824863  pool1ekhy5xsgjaq38em75vevk8df0k0rljju77tljw288...\n",
       "3           276  1619412022  pool1ekhy5xsgjaq38em75vevk8df0k0rljju77tljw288...\n",
       "4           277  1620127875  pool1ekhy5xsgjaq38em75vevk8df0k0rljju77tljw288..."
      ]
     },
     "execution_count": 28,
     "metadata": {},
     "output_type": "execute_result"
    }
   ],
   "source": [
    "cardano_mainnet.stake_amount_history(stake_address)\n",
    "#or                        \n",
    "cardano_mainnet.stake_amount_history(stake_address, \n",
    "                                     data_order='asc', # Optional: Data order (default: Ascending)\n",
    "                                     nb_of_results=100, # Optional: Return max 100 results at the time (default: None), None for get all the data available.\n",
    "                                     pandas=True) # Optional: Return a pandas dataframe"
   ]
  },
  {
   "cell_type": "markdown",
   "metadata": {},
   "source": [
    "### Stake delegation history\n",
    "Obtain information about the delegation of a specific account."
   ]
  },
  {
   "cell_type": "code",
   "execution_count": 29,
   "metadata": {},
   "outputs": [
    {
     "name": "stdout",
     "output_type": "stream",
     "text": [
      "[INFO] Function stake_delegation, 1 API calls.\n"
     ]
    },
    {
     "data": {
      "text/html": [
       "<div>\n",
       "<style scoped>\n",
       "    .dataframe tbody tr th:only-of-type {\n",
       "        vertical-align: middle;\n",
       "    }\n",
       "\n",
       "    .dataframe tbody tr th {\n",
       "        vertical-align: top;\n",
       "    }\n",
       "\n",
       "    .dataframe thead th {\n",
       "        text-align: right;\n",
       "    }\n",
       "</style>\n",
       "<table border=\"1\" class=\"dataframe\">\n",
       "  <thead>\n",
       "    <tr style=\"text-align: right;\">\n",
       "      <th></th>\n",
       "      <th>active_epoch</th>\n",
       "      <th>tx_hash</th>\n",
       "      <th>amount</th>\n",
       "      <th>pool_id</th>\n",
       "    </tr>\n",
       "  </thead>\n",
       "  <tbody>\n",
       "    <tr>\n",
       "      <th>0</th>\n",
       "      <td>273</td>\n",
       "      <td>97a774aa60a2926c9949bfe1edf1dcc2f2297d36633e14...</td>\n",
       "      <td>497824863</td>\n",
       "      <td>pool1ekhy5xsgjaq38em75vevk8df0k0rljju77tljw288...</td>\n",
       "    </tr>\n",
       "  </tbody>\n",
       "</table>\n",
       "</div>"
      ],
      "text/plain": [
       "   active_epoch                                            tx_hash     amount  \\\n",
       "0           273  97a774aa60a2926c9949bfe1edf1dcc2f2297d36633e14...  497824863   \n",
       "\n",
       "                                             pool_id  \n",
       "0  pool1ekhy5xsgjaq38em75vevk8df0k0rljju77tljw288...  "
      ]
     },
     "execution_count": 29,
     "metadata": {},
     "output_type": "execute_result"
    }
   ],
   "source": [
    "cardano_mainnet.stake_delegation(stake_address)\n",
    "#or\n",
    "cardano_mainnet.stake_delegation(stake_address, \n",
    "                                 data_order='asc', # Optional: Data order (default: Ascending)\n",
    "                                 nb_of_results=100, # Optional: Return max 100 results at the time (default: None), None for get all the data available.\n",
    "                                 pandas=True) # Optional: Return a pandas dataframe"
   ]
  },
  {
   "cell_type": "markdown",
   "metadata": {},
   "source": [
    "### Stake registrations and deregistrations history\n",
    "Obtain information about the registrations and deregistrations of a specific account."
   ]
  },
  {
   "cell_type": "code",
   "execution_count": 30,
   "metadata": {},
   "outputs": [
    {
     "name": "stdout",
     "output_type": "stream",
     "text": [
      "[INFO] Function stake_registration_deregistrations, 1 API calls.\n"
     ]
    },
    {
     "data": {
      "text/html": [
       "<div>\n",
       "<style scoped>\n",
       "    .dataframe tbody tr th:only-of-type {\n",
       "        vertical-align: middle;\n",
       "    }\n",
       "\n",
       "    .dataframe tbody tr th {\n",
       "        vertical-align: top;\n",
       "    }\n",
       "\n",
       "    .dataframe thead th {\n",
       "        text-align: right;\n",
       "    }\n",
       "</style>\n",
       "<table border=\"1\" class=\"dataframe\">\n",
       "  <thead>\n",
       "    <tr style=\"text-align: right;\">\n",
       "      <th></th>\n",
       "      <th>tx_hash</th>\n",
       "      <th>action</th>\n",
       "    </tr>\n",
       "  </thead>\n",
       "  <tbody>\n",
       "    <tr>\n",
       "      <th>0</th>\n",
       "      <td>97a774aa60a2926c9949bfe1edf1dcc2f2297d36633e14...</td>\n",
       "      <td>registered</td>\n",
       "    </tr>\n",
       "  </tbody>\n",
       "</table>\n",
       "</div>"
      ],
      "text/plain": [
       "                                             tx_hash      action\n",
       "0  97a774aa60a2926c9949bfe1edf1dcc2f2297d36633e14...  registered"
      ]
     },
     "execution_count": 30,
     "metadata": {},
     "output_type": "execute_result"
    }
   ],
   "source": [
    "cardano_mainnet.stake_registration_deregistrations(stake_address)\n",
    "#or\n",
    "cardano_mainnet.stake_registration_deregistrations(stake_address, \n",
    "                                                   data_order='asc', # Optional: Data order (default: Ascending)\n",
    "                                                   nb_of_results=100, # Optional: Return max 100 results at the time (default: None), None for get all the data available.\n",
    "                                                   pandas=True) # Optional: Return a pandas dataframe"
   ]
  },
  {
   "cell_type": "markdown",
   "metadata": {},
   "source": [
    "### Stake withdrawal history\n",
    "Obtain information about the withdrawals of a specific account."
   ]
  },
  {
   "cell_type": "code",
   "execution_count": null,
   "metadata": {},
   "outputs": [],
   "source": [
    "cardano_mainnet.stake_withdrawal_history(stake_address)\n",
    "#or\n",
    "cardano_mainnet.stake_withdrawal_history(stake_address, \n",
    "                                         data_order='asc', # Optional: Data order (default: Ascending)\n",
    "                                         nb_of_results=100, # Optional: Return max 100 results at the time (default: None), None for get all the data available.\n",
    "                                         pandas=True) # Optional: Return a pandas dataframe"
   ]
  },
  {
   "cell_type": "markdown",
   "metadata": {},
   "source": [
    "### Stake MIR history\n",
    "Obtain information about the MIRs of a specific account."
   ]
  },
  {
   "cell_type": "code",
   "execution_count": 31,
   "metadata": {},
   "outputs": [
    {
     "name": "stdout",
     "output_type": "stream",
     "text": [
      "[INFO] Function stake_mir_history, 1 API calls.\n"
     ]
    },
    {
     "data": {
      "text/html": [
       "<div>\n",
       "<style scoped>\n",
       "    .dataframe tbody tr th:only-of-type {\n",
       "        vertical-align: middle;\n",
       "    }\n",
       "\n",
       "    .dataframe tbody tr th {\n",
       "        vertical-align: top;\n",
       "    }\n",
       "\n",
       "    .dataframe thead th {\n",
       "        text-align: right;\n",
       "    }\n",
       "</style>\n",
       "<table border=\"1\" class=\"dataframe\">\n",
       "  <thead>\n",
       "    <tr style=\"text-align: right;\">\n",
       "      <th></th>\n",
       "      <th>tx_hash</th>\n",
       "      <th>amount</th>\n",
       "    </tr>\n",
       "  </thead>\n",
       "  <tbody>\n",
       "    <tr>\n",
       "      <th>0</th>\n",
       "      <td>c041e475d161444a6a8ca9005ef3deb36ebd579c347d90...</td>\n",
       "      <td>74456</td>\n",
       "    </tr>\n",
       "    <tr>\n",
       "      <th>1</th>\n",
       "      <td>9ede69b0ebd0903b1cc6a914a79fabd9a5d6dd94e8c110...</td>\n",
       "      <td>22861</td>\n",
       "    </tr>\n",
       "  </tbody>\n",
       "</table>\n",
       "</div>"
      ],
      "text/plain": [
       "                                             tx_hash amount\n",
       "0  c041e475d161444a6a8ca9005ef3deb36ebd579c347d90...  74456\n",
       "1  9ede69b0ebd0903b1cc6a914a79fabd9a5d6dd94e8c110...  22861"
      ]
     },
     "execution_count": 31,
     "metadata": {},
     "output_type": "execute_result"
    }
   ],
   "source": [
    "cardano_mainnet.stake_mir_history(stake_address)\n",
    "#or\n",
    "cardano_mainnet.stake_mir_history(stake_address, \n",
    "                                  data_order='asc', # Optional: Data order (default: Ascending)\n",
    "                                  nb_of_results=100, # Optional: Return max 100 results at the time (default: None), None for get all the data available.\n",
    "                                  pandas=True) # Optional: Return a pandas dataframe"
   ]
  },
  {
   "cell_type": "markdown",
   "metadata": {},
   "source": [
    "### Stake associated addresses\n",
    "Obtain information about the MIRs of a specific account."
   ]
  },
  {
   "cell_type": "code",
   "execution_count": 33,
   "metadata": {},
   "outputs": [
    {
     "name": "stdout",
     "output_type": "stream",
     "text": [
      "[INFO] Function stake_associated_addresses, 1 API calls.\n"
     ]
    },
    {
     "data": {
      "text/html": [
       "<div>\n",
       "<style scoped>\n",
       "    .dataframe tbody tr th:only-of-type {\n",
       "        vertical-align: middle;\n",
       "    }\n",
       "\n",
       "    .dataframe tbody tr th {\n",
       "        vertical-align: top;\n",
       "    }\n",
       "\n",
       "    .dataframe thead th {\n",
       "        text-align: right;\n",
       "    }\n",
       "</style>\n",
       "<table border=\"1\" class=\"dataframe\">\n",
       "  <thead>\n",
       "    <tr style=\"text-align: right;\">\n",
       "      <th></th>\n",
       "      <th>address</th>\n",
       "    </tr>\n",
       "  </thead>\n",
       "  <tbody>\n",
       "    <tr>\n",
       "      <th>0</th>\n",
       "      <td>addr1qx96yn08e5u7hthawh63ss6269dkzxekq85elrthw...</td>\n",
       "    </tr>\n",
       "    <tr>\n",
       "      <th>1</th>\n",
       "      <td>addr1q9u0kfvd57parl03j8v9fz52xqz8yjkcu47lcy8hw...</td>\n",
       "    </tr>\n",
       "    <tr>\n",
       "      <th>2</th>\n",
       "      <td>addr1q8m6tn3edl333c8yzms8dzrkkckm0vn0dkvq436au...</td>\n",
       "    </tr>\n",
       "    <tr>\n",
       "      <th>3</th>\n",
       "      <td>addr1q9py3k58fmyu896charn6mey8c5f22uq830m4udsy...</td>\n",
       "    </tr>\n",
       "    <tr>\n",
       "      <th>4</th>\n",
       "      <td>addr1q8mk7kft30hwmj2yttltm8j5f4ccuguxr9z3werwm...</td>\n",
       "    </tr>\n",
       "  </tbody>\n",
       "</table>\n",
       "</div>"
      ],
      "text/plain": [
       "                                             address\n",
       "0  addr1qx96yn08e5u7hthawh63ss6269dkzxekq85elrthw...\n",
       "1  addr1q9u0kfvd57parl03j8v9fz52xqz8yjkcu47lcy8hw...\n",
       "2  addr1q8m6tn3edl333c8yzms8dzrkkckm0vn0dkvq436au...\n",
       "3  addr1q9py3k58fmyu896charn6mey8c5f22uq830m4udsy...\n",
       "4  addr1q8mk7kft30hwmj2yttltm8j5f4ccuguxr9z3werwm..."
      ]
     },
     "execution_count": 33,
     "metadata": {},
     "output_type": "execute_result"
    }
   ],
   "source": [
    "cardano_mainnet.stake_associated_addresses(stake_address)\n",
    "#or\n",
    "cardano_mainnet.stake_associated_addresses(stake_address, \n",
    "                                           data_order='asc', # Optional: Data order (default: Ascending)\n",
    "                                           nb_of_results=100, # Optional: Return max 100 results at the time (default: None), None for get all the data available.\n",
    "                                           pandas=True) # Optional: Return a pandas dataframe "
   ]
  },
  {
   "cell_type": "markdown",
   "metadata": {},
   "source": [
    "### Stake assets associated addresses\n",
    "Obtain information about assets associated with addresses of a specific account.</blockquote>"
   ]
  },
  {
   "cell_type": "code",
   "execution_count": 34,
   "metadata": {},
   "outputs": [
    {
     "name": "stdout",
     "output_type": "stream",
     "text": [
      "[INFO] No data available.\n",
      "[INFO] Function stake_assets_associated_addresses, 1 API calls.\n"
     ]
    },
    {
     "data": {
      "text/html": [
       "<div>\n",
       "<style scoped>\n",
       "    .dataframe tbody tr th:only-of-type {\n",
       "        vertical-align: middle;\n",
       "    }\n",
       "\n",
       "    .dataframe tbody tr th {\n",
       "        vertical-align: top;\n",
       "    }\n",
       "\n",
       "    .dataframe thead th {\n",
       "        text-align: right;\n",
       "    }\n",
       "</style>\n",
       "<table border=\"1\" class=\"dataframe\">\n",
       "  <thead>\n",
       "    <tr style=\"text-align: right;\">\n",
       "      <th></th>\n",
       "    </tr>\n",
       "  </thead>\n",
       "  <tbody>\n",
       "  </tbody>\n",
       "</table>\n",
       "</div>"
      ],
      "text/plain": [
       "Empty DataFrame\n",
       "Columns: []\n",
       "Index: []"
      ]
     },
     "execution_count": 34,
     "metadata": {},
     "output_type": "execute_result"
    }
   ],
   "source": [
    "cardano_mainnet.stake_associated_addresses(stake_address)\n",
    "#or\n",
    "cardano_mainnet.stake_assets_associated_addresses(stake_address, \n",
    "                                                  data_order='asc', # Optional: Data order (default: Ascending)\n",
    "                                                  nb_of_results=100, # Optional: Return max 100 results at the time (default: None), None for get all the data available.\n",
    "                                                  pandas=True) # Optional: Return a pandas dataframe "
   ]
  },
  {
   "cell_type": "markdown",
   "metadata": {},
   "source": [
    "# Addresse Informations\n",
    "___"
   ]
  },
  {
   "cell_type": "markdown",
   "metadata": {},
   "source": [
    "### Addresses\n",
    "Obtain information about a specific address."
   ]
  },
  {
   "cell_type": "code",
   "execution_count": 36,
   "metadata": {},
   "outputs": [
    {
     "data": {
      "text/plain": [
       "{'address': 'addr1q8z24xgrlj3m2qjh2vxyqg2fh33y3tegufkll5c4lu8u35gkhpw3h4yhn93ve2whllg0wjazjs5jj8332mgqe332f3uq8m7m6h',\n",
       " 'amount': [{'unit': 'lovelace', 'quantity': '350000000'}],\n",
       " 'stake_address': 'stake1uyttshgm6jtejckv48tll58hfw3fg2ffrcc4d5qvcc4yc7q9jsalf',\n",
       " 'type': 'shelley'}"
      ]
     },
     "execution_count": 36,
     "metadata": {},
     "output_type": "execute_result"
    }
   ],
   "source": [
    "cardano_mainnet.address_info(address)"
   ]
  },
  {
   "cell_type": "markdown",
   "metadata": {},
   "source": [
    "### Address details\n",
    "Obtain details about an address."
   ]
  },
  {
   "cell_type": "code",
   "execution_count": 37,
   "metadata": {},
   "outputs": [
    {
     "data": {
      "text/plain": [
       "{'address': 'addr1q8z24xgrlj3m2qjh2vxyqg2fh33y3tegufkll5c4lu8u35gkhpw3h4yhn93ve2whllg0wjazjs5jj8332mgqe332f3uq8m7m6h',\n",
       " 'received_sum': [{'unit': 'lovelace', 'quantity': '350000000'}],\n",
       " 'sent_sum': [{'unit': 'lovelace', 'quantity': '0'}],\n",
       " 'tx_count': 1}"
      ]
     },
     "execution_count": 37,
     "metadata": {},
     "output_type": "execute_result"
    }
   ],
   "source": [
    "cardano_mainnet.address_details(address)"
   ]
  },
  {
   "cell_type": "markdown",
   "metadata": {},
   "source": [
    "### Address UTXOs\n",
    "UTXOs of the address."
   ]
  },
  {
   "cell_type": "code",
   "execution_count": 38,
   "metadata": {},
   "outputs": [
    {
     "data": {
      "text/plain": [
       "[{'tx_hash': '996ff0a57282ef943ecdbc263cf9c41c178d65587d70d9d9dcbe98e520f8e406',\n",
       "  'tx_index': 4,\n",
       "  'output_index': 4,\n",
       "  'amount': [{'unit': 'lovelace', 'quantity': '350000000'}],\n",
       "  'block': '73768f4ca2a0c96611a1fbd7f53a3b1b573fb0371012e54a943cf58926eb9cea'}]"
      ]
     },
     "execution_count": 38,
     "metadata": {},
     "output_type": "execute_result"
    }
   ],
   "source": [
    "cardano_mainnet.address_utxo(address)"
   ]
  },
  {
   "cell_type": "markdown",
   "metadata": {},
   "source": [
    "### Address transactions\n",
    "Transactions on the address."
   ]
  },
  {
   "cell_type": "code",
   "execution_count": 39,
   "metadata": {},
   "outputs": [
    {
     "data": {
      "text/plain": [
       "[{'tx_hash': '996ff0a57282ef943ecdbc263cf9c41c178d65587d70d9d9dcbe98e520f8e406',\n",
       "  'tx_index': 45,\n",
       "  'block_height': 6095572}]"
      ]
     },
     "execution_count": 39,
     "metadata": {},
     "output_type": "execute_result"
    }
   ],
   "source": [
    "cardano_mainnet.address_transaction(address)"
   ]
  },
  {
   "cell_type": "markdown",
   "metadata": {},
   "source": [
    "## Epochs\n",
    "___"
   ]
  },
  {
   "cell_type": "markdown",
   "metadata": {},
   "source": [
    "### Latest epoch\n",
    "Obtain the information about the latest epoch."
   ]
  },
  {
   "cell_type": "code",
   "execution_count": 50,
   "metadata": {},
   "outputs": [
    {
     "data": {
      "text/plain": [
       "{'epoch': 288,\n",
       " 'start_time': 1630619091,\n",
       " 'end_time': 1631051091,\n",
       " 'first_block_time': 1630619101,\n",
       " 'last_block_time': 1630695809,\n",
       " 'block_count': 3867,\n",
       " 'tx_count': 77200,\n",
       " 'output': '41529702474109934',\n",
       " 'fees': '16021622015',\n",
       " 'active_stake': '23136223153988390'}"
      ]
     },
     "execution_count": 50,
     "metadata": {},
     "output_type": "execute_result"
    }
   ],
   "source": [
    "cardano_mainnet.latest_epoch()"
   ]
  },
  {
   "cell_type": "markdown",
   "metadata": {},
   "source": [
    "### Latest epoch protocol parameters\n",
    "Return the protocol parameters for the latest epoch."
   ]
  },
  {
   "cell_type": "code",
   "execution_count": 51,
   "metadata": {},
   "outputs": [
    {
     "data": {
      "text/plain": [
       "{'epoch': 288,\n",
       " 'min_fee_a': 44,\n",
       " 'min_fee_b': 155381,\n",
       " 'max_block_size': 65536,\n",
       " 'max_tx_size': 16384,\n",
       " 'max_block_header_size': 1100,\n",
       " 'key_deposit': '2000000',\n",
       " 'pool_deposit': '500000000',\n",
       " 'e_max': 18,\n",
       " 'n_opt': 500,\n",
       " 'a0': 0.3,\n",
       " 'rho': 0.003,\n",
       " 'tau': 0.2,\n",
       " 'decentralisation_param': 0,\n",
       " 'extra_entropy': None,\n",
       " 'protocol_major_ver': 4,\n",
       " 'protocol_minor_ver': 0,\n",
       " 'min_utxo': '1000000',\n",
       " 'min_pool_cost': '340000000',\n",
       " 'nonce': 'bf3b52ab86e152b392cbf095c1d0f07aaeda956eecfdb44b09bcb85a0ecae36a'}"
      ]
     },
     "execution_count": 51,
     "metadata": {},
     "output_type": "execute_result"
    }
   ],
   "source": [
    "cardano_mainnet.latest_epoch_protocol_parameters()"
   ]
  },
  {
   "cell_type": "markdown",
   "metadata": {},
   "source": [
    "### Specific epoch\n",
    "Obtain informations about a specific epoch."
   ]
  },
  {
   "cell_type": "code",
   "execution_count": 52,
   "metadata": {},
   "outputs": [
    {
     "data": {
      "text/plain": [
       "{'epoch': 287,\n",
       " 'start_time': 1630187091,\n",
       " 'end_time': 1630619091,\n",
       " 'first_block_time': 1630187230,\n",
       " 'last_block_time': 1630619085,\n",
       " 'block_count': 21065,\n",
       " 'tx_count': 401343,\n",
       " 'output': '74754307451589173',\n",
       " 'fees': '86536781869',\n",
       " 'active_stake': '23041097075076811'}"
      ]
     },
     "execution_count": 52,
     "metadata": {},
     "output_type": "execute_result"
    }
   ],
   "source": [
    "cardano_mainnet.specific_epoch(287)"
   ]
  },
  {
   "cell_type": "markdown",
   "metadata": {},
   "source": [
    "### Epochs history\n",
    "Obtain informations about sevrals epochs."
   ]
  },
  {
   "cell_type": "code",
   "execution_count": 53,
   "metadata": {},
   "outputs": [
    {
     "name": "stdout",
     "output_type": "stream",
     "text": [
      "[INFO] Function epochs_history, 4 API calls.\n"
     ]
    },
    {
     "data": {
      "text/html": [
       "<div>\n",
       "<style scoped>\n",
       "    .dataframe tbody tr th:only-of-type {\n",
       "        vertical-align: middle;\n",
       "    }\n",
       "\n",
       "    .dataframe tbody tr th {\n",
       "        vertical-align: top;\n",
       "    }\n",
       "\n",
       "    .dataframe thead th {\n",
       "        text-align: right;\n",
       "    }\n",
       "</style>\n",
       "<table border=\"1\" class=\"dataframe\">\n",
       "  <thead>\n",
       "    <tr style=\"text-align: right;\">\n",
       "      <th></th>\n",
       "      <th>epoch</th>\n",
       "      <th>start_time</th>\n",
       "      <th>end_time</th>\n",
       "      <th>first_block_time</th>\n",
       "      <th>last_block_time</th>\n",
       "      <th>block_count</th>\n",
       "      <th>tx_count</th>\n",
       "      <th>output</th>\n",
       "      <th>fees</th>\n",
       "      <th>active_stake</th>\n",
       "    </tr>\n",
       "  </thead>\n",
       "  <tbody>\n",
       "    <tr>\n",
       "      <th>0</th>\n",
       "      <td>270</td>\n",
       "      <td>1622843091</td>\n",
       "      <td>1623275091</td>\n",
       "      <td>1622843183</td>\n",
       "      <td>1623275038</td>\n",
       "      <td>21395</td>\n",
       "      <td>174334</td>\n",
       "      <td>12213404538685056</td>\n",
       "      <td>36489177917</td>\n",
       "      <td>22893778548073522</td>\n",
       "    </tr>\n",
       "    <tr>\n",
       "      <th>1</th>\n",
       "      <td>271</td>\n",
       "      <td>1623275091</td>\n",
       "      <td>1623707091</td>\n",
       "      <td>1623275098</td>\n",
       "      <td>1623707059</td>\n",
       "      <td>21410</td>\n",
       "      <td>145244</td>\n",
       "      <td>12686700012872148</td>\n",
       "      <td>30802442909</td>\n",
       "      <td>22970909569111347</td>\n",
       "    </tr>\n",
       "    <tr>\n",
       "      <th>2</th>\n",
       "      <td>272</td>\n",
       "      <td>1623707091</td>\n",
       "      <td>1624139091</td>\n",
       "      <td>1623707123</td>\n",
       "      <td>1624139087</td>\n",
       "      <td>21499</td>\n",
       "      <td>135373</td>\n",
       "      <td>10640794327820158</td>\n",
       "      <td>29593210504</td>\n",
       "      <td>23020000415780615</td>\n",
       "    </tr>\n",
       "  </tbody>\n",
       "</table>\n",
       "</div>"
      ],
      "text/plain": [
       "   epoch  start_time    end_time  first_block_time  last_block_time  \\\n",
       "0    270  1622843091  1623275091        1622843183       1623275038   \n",
       "1    271  1623275091  1623707091        1623275098       1623707059   \n",
       "2    272  1623707091  1624139091        1623707123       1624139087   \n",
       "\n",
       "   block_count  tx_count             output         fees       active_stake  \n",
       "0        21395    174334  12213404538685056  36489177917  22893778548073522  \n",
       "1        21410    145244  12686700012872148  30802442909  22970909569111347  \n",
       "2        21499    135373  10640794327820158  29593210504  23020000415780615  "
      ]
     },
     "execution_count": 53,
     "metadata": {},
     "output_type": "execute_result"
    }
   ],
   "source": [
    "cardano_mainnet.epochs_history([270, 271, 272],\n",
    "                               pandas=True) # Optional: Return a pandas dataframe "
   ]
  },
  {
   "cell_type": "markdown",
   "metadata": {},
   "source": [
    "# Pools\n",
    "___"
   ]
  },
  {
   "cell_type": "markdown",
   "metadata": {},
   "source": [
    "### List of stake pools\n",
    "List of registered stake pools."
   ]
  },
  {
   "cell_type": "code",
   "execution_count": 54,
   "metadata": {},
   "outputs": [
    {
     "name": "stdout",
     "output_type": "stream",
     "text": [
      "[INFO] Function registered_polls, 1 API calls.\n"
     ]
    },
    {
     "data": {
      "text/html": [
       "<div>\n",
       "<style scoped>\n",
       "    .dataframe tbody tr th:only-of-type {\n",
       "        vertical-align: middle;\n",
       "    }\n",
       "\n",
       "    .dataframe tbody tr th {\n",
       "        vertical-align: top;\n",
       "    }\n",
       "\n",
       "    .dataframe thead th {\n",
       "        text-align: right;\n",
       "    }\n",
       "</style>\n",
       "<table border=\"1\" class=\"dataframe\">\n",
       "  <thead>\n",
       "    <tr style=\"text-align: right;\">\n",
       "      <th></th>\n",
       "      <th>registered_polls_id</th>\n",
       "    </tr>\n",
       "  </thead>\n",
       "  <tbody>\n",
       "    <tr>\n",
       "      <th>0</th>\n",
       "      <td>pool1z5uqdk7dzdxaae5633fqfcu2eqzy3a3rgtuvy087f...</td>\n",
       "    </tr>\n",
       "    <tr>\n",
       "      <th>1</th>\n",
       "      <td>pool1pu5jlj4q9w9jlxeu370a3c9myx47md5j5m2str0na...</td>\n",
       "    </tr>\n",
       "    <tr>\n",
       "      <th>2</th>\n",
       "      <td>pool1c8k78ny3xvsfgenhf4yzvpzwgzxmz0t0um0h2xnn2...</td>\n",
       "    </tr>\n",
       "    <tr>\n",
       "      <th>3</th>\n",
       "      <td>pool1q80jjs53w0fx836n8g38gtdwr8ck5zre3da90peux...</td>\n",
       "    </tr>\n",
       "    <tr>\n",
       "      <th>4</th>\n",
       "      <td>pool1ddskftmsscw92d7vnj89pldwx5feegkgcmamgt5t0...</td>\n",
       "    </tr>\n",
       "  </tbody>\n",
       "</table>\n",
       "</div>"
      ],
      "text/plain": [
       "                                 registered_polls_id\n",
       "0  pool1z5uqdk7dzdxaae5633fqfcu2eqzy3a3rgtuvy087f...\n",
       "1  pool1pu5jlj4q9w9jlxeu370a3c9myx47md5j5m2str0na...\n",
       "2  pool1c8k78ny3xvsfgenhf4yzvpzwgzxmz0t0um0h2xnn2...\n",
       "3  pool1q80jjs53w0fx836n8g38gtdwr8ck5zre3da90peux...\n",
       "4  pool1ddskftmsscw92d7vnj89pldwx5feegkgcmamgt5t0..."
      ]
     },
     "execution_count": 54,
     "metadata": {},
     "output_type": "execute_result"
    }
   ],
   "source": [
    "cardano_mainnet.registered_polls()\n",
    "#or\n",
    "cardano_mainnet.registered_polls(nb_of_results=100, # Optional: Return max 100 results at the time (default: None), None for get all the data available.\n",
    "                                 pandas=True) # Optional: Return a pandas dataframe "
   ]
  },
  {
   "cell_type": "markdown",
   "metadata": {},
   "source": [
    "### Specific stake pool informations\n",
    "Pool informations."
   ]
  },
  {
   "cell_type": "code",
   "execution_count": 55,
   "metadata": {},
   "outputs": [
    {
     "data": {
      "text/plain": [
       "{'pool_id': 'pool1ekhy5xsgjaq38em75vevk8df0k0rljju77tljw288ys5kumqce5',\n",
       " 'hex': 'cdae4a1a08974113e77ea332cb1da97d9e3fca5cf797f9394739214b',\n",
       " 'vrf_key': '5517fbeb4c6a5a613835808de183345eaf85ab0e251210e493e088afa41d9ab0',\n",
       " 'blocks_minted': 3073,\n",
       " 'live_stake': '55648149168432',\n",
       " 'live_size': 0.0023887520907477904,\n",
       " 'live_saturation': 0.8479059445396915,\n",
       " 'live_delegators': 1443,\n",
       " 'active_stake': '55449417952886',\n",
       " 'active_size': 0.002396649512923082,\n",
       " 'declared_pledge': '200000000000',\n",
       " 'live_pledge': '203180990314',\n",
       " 'margin_cost': 0.01,\n",
       " 'fixed_cost': '340000000',\n",
       " 'reward_account': 'stake1u8uzevd539lxn40jt60g72a649zdphe9e8hrye4nf5jv0js9uzhzg',\n",
       " 'owners': ['stake1u9qsgte62jau0qu6kjy8zch8aynt55gql6jsxe05464n99gsqd7ra',\n",
       "  'stake1u8uzevd539lxn40jt60g72a649zdphe9e8hrye4nf5jv0js9uzhzg'],\n",
       " 'registration': ['b1bfffc26b6210ced9cc679781922e8b1ac70a2f7719523528639da4ab7f2d88',\n",
       "  'be5b798897f5b83e5bf562df6fc68a94d5528acc80ab8e999ce866aa63a4d06a',\n",
       "  '0f4781efd649f91e37847cb2699a8a41632ee94df1465e255577772f362339bf',\n",
       "  '630c7195fdc1c5c14bb12c460059c5adb11b3cd6d3e576628aee0a8338f1b6ad',\n",
       "  '119fe23a35e0ddcbb5778f17ad2371228a53b5ced037c12083a0c77b5711e1d4',\n",
       "  'f1fe58c30ec7f5193476694fafc46dcdb11c3408e114e8fa2a95425243907ed4',\n",
       "  '09c2c3d34de116365c9cf9a6e75f45856013388d962dbd5584c27b7d0bb36eed'],\n",
       " 'retirement': []}"
      ]
     },
     "execution_count": 55,
     "metadata": {},
     "output_type": "execute_result"
    }
   ],
   "source": [
    "cardano_mainnet.pool_informations(pool_id)"
   ]
  },
  {
   "cell_type": "markdown",
   "metadata": {},
   "source": [
    "### Stake pool history\n",
    "\n",
    "History of stake pool parameters over epochs."
   ]
  },
  {
   "cell_type": "code",
   "execution_count": 56,
   "metadata": {},
   "outputs": [
    {
     "name": "stdout",
     "output_type": "stream",
     "text": [
      "[INFO] Function param_stake_pool_history, 1 API calls.\n"
     ]
    },
    {
     "data": {
      "text/html": [
       "<div>\n",
       "<style scoped>\n",
       "    .dataframe tbody tr th:only-of-type {\n",
       "        vertical-align: middle;\n",
       "    }\n",
       "\n",
       "    .dataframe tbody tr th {\n",
       "        vertical-align: top;\n",
       "    }\n",
       "\n",
       "    .dataframe thead th {\n",
       "        text-align: right;\n",
       "    }\n",
       "</style>\n",
       "<table border=\"1\" class=\"dataframe\">\n",
       "  <thead>\n",
       "    <tr style=\"text-align: right;\">\n",
       "      <th></th>\n",
       "      <th>epoch</th>\n",
       "      <th>blocks</th>\n",
       "      <th>active_stake</th>\n",
       "      <th>active_size</th>\n",
       "      <th>delegators_count</th>\n",
       "      <th>rewards</th>\n",
       "      <th>fees</th>\n",
       "    </tr>\n",
       "  </thead>\n",
       "  <tbody>\n",
       "    <tr>\n",
       "      <th>0</th>\n",
       "      <td>210</td>\n",
       "      <td>0</td>\n",
       "      <td>37220609681471</td>\n",
       "      <td>0.006144</td>\n",
       "      <td>66</td>\n",
       "      <td>0</td>\n",
       "      <td>0</td>\n",
       "    </tr>\n",
       "    <tr>\n",
       "      <th>1</th>\n",
       "      <td>211</td>\n",
       "      <td>10</td>\n",
       "      <td>54335156396766</td>\n",
       "      <td>0.005339</td>\n",
       "      <td>81</td>\n",
       "      <td>41930800644</td>\n",
       "      <td>795508006</td>\n",
       "    </tr>\n",
       "    <tr>\n",
       "      <th>2</th>\n",
       "      <td>212</td>\n",
       "      <td>19</td>\n",
       "      <td>57680429746242</td>\n",
       "      <td>0.004764</td>\n",
       "      <td>100</td>\n",
       "      <td>44444415813</td>\n",
       "      <td>820644158</td>\n",
       "    </tr>\n",
       "    <tr>\n",
       "      <th>3</th>\n",
       "      <td>213</td>\n",
       "      <td>17</td>\n",
       "      <td>39988128646167</td>\n",
       "      <td>0.003134</td>\n",
       "      <td>113</td>\n",
       "      <td>35108072495</td>\n",
       "      <td>687680724</td>\n",
       "    </tr>\n",
       "    <tr>\n",
       "      <th>4</th>\n",
       "      <td>214</td>\n",
       "      <td>16</td>\n",
       "      <td>37882297876063</td>\n",
       "      <td>0.002831</td>\n",
       "      <td>114</td>\n",
       "      <td>31712032983</td>\n",
       "      <td>653720329</td>\n",
       "    </tr>\n",
       "  </tbody>\n",
       "</table>\n",
       "</div>"
      ],
      "text/plain": [
       "   epoch  blocks    active_stake  active_size  delegators_count      rewards  \\\n",
       "0    210       0  37220609681471     0.006144                66            0   \n",
       "1    211      10  54335156396766     0.005339                81  41930800644   \n",
       "2    212      19  57680429746242     0.004764               100  44444415813   \n",
       "3    213      17  39988128646167     0.003134               113  35108072495   \n",
       "4    214      16  37882297876063     0.002831               114  31712032983   \n",
       "\n",
       "        fees  \n",
       "0          0  \n",
       "1  795508006  \n",
       "2  820644158  \n",
       "3  687680724  \n",
       "4  653720329  "
      ]
     },
     "execution_count": 56,
     "metadata": {},
     "output_type": "execute_result"
    }
   ],
   "source": [
    "cardano_mainnet.stake_pool_history(pool_id)\n",
    "#or\n",
    "cardano_mainnet.stake_pool_history(pool_id,\n",
    "                                   pandas=True) # Optional: Return a pandas dataframe "
   ]
  },
  {
   "cell_type": "markdown",
   "metadata": {},
   "source": [
    "## Analysis\n",
    "___"
   ]
  },
  {
   "cell_type": "markdown",
   "metadata": {},
   "source": [
    "### Rewards history analysis"
   ]
  },
  {
   "cell_type": "code",
   "execution_count": 57,
   "metadata": {},
   "outputs": [
    {
     "name": "stdout",
     "output_type": "stream",
     "text": [
      "[INFO] Function stake_reward_history, 1 API calls.\n",
      "[INFO] Function stake_amount_history, 1 API calls.\n",
      "[INFO] Function param_stake_pool_history, 1 API calls.\n",
      "[INFO] Function epochs_history, 15 API calls.\n"
     ]
    },
    {
     "data": {
      "text/html": [
       "<div>\n",
       "<style scoped>\n",
       "    .dataframe tbody tr th:only-of-type {\n",
       "        vertical-align: middle;\n",
       "    }\n",
       "\n",
       "    .dataframe tbody tr th {\n",
       "        vertical-align: top;\n",
       "    }\n",
       "\n",
       "    .dataframe thead th {\n",
       "        text-align: right;\n",
       "    }\n",
       "</style>\n",
       "<table border=\"1\" class=\"dataframe\">\n",
       "  <thead>\n",
       "    <tr style=\"text-align: right;\">\n",
       "      <th></th>\n",
       "      <th>epoch</th>\n",
       "      <th>rewards_amount</th>\n",
       "      <th>stake_amount</th>\n",
       "      <th>pool_id</th>\n",
       "      <th>epoch_start_time</th>\n",
       "      <th>epoch_end_time</th>\n",
       "      <th>epoch_first_block_time</th>\n",
       "      <th>epoch_last_block_time</th>\n",
       "      <th>epoch_block_count</th>\n",
       "      <th>epoch_tx_count</th>\n",
       "      <th>epoch_output</th>\n",
       "      <th>epoch_fees</th>\n",
       "      <th>epoch_active_stake</th>\n",
       "      <th>stake_pool_blocks</th>\n",
       "      <th>stake_pool_active_stake</th>\n",
       "      <th>stake_pool_active_size</th>\n",
       "      <th>stake_pool_delegators_count</th>\n",
       "      <th>stake_pool_rewards</th>\n",
       "      <th>stake_pool_fees</th>\n",
       "    </tr>\n",
       "  </thead>\n",
       "  <tbody>\n",
       "    <tr>\n",
       "      <th>0</th>\n",
       "      <td>273</td>\n",
       "      <td>587159</td>\n",
       "      <td>998824863</td>\n",
       "      <td>pool1ekhy5xsgjaq38em75vevk8df0k0rljju77tljw288...</td>\n",
       "      <td>1624139091</td>\n",
       "      <td>1624571091</td>\n",
       "      <td>1624139124</td>\n",
       "      <td>1624571089</td>\n",
       "      <td>21464</td>\n",
       "      <td>150752</td>\n",
       "      <td>15740586909359854</td>\n",
       "      <td>32570360903</td>\n",
       "      <td>23075664958746578</td>\n",
       "      <td>39</td>\n",
       "      <td>47829822938326</td>\n",
       "      <td>0.002073</td>\n",
       "      <td>1120</td>\n",
       "      <td>28740378749</td>\n",
       "      <td>624003787</td>\n",
       "    </tr>\n",
       "    <tr>\n",
       "      <th>1</th>\n",
       "      <td>274</td>\n",
       "      <td>715853</td>\n",
       "      <td>998824863</td>\n",
       "      <td>pool1ekhy5xsgjaq38em75vevk8df0k0rljju77tljw288...</td>\n",
       "      <td>1624571091</td>\n",
       "      <td>1625003091</td>\n",
       "      <td>1624571155</td>\n",
       "      <td>1625003071</td>\n",
       "      <td>21521</td>\n",
       "      <td>133041</td>\n",
       "      <td>11764235372205745</td>\n",
       "      <td>28650900551</td>\n",
       "      <td>23094302016775953</td>\n",
       "      <td>50</td>\n",
       "      <td>50332107694676</td>\n",
       "      <td>0.002179</td>\n",
       "      <td>1174</td>\n",
       "      <td>36776812909</td>\n",
       "      <td>704368129</td>\n",
       "    </tr>\n",
       "    <tr>\n",
       "      <th>2</th>\n",
       "      <td>275</td>\n",
       "      <td>902199</td>\n",
       "      <td>1618824863</td>\n",
       "      <td>pool1ekhy5xsgjaq38em75vevk8df0k0rljju77tljw288...</td>\n",
       "      <td>1625003091</td>\n",
       "      <td>1625435091</td>\n",
       "      <td>1625003255</td>\n",
       "      <td>1625435086</td>\n",
       "      <td>21505</td>\n",
       "      <td>136339</td>\n",
       "      <td>13402253806474700</td>\n",
       "      <td>29088470734</td>\n",
       "      <td>23006172979540278</td>\n",
       "      <td>37</td>\n",
       "      <td>47430899220515</td>\n",
       "      <td>0.002062</td>\n",
       "      <td>1190</td>\n",
       "      <td>27005861046</td>\n",
       "      <td>606658610</td>\n",
       "    </tr>\n",
       "    <tr>\n",
       "      <th>3</th>\n",
       "      <td>276</td>\n",
       "      <td>824733</td>\n",
       "      <td>1619412022</td>\n",
       "      <td>pool1ekhy5xsgjaq38em75vevk8df0k0rljju77tljw288...</td>\n",
       "      <td>1625435091</td>\n",
       "      <td>1625867091</td>\n",
       "      <td>1625435146</td>\n",
       "      <td>1625867083</td>\n",
       "      <td>21298</td>\n",
       "      <td>144737</td>\n",
       "      <td>12581437590766031</td>\n",
       "      <td>30139500685</td>\n",
       "      <td>23092420021153886</td>\n",
       "      <td>33</td>\n",
       "      <td>46277458382635</td>\n",
       "      <td>0.002004</td>\n",
       "      <td>1204</td>\n",
       "      <td>24108337832</td>\n",
       "      <td>577683378</td>\n",
       "    </tr>\n",
       "    <tr>\n",
       "      <th>4</th>\n",
       "      <td>277</td>\n",
       "      <td>1056705</td>\n",
       "      <td>1620127875</td>\n",
       "      <td>pool1ekhy5xsgjaq38em75vevk8df0k0rljju77tljw288...</td>\n",
       "      <td>1625867091</td>\n",
       "      <td>1626299091</td>\n",
       "      <td>1625867167</td>\n",
       "      <td>1626299088</td>\n",
       "      <td>21323</td>\n",
       "      <td>135191</td>\n",
       "      <td>9892737538002395</td>\n",
       "      <td>28508156761</td>\n",
       "      <td>23196615273348567</td>\n",
       "      <td>41</td>\n",
       "      <td>45104996094565</td>\n",
       "      <td>0.001944</td>\n",
       "      <td>1221</td>\n",
       "      <td>30007226603</td>\n",
       "      <td>636672266</td>\n",
       "    </tr>\n",
       "  </tbody>\n",
       "</table>\n",
       "</div>"
      ],
      "text/plain": [
       "   epoch rewards_amount stake_amount  \\\n",
       "0    273         587159    998824863   \n",
       "1    274         715853    998824863   \n",
       "2    275         902199   1618824863   \n",
       "3    276         824733   1619412022   \n",
       "4    277        1056705   1620127875   \n",
       "\n",
       "                                             pool_id  epoch_start_time  \\\n",
       "0  pool1ekhy5xsgjaq38em75vevk8df0k0rljju77tljw288...        1624139091   \n",
       "1  pool1ekhy5xsgjaq38em75vevk8df0k0rljju77tljw288...        1624571091   \n",
       "2  pool1ekhy5xsgjaq38em75vevk8df0k0rljju77tljw288...        1625003091   \n",
       "3  pool1ekhy5xsgjaq38em75vevk8df0k0rljju77tljw288...        1625435091   \n",
       "4  pool1ekhy5xsgjaq38em75vevk8df0k0rljju77tljw288...        1625867091   \n",
       "\n",
       "   epoch_end_time  epoch_first_block_time  epoch_last_block_time  \\\n",
       "0      1624571091              1624139124             1624571089   \n",
       "1      1625003091              1624571155             1625003071   \n",
       "2      1625435091              1625003255             1625435086   \n",
       "3      1625867091              1625435146             1625867083   \n",
       "4      1626299091              1625867167             1626299088   \n",
       "\n",
       "   epoch_block_count  epoch_tx_count       epoch_output   epoch_fees  \\\n",
       "0              21464          150752  15740586909359854  32570360903   \n",
       "1              21521          133041  11764235372205745  28650900551   \n",
       "2              21505          136339  13402253806474700  29088470734   \n",
       "3              21298          144737  12581437590766031  30139500685   \n",
       "4              21323          135191   9892737538002395  28508156761   \n",
       "\n",
       "  epoch_active_stake  stake_pool_blocks stake_pool_active_stake  \\\n",
       "0  23075664958746578                 39          47829822938326   \n",
       "1  23094302016775953                 50          50332107694676   \n",
       "2  23006172979540278                 37          47430899220515   \n",
       "3  23092420021153886                 33          46277458382635   \n",
       "4  23196615273348567                 41          45104996094565   \n",
       "\n",
       "   stake_pool_active_size  stake_pool_delegators_count stake_pool_rewards  \\\n",
       "0                0.002073                         1120        28740378749   \n",
       "1                0.002179                         1174        36776812909   \n",
       "2                0.002062                         1190        27005861046   \n",
       "3                0.002004                         1204        24108337832   \n",
       "4                0.001944                         1221        30007226603   \n",
       "\n",
       "  stake_pool_fees  \n",
       "0       624003787  \n",
       "1       704368129  \n",
       "2       606658610  \n",
       "3       577683378  \n",
       "4       636672266  "
      ]
     },
     "execution_count": 57,
     "metadata": {},
     "output_type": "execute_result"
    }
   ],
   "source": [
    "cardano_mainnet.rewards_history_analysis(stake_address)\n",
    "#or\n",
    "cardano_mainnet.rewards_history_analysis(stake_address,\n",
    "                                         pandas=True). # Optional: Return a pandas dataframe "
   ]
  }
 ],
 "metadata": {
  "kernelspec": {
   "display_name": "Python 3",
   "language": "python",
   "name": "python3"
  },
  "language_info": {
   "codemirror_mode": {
    "name": "ipython",
    "version": 3
   },
   "file_extension": ".py",
   "mimetype": "text/x-python",
   "name": "python",
   "nbconvert_exporter": "python",
   "pygments_lexer": "ipython3",
   "version": "3.8.0"
  }
 },
 "nbformat": 4,
 "nbformat_minor": 4
}
