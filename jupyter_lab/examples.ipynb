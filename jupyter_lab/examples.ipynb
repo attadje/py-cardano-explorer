{
 "cells": [
  {
   "cell_type": "code",
   "execution_count": 1,
   "metadata": {},
   "outputs": [],
   "source": [
    "from cardano_explorer import blockfrost_api"
   ]
  },
  {
   "cell_type": "code",
   "execution_count": 2,
   "metadata": {},
   "outputs": [
    {
     "name": "stdout",
     "output_type": "stream",
     "text": [
      "env: BLOCKFROST_API_KEY=iSXrfNxhpPChKCnts2KX9MJ1eQ7exYgb\n"
     ]
    }
   ],
   "source": [
    "%env BLOCKFROST_API_KEY=iSXrfNxhpPChKCnts2KX9MJ1eQ7exYgb"
   ]
  },
  {
   "cell_type": "code",
   "execution_count": 3,
   "metadata": {},
   "outputs": [],
   "source": [
    "cardano_mainnet = blockfrost_api.Auth()"
   ]
  },
  {
   "cell_type": "code",
   "execution_count": 5,
   "metadata": {},
   "outputs": [
    {
     "data": {
      "text/plain": [
       "{'epoch': 200,\n",
       " 'start_time': 1592603091,\n",
       " 'end_time': 1593035091,\n",
       " 'first_block_time': 1592603091,\n",
       " 'last_block_time': 1593035071,\n",
       " 'block_count': 21600,\n",
       " 'tx_count': 18045,\n",
       " 'output': '29643885158522833',\n",
       " 'fees': '6282045146',\n",
       " 'active_stake': None}"
      ]
     },
     "execution_count": 5,
     "metadata": {},
     "output_type": "execute_result"
    }
   ],
   "source": [
    "cardano_mainnet.specific_epoch(200)"
   ]
  },
  {
   "cell_type": "code",
   "execution_count": 7,
   "metadata": {},
   "outputs": [
    {
     "name": "stdout",
     "output_type": "stream",
     "text": [
      "[INFO] Function stake_reward_history, 1 API calls.\n"
     ]
    },
    {
     "data": {
      "text/html": [
       "<div>\n",
       "<style scoped>\n",
       "    .dataframe tbody tr th:only-of-type {\n",
       "        vertical-align: middle;\n",
       "    }\n",
       "\n",
       "    .dataframe tbody tr th {\n",
       "        vertical-align: top;\n",
       "    }\n",
       "\n",
       "    .dataframe thead th {\n",
       "        text-align: right;\n",
       "    }\n",
       "</style>\n",
       "<table border=\"1\" class=\"dataframe\">\n",
       "  <thead>\n",
       "    <tr style=\"text-align: right;\">\n",
       "      <th></th>\n",
       "      <th>epoch</th>\n",
       "      <th>amount</th>\n",
       "      <th>pool_id</th>\n",
       "    </tr>\n",
       "  </thead>\n",
       "  <tbody>\n",
       "    <tr>\n",
       "      <th>0</th>\n",
       "      <td>273</td>\n",
       "      <td>587159</td>\n",
       "      <td>pool1ekhy5xsgjaq38em75vevk8df0k0rljju77tljw288...</td>\n",
       "    </tr>\n",
       "    <tr>\n",
       "      <th>1</th>\n",
       "      <td>274</td>\n",
       "      <td>715853</td>\n",
       "      <td>pool1ekhy5xsgjaq38em75vevk8df0k0rljju77tljw288...</td>\n",
       "    </tr>\n",
       "    <tr>\n",
       "      <th>2</th>\n",
       "      <td>275</td>\n",
       "      <td>902199</td>\n",
       "      <td>pool1ekhy5xsgjaq38em75vevk8df0k0rljju77tljw288...</td>\n",
       "    </tr>\n",
       "    <tr>\n",
       "      <th>3</th>\n",
       "      <td>276</td>\n",
       "      <td>824733</td>\n",
       "      <td>pool1ekhy5xsgjaq38em75vevk8df0k0rljju77tljw288...</td>\n",
       "    </tr>\n",
       "    <tr>\n",
       "      <th>4</th>\n",
       "      <td>277</td>\n",
       "      <td>1056705</td>\n",
       "      <td>pool1ekhy5xsgjaq38em75vevk8df0k0rljju77tljw288...</td>\n",
       "    </tr>\n",
       "    <tr>\n",
       "      <th>5</th>\n",
       "      <td>278</td>\n",
       "      <td>1192163</td>\n",
       "      <td>pool1ekhy5xsgjaq38em75vevk8df0k0rljju77tljw288...</td>\n",
       "    </tr>\n",
       "    <tr>\n",
       "      <th>6</th>\n",
       "      <td>279</td>\n",
       "      <td>1397178</td>\n",
       "      <td>pool1ekhy5xsgjaq38em75vevk8df0k0rljju77tljw288...</td>\n",
       "    </tr>\n",
       "    <tr>\n",
       "      <th>7</th>\n",
       "      <td>280</td>\n",
       "      <td>1695805</td>\n",
       "      <td>pool1ekhy5xsgjaq38em75vevk8df0k0rljju77tljw288...</td>\n",
       "    </tr>\n",
       "    <tr>\n",
       "      <th>8</th>\n",
       "      <td>281</td>\n",
       "      <td>1456345</td>\n",
       "      <td>pool1ekhy5xsgjaq38em75vevk8df0k0rljju77tljw288...</td>\n",
       "    </tr>\n",
       "    <tr>\n",
       "      <th>9</th>\n",
       "      <td>282</td>\n",
       "      <td>1587885</td>\n",
       "      <td>pool1ekhy5xsgjaq38em75vevk8df0k0rljju77tljw288...</td>\n",
       "    </tr>\n",
       "    <tr>\n",
       "      <th>10</th>\n",
       "      <td>283</td>\n",
       "      <td>1800693</td>\n",
       "      <td>pool1ekhy5xsgjaq38em75vevk8df0k0rljju77tljw288...</td>\n",
       "    </tr>\n",
       "    <tr>\n",
       "      <th>11</th>\n",
       "      <td>284</td>\n",
       "      <td>1677728</td>\n",
       "      <td>pool1ekhy5xsgjaq38em75vevk8df0k0rljju77tljw288...</td>\n",
       "    </tr>\n",
       "    <tr>\n",
       "      <th>12</th>\n",
       "      <td>285</td>\n",
       "      <td>2219942</td>\n",
       "      <td>pool1ekhy5xsgjaq38em75vevk8df0k0rljju77tljw288...</td>\n",
       "    </tr>\n",
       "    <tr>\n",
       "      <th>13</th>\n",
       "      <td>286</td>\n",
       "      <td>1832168</td>\n",
       "      <td>pool1ekhy5xsgjaq38em75vevk8df0k0rljju77tljw288...</td>\n",
       "    </tr>\n",
       "  </tbody>\n",
       "</table>\n",
       "</div>"
      ],
      "text/plain": [
       "    epoch   amount                                            pool_id\n",
       "0     273   587159  pool1ekhy5xsgjaq38em75vevk8df0k0rljju77tljw288...\n",
       "1     274   715853  pool1ekhy5xsgjaq38em75vevk8df0k0rljju77tljw288...\n",
       "2     275   902199  pool1ekhy5xsgjaq38em75vevk8df0k0rljju77tljw288...\n",
       "3     276   824733  pool1ekhy5xsgjaq38em75vevk8df0k0rljju77tljw288...\n",
       "4     277  1056705  pool1ekhy5xsgjaq38em75vevk8df0k0rljju77tljw288...\n",
       "5     278  1192163  pool1ekhy5xsgjaq38em75vevk8df0k0rljju77tljw288...\n",
       "6     279  1397178  pool1ekhy5xsgjaq38em75vevk8df0k0rljju77tljw288...\n",
       "7     280  1695805  pool1ekhy5xsgjaq38em75vevk8df0k0rljju77tljw288...\n",
       "8     281  1456345  pool1ekhy5xsgjaq38em75vevk8df0k0rljju77tljw288...\n",
       "9     282  1587885  pool1ekhy5xsgjaq38em75vevk8df0k0rljju77tljw288...\n",
       "10    283  1800693  pool1ekhy5xsgjaq38em75vevk8df0k0rljju77tljw288...\n",
       "11    284  1677728  pool1ekhy5xsgjaq38em75vevk8df0k0rljju77tljw288...\n",
       "12    285  2219942  pool1ekhy5xsgjaq38em75vevk8df0k0rljju77tljw288...\n",
       "13    286  1832168  pool1ekhy5xsgjaq38em75vevk8df0k0rljju77tljw288..."
      ]
     },
     "execution_count": 7,
     "metadata": {},
     "output_type": "execute_result"
    }
   ],
   "source": [
    "cardano_mainnet.stake_reward_history('stake1uyttshgm6jtejckv48tll58hfw3fg2ffrcc4d5qvcc4yc7q9jsalf', nb_of_results=100, pandas=True)"
   ]
  },
  {
   "cell_type": "code",
   "execution_count": 9,
   "metadata": {},
   "outputs": [],
   "source": [
    "assert(None == None), 'teste'"
   ]
  },
  {
   "cell_type": "code",
   "execution_count": 12,
   "metadata": {},
   "outputs": [],
   "source": [
    "teste = 100%100\n",
    "if 100%100 != 0:\n",
    "    print('3')"
   ]
  },
  {
   "cell_type": "code",
   "execution_count": 10,
   "metadata": {},
   "outputs": [
    {
     "name": "stdout",
     "output_type": "stream",
     "text": [
      "0\n"
     ]
    }
   ],
   "source": [
    "print(100%100)"
   ]
  },
  {
   "cell_type": "code",
   "execution_count": null,
   "metadata": {},
   "outputs": [],
   "source": []
  }
 ],
 "metadata": {
  "kernelspec": {
   "display_name": "Python 3",
   "language": "python",
   "name": "python3"
  },
  "language_info": {
   "codemirror_mode": {
    "name": "ipython",
    "version": 3
   },
   "file_extension": ".py",
   "mimetype": "text/x-python",
   "name": "python",
   "nbconvert_exporter": "python",
   "pygments_lexer": "ipython3",
   "version": "3.8.0"
  }
 },
 "nbformat": 4,
 "nbformat_minor": 4
}
