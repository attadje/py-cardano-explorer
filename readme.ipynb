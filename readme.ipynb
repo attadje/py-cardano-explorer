{
 "cells": [
  {
   "cell_type": "code",
   "execution_count": 1,
   "metadata": {
    "jupyter": {
     "source_hidden": true
    }
   },
   "outputs": [],
   "source": [
    "import os"
   ]
  },
  {
   "cell_type": "code",
   "execution_count": 2,
   "metadata": {
    "collapsed": true,
    "jupyter": {
     "outputs_hidden": true,
     "source_hidden": true
    }
   },
   "outputs": [
    {
     "name": "stdout",
     "output_type": "stream",
     "text": [
      "env: BLOCKFROST_API_KEY=iSXrfNxhpPChKCnts2KX9MJ1eQ7exYgb\n"
     ]
    }
   ],
   "source": [
    "%env BLOCKFROST_API_KEY=iSXrfNxhpPChKCnts2KX9MJ1eQ7exYgb"
   ]
  },
  {
   "cell_type": "code",
   "execution_count": 3,
   "metadata": {
    "jupyter": {
     "source_hidden": true
    }
   },
   "outputs": [],
   "source": [
    "stake_address = 'stake1uyzxex6t9ct3mssa5em4sfu028gj46mjcakrel8rjtn9n8gf90st6'\n",
    "address = 'addr1q8z24xgrlj3m2qjh2vxyqg2fh33y3tegufkll5c4lu8u35gkhpw3h4yhn93ve2whllg0wjazjs5jj8332mgqe332f3uq8m7m6h'\n",
    "pool_id = \"pool1ekhy5xsgjaq38em75vevk8df0k0rljju77tljw288ys5kumqce5\"\n",
    "api_key = os.getenv('BLOCKFROST_API_KEY')"
   ]
  },
  {
   "cell_type": "markdown",
   "metadata": {},
   "source": [
    "<br />\n",
    "\n",
    "**Table of contents**\n",
    "- [Install](#Install)\n",
    "- [Usage](#Usage)\n",
    "- [Api Key](#Api-Key)\n",
    "- [Using With Proxy](#Using-With-Proxy)\n",
    "- [Network](#Network)\n",
    "  * [Stake Informations](#Stak-Informations)\n",
    "- [Stake](#Stake)\n",
    "  * [Stake Informations](#Stake-Informations)\n",
    "  * [Stake Reward History](#Stake-Reward-History)\n",
    "  * [Stake Amount History](#Stake-Amount-History)\n",
    "  * [Stake Delegation History](#Stake-Delegation-History)\n",
    "  * [Stake Registrations And Deregistrations History](#Stake-Registrations-And-Deregistrations-History)\n",
    "  * [Stake Withdrawal History](#Stake-Withdrawal-History)\n",
    "  * [Stake MIR History](#Stake-MIR-History)\n",
    "  * [Stake Associated Addresses](#Stake-Associated-Addresses)\n",
    "  * [Stake Assets Associated Addresses](#Stake-Assets-Associated-Addresses)\n",
    "- [Address](#Address)\n",
    "  * [Specific Address](#Specific-Address)\n",
    "  * [Address Details](#Address-Details)\n",
    "  * [Address UTXOs](#Address-UTXOs)\n",
    "  * [Address Transactions](#Address-Transactions)\n",
    "- [Epoch](#Epoch)\n",
    "  * [Latest Epoch](#Latest-Epoch)\n",
    "  * [Latest Epoch Protocol Parameters](#Latest-Epoch-Protocol-Parameters)\n",
    "  * [Specific Epoch](#Specific-Epoch)\n",
    "  * [Epochs History](#Epochs-History)\n",
    "- [Pool](#Pool)\n",
    "  * [List Of Stake Pools](#List-Of-Stake-Pools)\n",
    "  * [Specific Stake Pool Informations](#Specific-Stake-Pool-Informations)\n",
    "  * [Epochs History](#Epochs-History)\n",
    "  * [Stake Pool History](#Stake-Pool-History)\n",
    "- [Data Analysis](#Data-Analysis)\n",
    "  * [Rewards History Analysis](#Rewards-History-Analysis)\n",
    "\n",
    "<br />"
   ]
  },
  {
   "cell_type": "markdown",
   "metadata": {},
   "source": [
    "## Install\n",
    "___"
   ]
  },
  {
   "cell_type": "markdown",
   "metadata": {},
   "source": [
    "pip3 install cardano_explorer"
   ]
  },
  {
   "cell_type": "markdown",
   "metadata": {},
   "source": [
    "## Usage\n",
    "___"
   ]
  },
  {
   "cell_type": "code",
   "execution_count": 4,
   "metadata": {},
   "outputs": [],
   "source": [
    "from cardano_explorer import blockfrost_api"
   ]
  },
  {
   "cell_type": "markdown",
   "metadata": {},
   "source": [
    "## Api Key\n",
    "___\n",
    "If you have an API key, you can either set it as environment variable **BLOCKFROST_API_KEY** or set it manually."
   ]
  },
  {
   "cell_type": "code",
   "execution_count": 5,
   "metadata": {},
   "outputs": [],
   "source": [
    "cardano_mainnet = blockfrost_api.Auth()\n",
    "#or\n",
    "cardano_mainnet = blockfrost_api.Auth(api_key=api_key)"
   ]
  },
  {
   "cell_type": "markdown",
   "metadata": {},
   "source": [
    "## Using with proxy\n",
    "___"
   ]
  },
  {
   "cell_type": "code",
   "execution_count": null,
   "metadata": {},
   "outputs": [],
   "source": [
    "proxies = {\n",
    " \"http\": \"http://@:port\",\n",
    " \"https\": \"https://@:port\",\n",
    "}\n",
    "\n",
    "cardano_mainnet = blockfrost_api.Auth(proxies=proxies)"
   ]
  },
  {
   "cell_type": "markdown",
   "metadata": {},
   "source": [
    "## Network\n",
    "You can specify the cardano network with the class parameter **network**."
   ]
  },
  {
   "cell_type": "code",
   "execution_count": 6,
   "metadata": {},
   "outputs": [],
   "source": [
    "cardano_mainnet = blockfrost_api.Auth() # mainnet bu default\n",
    "#or\n",
    "cardano_mainnet = blockfrost_api.Auth(network='mainnet')\n",
    "#or\n",
    "cardano_mainnet = blockfrost_api.Auth(network='testnet')"
   ]
  },
  {
   "cell_type": "markdown",
   "metadata": {},
   "source": [
    "## Network\n",
    "___"
   ]
  },
  {
   "cell_type": "markdown",
   "metadata": {},
   "source": [
    "### Network Informations\n",
    "Return detailed about the network."
   ]
  },
  {
   "cell_type": "code",
   "execution_count": 13,
   "metadata": {},
   "outputs": [
    {
     "data": {
      "text/plain": [
       "{'supply': {'max': '45000000000000000',\n",
       "  'total': '33117618880452547',\n",
       "  'circulating': '32830008455508086'},\n",
       " 'stake': {'live': '23250056607793135', 'active': '23311196777534712'}}"
      ]
     },
     "execution_count": 13,
     "metadata": {},
     "output_type": "execute_result"
    }
   ],
   "source": [
    "cardano_mainnet.network_info()"
   ]
  },
  {
   "cell_type": "markdown",
   "metadata": {},
   "source": [
    "## Stake\n",
    "___"
   ]
  },
  {
   "cell_type": "markdown",
   "metadata": {},
   "source": [
    "### Stake Informations\n",
    "Obtain information about a specific stake account."
   ]
  },
  {
   "cell_type": "code",
   "execution_count": 14,
   "metadata": {},
   "outputs": [
    {
     "data": {
      "text/plain": [
       "{'stake_address': 'stake1uyttshgm6jtejckv48tll58hfw3fg2ffrcc4d5qvcc4yc7q9jsalf',\n",
       " 'active': True,\n",
       " 'active_epoch': 271,\n",
       " 'controlled_amount': '3002782240',\n",
       " 'rewards_sum': '21216846',\n",
       " 'withdrawals_sum': '0',\n",
       " 'reserves_sum': '97317',\n",
       " 'treasury_sum': '0',\n",
       " 'withdrawable_amount': '21314163',\n",
       " 'pool_id': 'pool1ekhy5xsgjaq38em75vevk8df0k0rljju77tljw288ys5kumqce5'}"
      ]
     },
     "execution_count": 14,
     "metadata": {},
     "output_type": "execute_result"
    }
   ],
   "source": [
    "cardano_mainnet.stake_informations(stake_address)"
   ]
  },
  {
   "cell_type": "markdown",
   "metadata": {},
   "source": [
    "### Stake Reward History \n",
    "Obtain information about the reward history of a specific account."
   ]
  },
  {
   "cell_type": "code",
   "execution_count": 26,
   "metadata": {},
   "outputs": [
    {
     "name": "stdout",
     "output_type": "stream",
     "text": [
      "[INFO] Function stake_reward_history, 1 API calls.\n",
      "[INFO] Function stake_reward_history, 1 API calls.\n"
     ]
    },
    {
     "data": {
      "text/html": [
       "<div>\n",
       "<style scoped>\n",
       "    .dataframe tbody tr th:only-of-type {\n",
       "        vertical-align: middle;\n",
       "    }\n",
       "\n",
       "    .dataframe tbody tr th {\n",
       "        vertical-align: top;\n",
       "    }\n",
       "\n",
       "    .dataframe thead th {\n",
       "        text-align: right;\n",
       "    }\n",
       "</style>\n",
       "<table border=\"1\" class=\"dataframe\">\n",
       "  <thead>\n",
       "    <tr style=\"text-align: right;\">\n",
       "      <th></th>\n",
       "      <th>epoch</th>\n",
       "      <th>amount</th>\n",
       "      <th>pool_id</th>\n",
       "    </tr>\n",
       "  </thead>\n",
       "  <tbody>\n",
       "    <tr>\n",
       "      <th>0</th>\n",
       "      <td>242</td>\n",
       "      <td>879367</td>\n",
       "      <td>pool1u7mqtde27swkarngjsn5mmw3sy20zavlafgqkmg8q...</td>\n",
       "    </tr>\n",
       "    <tr>\n",
       "      <th>1</th>\n",
       "      <td>243</td>\n",
       "      <td>970119</td>\n",
       "      <td>pool1u7mqtde27swkarngjsn5mmw3sy20zavlafgqkmg8q...</td>\n",
       "    </tr>\n",
       "    <tr>\n",
       "      <th>2</th>\n",
       "      <td>244</td>\n",
       "      <td>1164610</td>\n",
       "      <td>pool1u7mqtde27swkarngjsn5mmw3sy20zavlafgqkmg8q...</td>\n",
       "    </tr>\n",
       "    <tr>\n",
       "      <th>3</th>\n",
       "      <td>245</td>\n",
       "      <td>1228869</td>\n",
       "      <td>pool1u7mqtde27swkarngjsn5mmw3sy20zavlafgqkmg8q...</td>\n",
       "    </tr>\n",
       "    <tr>\n",
       "      <th>4</th>\n",
       "      <td>246</td>\n",
       "      <td>857871</td>\n",
       "      <td>pool1u7mqtde27swkarngjsn5mmw3sy20zavlafgqkmg8q...</td>\n",
       "    </tr>\n",
       "  </tbody>\n",
       "</table>\n",
       "</div>"
      ],
      "text/plain": [
       "   epoch   amount                                            pool_id\n",
       "0    242   879367  pool1u7mqtde27swkarngjsn5mmw3sy20zavlafgqkmg8q...\n",
       "1    243   970119  pool1u7mqtde27swkarngjsn5mmw3sy20zavlafgqkmg8q...\n",
       "2    244  1164610  pool1u7mqtde27swkarngjsn5mmw3sy20zavlafgqkmg8q...\n",
       "3    245  1228869  pool1u7mqtde27swkarngjsn5mmw3sy20zavlafgqkmg8q...\n",
       "4    246   857871  pool1u7mqtde27swkarngjsn5mmw3sy20zavlafgqkmg8q..."
      ]
     },
     "execution_count": 26,
     "metadata": {},
     "output_type": "execute_result"
    }
   ],
   "source": [
    "cardano_mainnet.stake_reward_history(stake_address) \n",
    "#or      \n",
    "cardano_mainnet.stake_reward_history(stake_address, \n",
    "                                     data_order='asc', # Optional: Data order (default: Ascending)\n",
    "                                     nb_of_results=100, # Optional: Return max 100 results at the time (default: None), None for get all the data available.\n",
    "                                     pandas=True). # Optional: Return a pandas dataframe"
   ]
  },
  {
   "cell_type": "markdown",
   "metadata": {},
   "source": [
    "### Stake Amount History \n",
    "Obtain information about the history of a specific account."
   ]
  },
  {
   "cell_type": "code",
   "execution_count": 27,
   "metadata": {},
   "outputs": [
    {
     "name": "stdout",
     "output_type": "stream",
     "text": [
      "[INFO] Function stake_amount_history, 1 API calls.\n",
      "[INFO] Function stake_amount_history, 1 API calls.\n"
     ]
    },
    {
     "data": {
      "text/html": [
       "<div>\n",
       "<style scoped>\n",
       "    .dataframe tbody tr th:only-of-type {\n",
       "        vertical-align: middle;\n",
       "    }\n",
       "\n",
       "    .dataframe tbody tr th {\n",
       "        vertical-align: top;\n",
       "    }\n",
       "\n",
       "    .dataframe thead th {\n",
       "        text-align: right;\n",
       "    }\n",
       "</style>\n",
       "<table border=\"1\" class=\"dataframe\">\n",
       "  <thead>\n",
       "    <tr style=\"text-align: right;\">\n",
       "      <th></th>\n",
       "      <th>active_epoch</th>\n",
       "      <th>amount</th>\n",
       "      <th>pool_id</th>\n",
       "    </tr>\n",
       "  </thead>\n",
       "  <tbody>\n",
       "    <tr>\n",
       "      <th>0</th>\n",
       "      <td>242</td>\n",
       "      <td>1424619058</td>\n",
       "      <td>pool1u7mqtde27swkarngjsn5mmw3sy20zavlafgqkmg8q...</td>\n",
       "    </tr>\n",
       "    <tr>\n",
       "      <th>1</th>\n",
       "      <td>243</td>\n",
       "      <td>1424619058</td>\n",
       "      <td>pool1u7mqtde27swkarngjsn5mmw3sy20zavlafgqkmg8q...</td>\n",
       "    </tr>\n",
       "    <tr>\n",
       "      <th>2</th>\n",
       "      <td>244</td>\n",
       "      <td>1424619058</td>\n",
       "      <td>pool1u7mqtde27swkarngjsn5mmw3sy20zavlafgqkmg8q...</td>\n",
       "    </tr>\n",
       "    <tr>\n",
       "      <th>3</th>\n",
       "      <td>245</td>\n",
       "      <td>1425498425</td>\n",
       "      <td>pool1u7mqtde27swkarngjsn5mmw3sy20zavlafgqkmg8q...</td>\n",
       "    </tr>\n",
       "    <tr>\n",
       "      <th>4</th>\n",
       "      <td>246</td>\n",
       "      <td>1426468544</td>\n",
       "      <td>pool1u7mqtde27swkarngjsn5mmw3sy20zavlafgqkmg8q...</td>\n",
       "    </tr>\n",
       "  </tbody>\n",
       "</table>\n",
       "</div>"
      ],
      "text/plain": [
       "   active_epoch      amount                                            pool_id\n",
       "0           242  1424619058  pool1u7mqtde27swkarngjsn5mmw3sy20zavlafgqkmg8q...\n",
       "1           243  1424619058  pool1u7mqtde27swkarngjsn5mmw3sy20zavlafgqkmg8q...\n",
       "2           244  1424619058  pool1u7mqtde27swkarngjsn5mmw3sy20zavlafgqkmg8q...\n",
       "3           245  1425498425  pool1u7mqtde27swkarngjsn5mmw3sy20zavlafgqkmg8q...\n",
       "4           246  1426468544  pool1u7mqtde27swkarngjsn5mmw3sy20zavlafgqkmg8q..."
      ]
     },
     "execution_count": 27,
     "metadata": {},
     "output_type": "execute_result"
    }
   ],
   "source": [
    "cardano_mainnet.stake_amount_history(stake_address)\n",
    "#or                        \n",
    "cardano_mainnet.stake_amount_history(stake_address, \n",
    "                                     data_order='asc', # Optional: Data order (default: Ascending)\n",
    "                                     nb_of_results=100, # Optional: Return max 100 results at the time (default: None), None for get all the data available.\n",
    "                                     pandas=True) # Optional: Return a pandas dataframe"
   ]
  },
  {
   "cell_type": "markdown",
   "metadata": {},
   "source": [
    "### Stake Delegation History\n",
    "Obtain information about the delegation of a specific account."
   ]
  },
  {
   "cell_type": "code",
   "execution_count": 28,
   "metadata": {},
   "outputs": [
    {
     "name": "stdout",
     "output_type": "stream",
     "text": [
      "[INFO] Function stake_delegation, 1 API calls.\n",
      "[INFO] Function stake_delegation, 1 API calls.\n"
     ]
    },
    {
     "data": {
      "text/html": [
       "<div>\n",
       "<style scoped>\n",
       "    .dataframe tbody tr th:only-of-type {\n",
       "        vertical-align: middle;\n",
       "    }\n",
       "\n",
       "    .dataframe tbody tr th {\n",
       "        vertical-align: top;\n",
       "    }\n",
       "\n",
       "    .dataframe thead th {\n",
       "        text-align: right;\n",
       "    }\n",
       "</style>\n",
       "<table border=\"1\" class=\"dataframe\">\n",
       "  <thead>\n",
       "    <tr style=\"text-align: right;\">\n",
       "      <th></th>\n",
       "      <th>active_epoch</th>\n",
       "      <th>tx_hash</th>\n",
       "      <th>amount</th>\n",
       "      <th>pool_id</th>\n",
       "    </tr>\n",
       "  </thead>\n",
       "  <tbody>\n",
       "    <tr>\n",
       "      <th>0</th>\n",
       "      <td>242</td>\n",
       "      <td>b602262e1264dabd6c10747415558934d196834d7c7dea...</td>\n",
       "      <td>747625479</td>\n",
       "      <td>pool1u7mqtde27swkarngjsn5mmw3sy20zavlafgqkmg8q...</td>\n",
       "    </tr>\n",
       "    <tr>\n",
       "      <th>1</th>\n",
       "      <td>248</td>\n",
       "      <td>5822a3b2ebc0a45426aff524e5a0fd2bf7906f671e875a...</td>\n",
       "      <td>747452454</td>\n",
       "      <td>pool1m62sl6rauje9cknrkhwl39tc4hujudkd7gp478dpz...</td>\n",
       "    </tr>\n",
       "    <tr>\n",
       "      <th>2</th>\n",
       "      <td>259</td>\n",
       "      <td>2c0c3c2123b74b926d2b6969ea21f49ae92861acecf2b8...</td>\n",
       "      <td>21263559</td>\n",
       "      <td>pool1lurfk0k0wwx54hlg8a7zp3jtstu57u59aeq7aketl...</td>\n",
       "    </tr>\n",
       "  </tbody>\n",
       "</table>\n",
       "</div>"
      ],
      "text/plain": [
       "   active_epoch                                            tx_hash     amount  \\\n",
       "0           242  b602262e1264dabd6c10747415558934d196834d7c7dea...  747625479   \n",
       "1           248  5822a3b2ebc0a45426aff524e5a0fd2bf7906f671e875a...  747452454   \n",
       "2           259  2c0c3c2123b74b926d2b6969ea21f49ae92861acecf2b8...   21263559   \n",
       "\n",
       "                                             pool_id  \n",
       "0  pool1u7mqtde27swkarngjsn5mmw3sy20zavlafgqkmg8q...  \n",
       "1  pool1m62sl6rauje9cknrkhwl39tc4hujudkd7gp478dpz...  \n",
       "2  pool1lurfk0k0wwx54hlg8a7zp3jtstu57u59aeq7aketl...  "
      ]
     },
     "execution_count": 28,
     "metadata": {},
     "output_type": "execute_result"
    }
   ],
   "source": [
    "cardano_mainnet.stake_delegation(stake_address)\n",
    "#or\n",
    "cardano_mainnet.stake_delegation(stake_address, \n",
    "                                 data_order='asc', # Optional: Data order (default: Ascending)\n",
    "                                 nb_of_results=100, # Optional: Return max 100 results at the time (default: None), None for get all the data available.\n",
    "                                 pandas=True) # Optional: Return a pandas dataframe"
   ]
  },
  {
   "cell_type": "markdown",
   "metadata": {},
   "source": [
    "### Stake Registrations And Deregistrations History\n",
    "Obtain information about the registrations and deregistrations of a specific account."
   ]
  },
  {
   "cell_type": "code",
   "execution_count": 29,
   "metadata": {},
   "outputs": [
    {
     "name": "stdout",
     "output_type": "stream",
     "text": [
      "[INFO] Function stake_registration_deregistrations, 1 API calls.\n",
      "[INFO] Function stake_registration_deregistrations, 1 API calls.\n"
     ]
    },
    {
     "data": {
      "text/html": [
       "<div>\n",
       "<style scoped>\n",
       "    .dataframe tbody tr th:only-of-type {\n",
       "        vertical-align: middle;\n",
       "    }\n",
       "\n",
       "    .dataframe tbody tr th {\n",
       "        vertical-align: top;\n",
       "    }\n",
       "\n",
       "    .dataframe thead th {\n",
       "        text-align: right;\n",
       "    }\n",
       "</style>\n",
       "<table border=\"1\" class=\"dataframe\">\n",
       "  <thead>\n",
       "    <tr style=\"text-align: right;\">\n",
       "      <th></th>\n",
       "      <th>tx_hash</th>\n",
       "      <th>action</th>\n",
       "    </tr>\n",
       "  </thead>\n",
       "  <tbody>\n",
       "    <tr>\n",
       "      <th>0</th>\n",
       "      <td>b602262e1264dabd6c10747415558934d196834d7c7dea...</td>\n",
       "      <td>registered</td>\n",
       "    </tr>\n",
       "  </tbody>\n",
       "</table>\n",
       "</div>"
      ],
      "text/plain": [
       "                                             tx_hash      action\n",
       "0  b602262e1264dabd6c10747415558934d196834d7c7dea...  registered"
      ]
     },
     "execution_count": 29,
     "metadata": {},
     "output_type": "execute_result"
    }
   ],
   "source": [
    "cardano_mainnet.stake_registration_deregistrations(stake_address)\n",
    "#or\n",
    "cardano_mainnet.stake_registration_deregistrations(stake_address, \n",
    "                                                   data_order='asc', # Optional: Data order (default: Ascending)\n",
    "                                                   nb_of_results=100, # Optional: Return max 100 results at the time (default: None), None for get all the data available.\n",
    "                                                   pandas=True) # Optional: Return a pandas dataframe"
   ]
  },
  {
   "cell_type": "markdown",
   "metadata": {},
   "source": [
    "### Stake Withdrawal History\n",
    "Obtain information about the withdrawals of a specific account."
   ]
  },
  {
   "cell_type": "code",
   "execution_count": 22,
   "metadata": {},
   "outputs": [
    {
     "name": "stdout",
     "output_type": "stream",
     "text": [
      "[INFO] Function stake_withdrawal_history, 1 API calls.\n",
      "[INFO] Function stake_withdrawal_history, 1 API calls.\n"
     ]
    },
    {
     "data": {
      "text/html": [
       "<div>\n",
       "<style scoped>\n",
       "    .dataframe tbody tr th:only-of-type {\n",
       "        vertical-align: middle;\n",
       "    }\n",
       "\n",
       "    .dataframe tbody tr th {\n",
       "        vertical-align: top;\n",
       "    }\n",
       "\n",
       "    .dataframe thead th {\n",
       "        text-align: right;\n",
       "    }\n",
       "</style>\n",
       "<table border=\"1\" class=\"dataframe\">\n",
       "  <thead>\n",
       "    <tr style=\"text-align: right;\">\n",
       "      <th></th>\n",
       "      <th>tx_hash</th>\n",
       "      <th>amount</th>\n",
       "    </tr>\n",
       "  </thead>\n",
       "  <tbody>\n",
       "    <tr>\n",
       "      <th>0</th>\n",
       "      <td>80b09b61d2da86f5847d0b9a5f72d32224fcd7e1aa1716...</td>\n",
       "      <td>21239707</td>\n",
       "    </tr>\n",
       "  </tbody>\n",
       "</table>\n",
       "</div>"
      ],
      "text/plain": [
       "                                             tx_hash    amount\n",
       "0  80b09b61d2da86f5847d0b9a5f72d32224fcd7e1aa1716...  21239707"
      ]
     },
     "execution_count": 22,
     "metadata": {},
     "output_type": "execute_result"
    }
   ],
   "source": [
    "cardano_mainnet.stake_withdrawal_history(stake_adress)\n",
    "#or\n",
    "cardano_mainnet.stake_withdrawal_history(stake_address, \n",
    "                                         data_order='asc', # Optional: Data order (default: Ascending)\n",
    "                                         nb_of_results=100, # Optional: Return max 100 results at the time (default: None), None for get all the data available.\n",
    "                                         pandas=True) # Optional: Return a pandas dataframe"
   ]
  },
  {
   "cell_type": "markdown",
   "metadata": {},
   "source": [
    "### Stake MIR History\n",
    "Obtain information about the MIRs of a specific account."
   ]
  },
  {
   "cell_type": "code",
   "execution_count": 7,
   "metadata": {},
   "outputs": [
    {
     "name": "stdout",
     "output_type": "stream",
     "text": [
      "[INFO] Function stake_mir_history, 1 API calls.\n",
      "[INFO] Function stake_mir_history, 1 API calls.\n"
     ]
    },
    {
     "data": {
      "text/html": [
       "<div>\n",
       "<style scoped>\n",
       "    .dataframe tbody tr th:only-of-type {\n",
       "        vertical-align: middle;\n",
       "    }\n",
       "\n",
       "    .dataframe tbody tr th {\n",
       "        vertical-align: top;\n",
       "    }\n",
       "\n",
       "    .dataframe thead th {\n",
       "        text-align: right;\n",
       "    }\n",
       "</style>\n",
       "<table border=\"1\" class=\"dataframe\">\n",
       "  <thead>\n",
       "    <tr style=\"text-align: right;\">\n",
       "      <th></th>\n",
       "      <th>tx_hash</th>\n",
       "      <th>amount</th>\n",
       "    </tr>\n",
       "  </thead>\n",
       "  <tbody>\n",
       "    <tr>\n",
       "      <th>0</th>\n",
       "      <td>443b98009b9a705c7112b031d223f26a3399f8cf1e7f12...</td>\n",
       "      <td>16922</td>\n",
       "    </tr>\n",
       "    <tr>\n",
       "      <th>1</th>\n",
       "      <td>f707cb4decf7f21991f506bba051a0184ca8ecbd402f79...</td>\n",
       "      <td>5196</td>\n",
       "    </tr>\n",
       "  </tbody>\n",
       "</table>\n",
       "</div>"
      ],
      "text/plain": [
       "                                             tx_hash amount\n",
       "0  443b98009b9a705c7112b031d223f26a3399f8cf1e7f12...  16922\n",
       "1  f707cb4decf7f21991f506bba051a0184ca8ecbd402f79...   5196"
      ]
     },
     "execution_count": 7,
     "metadata": {},
     "output_type": "execute_result"
    }
   ],
   "source": [
    "cardano_mainnet.stake_mir_history(stake_address)\n",
    "#or\n",
    "cardano_mainnet.stake_mir_history(stake_address, \n",
    "                                  data_order='asc', # Optional: Data order (default: Ascending)\n",
    "                                  nb_of_results=100, # Optional: Return max 100 results at the time (default: None), None for get all the data available.\n",
    "                                  pandas=True) # Optional: Return a pandas dataframe"
   ]
  },
  {
   "cell_type": "markdown",
   "metadata": {},
   "source": [
    "### Stake Associated Addresses\n",
    "Obtain information about the MIRs of a specific account."
   ]
  },
  {
   "cell_type": "code",
   "execution_count": 9,
   "metadata": {},
   "outputs": [
    {
     "name": "stdout",
     "output_type": "stream",
     "text": [
      "[INFO] Function stake_associated_addresses, 1 API calls.\n",
      "[INFO] Function stake_associated_addresses, 1 API calls.\n"
     ]
    },
    {
     "data": {
      "text/html": [
       "<div>\n",
       "<style scoped>\n",
       "    .dataframe tbody tr th:only-of-type {\n",
       "        vertical-align: middle;\n",
       "    }\n",
       "\n",
       "    .dataframe tbody tr th {\n",
       "        vertical-align: top;\n",
       "    }\n",
       "\n",
       "    .dataframe thead th {\n",
       "        text-align: right;\n",
       "    }\n",
       "</style>\n",
       "<table border=\"1\" class=\"dataframe\">\n",
       "  <thead>\n",
       "    <tr style=\"text-align: right;\">\n",
       "      <th></th>\n",
       "      <th>address</th>\n",
       "    </tr>\n",
       "  </thead>\n",
       "  <tbody>\n",
       "    <tr>\n",
       "      <th>0</th>\n",
       "      <td>addr1q9asyce9kg8x8srwjuehtj0sxzc206rn5nv8tzc66...</td>\n",
       "    </tr>\n",
       "    <tr>\n",
       "      <th>1</th>\n",
       "      <td>addr1qyyzytknnnr3yy3hrxt7puzxy2zle6cfs3c839rdw...</td>\n",
       "    </tr>\n",
       "    <tr>\n",
       "      <th>2</th>\n",
       "      <td>addr1q8qe2873c334m7s3j2g27fq4sjqkh03mr28z3nd3l...</td>\n",
       "    </tr>\n",
       "    <tr>\n",
       "      <th>3</th>\n",
       "      <td>addr1q9226w0sg40mjhnzdt3myvnucrljqg7pyxgn9vypc...</td>\n",
       "    </tr>\n",
       "    <tr>\n",
       "      <th>4</th>\n",
       "      <td>addr1q8amjln6cua3scnthlm8jd7vnz4w4j7hmpkj7l8vt...</td>\n",
       "    </tr>\n",
       "  </tbody>\n",
       "</table>\n",
       "</div>"
      ],
      "text/plain": [
       "                                             address\n",
       "0  addr1q9asyce9kg8x8srwjuehtj0sxzc206rn5nv8tzc66...\n",
       "1  addr1qyyzytknnnr3yy3hrxt7puzxy2zle6cfs3c839rdw...\n",
       "2  addr1q8qe2873c334m7s3j2g27fq4sjqkh03mr28z3nd3l...\n",
       "3  addr1q9226w0sg40mjhnzdt3myvnucrljqg7pyxgn9vypc...\n",
       "4  addr1q8amjln6cua3scnthlm8jd7vnz4w4j7hmpkj7l8vt..."
      ]
     },
     "execution_count": 9,
     "metadata": {},
     "output_type": "execute_result"
    }
   ],
   "source": [
    "cardano_mainnet.stake_associated_addresses(stake_address)\n",
    "#or\n",
    "cardano_mainnet.stake_associated_addresses(stake_address, \n",
    "                                           data_order='asc', # Optional: Data order (default: Ascending)\n",
    "                                           nb_of_results=100, # Optional: Return max 100 results at the time (default: None), None for get all the data available.\n",
    "                                           pandas=True) # Optional: Return a pandas dataframe "
   ]
  },
  {
   "cell_type": "markdown",
   "metadata": {},
   "source": [
    "### Stake Assets Associated Addresses\n",
    "Obtain information about assets associated with addresses of a specific account.</blockquote>"
   ]
  },
  {
   "cell_type": "code",
   "execution_count": 11,
   "metadata": {},
   "outputs": [
    {
     "name": "stdout",
     "output_type": "stream",
     "text": [
      "[INFO] Function stake_associated_addresses, 1 API calls.\n",
      "[INFO] No data available.\n",
      "[INFO] Function stake_assets_associated_addresses, 1 API calls.\n"
     ]
    },
    {
     "data": {
      "text/html": [
       "<div>\n",
       "<style scoped>\n",
       "    .dataframe tbody tr th:only-of-type {\n",
       "        vertical-align: middle;\n",
       "    }\n",
       "\n",
       "    .dataframe tbody tr th {\n",
       "        vertical-align: top;\n",
       "    }\n",
       "\n",
       "    .dataframe thead th {\n",
       "        text-align: right;\n",
       "    }\n",
       "</style>\n",
       "<table border=\"1\" class=\"dataframe\">\n",
       "  <thead>\n",
       "    <tr style=\"text-align: right;\">\n",
       "      <th></th>\n",
       "    </tr>\n",
       "  </thead>\n",
       "  <tbody>\n",
       "  </tbody>\n",
       "</table>\n",
       "</div>"
      ],
      "text/plain": [
       "Empty DataFrame\n",
       "Columns: []\n",
       "Index: []"
      ]
     },
     "execution_count": 11,
     "metadata": {},
     "output_type": "execute_result"
    }
   ],
   "source": [
    "cardano_mainnet.stake_associated_addresses(stake_address)\n",
    "#or\n",
    "cardano_mainnet.stake_assets_associated_addresses(stake_address, \n",
    "                                                  data_order='asc', # Optional: Data order (default: Ascending)\n",
    "                                                  nb_of_results=100, # Optional: Return max 100 results at the time (default: None), None for get all the data available.\n",
    "                                                  pandas=True) # Optional: Return a pandas dataframe "
   ]
  },
  {
   "cell_type": "markdown",
   "metadata": {},
   "source": [
    "# Address\n",
    "___"
   ]
  },
  {
   "cell_type": "markdown",
   "metadata": {},
   "source": [
    "### Specific Address\n",
    "Obtain information about a specific address."
   ]
  },
  {
   "cell_type": "code",
   "execution_count": 36,
   "metadata": {},
   "outputs": [
    {
     "data": {
      "text/plain": [
       "{'address': 'addr1q8z24xgrlj3m2qjh2vxyqg2fh33y3tegufkll5c4lu8u35gkhpw3h4yhn93ve2whllg0wjazjs5jj8332mgqe332f3uq8m7m6h',\n",
       " 'amount': [{'unit': 'lovelace', 'quantity': '350000000'}],\n",
       " 'stake_address': 'stake1uyttshgm6jtejckv48tll58hfw3fg2ffrcc4d5qvcc4yc7q9jsalf',\n",
       " 'type': 'shelley'}"
      ]
     },
     "execution_count": 36,
     "metadata": {},
     "output_type": "execute_result"
    }
   ],
   "source": [
    "cardano_mainnet.address_info(address)"
   ]
  },
  {
   "cell_type": "markdown",
   "metadata": {},
   "source": [
    "### Address Details\n",
    "Obtain details about an address."
   ]
  },
  {
   "cell_type": "code",
   "execution_count": 37,
   "metadata": {},
   "outputs": [
    {
     "data": {
      "text/plain": [
       "{'address': 'addr1q8z24xgrlj3m2qjh2vxyqg2fh33y3tegufkll5c4lu8u35gkhpw3h4yhn93ve2whllg0wjazjs5jj8332mgqe332f3uq8m7m6h',\n",
       " 'received_sum': [{'unit': 'lovelace', 'quantity': '350000000'}],\n",
       " 'sent_sum': [{'unit': 'lovelace', 'quantity': '0'}],\n",
       " 'tx_count': 1}"
      ]
     },
     "execution_count": 37,
     "metadata": {},
     "output_type": "execute_result"
    }
   ],
   "source": [
    "cardano_mainnet.address_details(address)"
   ]
  },
  {
   "cell_type": "markdown",
   "metadata": {},
   "source": [
    "### Address UTXOs\n",
    "UTXOs of the address."
   ]
  },
  {
   "cell_type": "code",
   "execution_count": 38,
   "metadata": {},
   "outputs": [
    {
     "data": {
      "text/plain": [
       "[{'tx_hash': '996ff0a57282ef943ecdbc263cf9c41c178d65587d70d9d9dcbe98e520f8e406',\n",
       "  'tx_index': 4,\n",
       "  'output_index': 4,\n",
       "  'amount': [{'unit': 'lovelace', 'quantity': '350000000'}],\n",
       "  'block': '73768f4ca2a0c96611a1fbd7f53a3b1b573fb0371012e54a943cf58926eb9cea'}]"
      ]
     },
     "execution_count": 38,
     "metadata": {},
     "output_type": "execute_result"
    }
   ],
   "source": [
    "cardano_mainnet.address_utxo(address)"
   ]
  },
  {
   "cell_type": "markdown",
   "metadata": {},
   "source": [
    "### Address Transactions\n",
    "Transactions on the address."
   ]
  },
  {
   "cell_type": "code",
   "execution_count": 39,
   "metadata": {},
   "outputs": [
    {
     "data": {
      "text/plain": [
       "[{'tx_hash': '996ff0a57282ef943ecdbc263cf9c41c178d65587d70d9d9dcbe98e520f8e406',\n",
       "  'tx_index': 45,\n",
       "  'block_height': 6095572}]"
      ]
     },
     "execution_count": 39,
     "metadata": {},
     "output_type": "execute_result"
    }
   ],
   "source": [
    "cardano_mainnet.address_transaction(address)"
   ]
  },
  {
   "cell_type": "markdown",
   "metadata": {},
   "source": [
    "## Epoch\n",
    "___"
   ]
  },
  {
   "cell_type": "markdown",
   "metadata": {},
   "source": [
    "### Latest Epoch\n",
    "Obtain the information about the latest epoch."
   ]
  },
  {
   "cell_type": "code",
   "execution_count": 50,
   "metadata": {},
   "outputs": [
    {
     "data": {
      "text/plain": [
       "{'epoch': 288,\n",
       " 'start_time': 1630619091,\n",
       " 'end_time': 1631051091,\n",
       " 'first_block_time': 1630619101,\n",
       " 'last_block_time': 1630695809,\n",
       " 'block_count': 3867,\n",
       " 'tx_count': 77200,\n",
       " 'output': '41529702474109934',\n",
       " 'fees': '16021622015',\n",
       " 'active_stake': '23136223153988390'}"
      ]
     },
     "execution_count": 50,
     "metadata": {},
     "output_type": "execute_result"
    }
   ],
   "source": [
    "cardano_mainnet.latest_epoch()"
   ]
  },
  {
   "cell_type": "markdown",
   "metadata": {},
   "source": [
    "### Latest Epoch Protocol Parameters\n",
    "Return the protocol parameters for the latest epoch."
   ]
  },
  {
   "cell_type": "code",
   "execution_count": 51,
   "metadata": {},
   "outputs": [
    {
     "data": {
      "text/plain": [
       "{'epoch': 288,\n",
       " 'min_fee_a': 44,\n",
       " 'min_fee_b': 155381,\n",
       " 'max_block_size': 65536,\n",
       " 'max_tx_size': 16384,\n",
       " 'max_block_header_size': 1100,\n",
       " 'key_deposit': '2000000',\n",
       " 'pool_deposit': '500000000',\n",
       " 'e_max': 18,\n",
       " 'n_opt': 500,\n",
       " 'a0': 0.3,\n",
       " 'rho': 0.003,\n",
       " 'tau': 0.2,\n",
       " 'decentralisation_param': 0,\n",
       " 'extra_entropy': None,\n",
       " 'protocol_major_ver': 4,\n",
       " 'protocol_minor_ver': 0,\n",
       " 'min_utxo': '1000000',\n",
       " 'min_pool_cost': '340000000',\n",
       " 'nonce': 'bf3b52ab86e152b392cbf095c1d0f07aaeda956eecfdb44b09bcb85a0ecae36a'}"
      ]
     },
     "execution_count": 51,
     "metadata": {},
     "output_type": "execute_result"
    }
   ],
   "source": [
    "cardano_mainnet.latest_epoch_protocol_parameters()"
   ]
  },
  {
   "cell_type": "markdown",
   "metadata": {},
   "source": [
    "### Specific Epoch\n",
    "Obtain informations about a specific epoch."
   ]
  },
  {
   "cell_type": "code",
   "execution_count": 52,
   "metadata": {},
   "outputs": [
    {
     "data": {
      "text/plain": [
       "{'epoch': 287,\n",
       " 'start_time': 1630187091,\n",
       " 'end_time': 1630619091,\n",
       " 'first_block_time': 1630187230,\n",
       " 'last_block_time': 1630619085,\n",
       " 'block_count': 21065,\n",
       " 'tx_count': 401343,\n",
       " 'output': '74754307451589173',\n",
       " 'fees': '86536781869',\n",
       " 'active_stake': '23041097075076811'}"
      ]
     },
     "execution_count": 52,
     "metadata": {},
     "output_type": "execute_result"
    }
   ],
   "source": [
    "cardano_mainnet.specific_epoch(287)"
   ]
  },
  {
   "cell_type": "markdown",
   "metadata": {},
   "source": [
    "### Epochs History\n",
    "Obtain informations about sevrals epochs."
   ]
  },
  {
   "cell_type": "code",
   "execution_count": 53,
   "metadata": {},
   "outputs": [
    {
     "name": "stdout",
     "output_type": "stream",
     "text": [
      "[INFO] Function epochs_history, 4 API calls.\n"
     ]
    },
    {
     "data": {
      "text/html": [
       "<div>\n",
       "<style scoped>\n",
       "    .dataframe tbody tr th:only-of-type {\n",
       "        vertical-align: middle;\n",
       "    }\n",
       "\n",
       "    .dataframe tbody tr th {\n",
       "        vertical-align: top;\n",
       "    }\n",
       "\n",
       "    .dataframe thead th {\n",
       "        text-align: right;\n",
       "    }\n",
       "</style>\n",
       "<table border=\"1\" class=\"dataframe\">\n",
       "  <thead>\n",
       "    <tr style=\"text-align: right;\">\n",
       "      <th></th>\n",
       "      <th>epoch</th>\n",
       "      <th>start_time</th>\n",
       "      <th>end_time</th>\n",
       "      <th>first_block_time</th>\n",
       "      <th>last_block_time</th>\n",
       "      <th>block_count</th>\n",
       "      <th>tx_count</th>\n",
       "      <th>output</th>\n",
       "      <th>fees</th>\n",
       "      <th>active_stake</th>\n",
       "    </tr>\n",
       "  </thead>\n",
       "  <tbody>\n",
       "    <tr>\n",
       "      <th>0</th>\n",
       "      <td>270</td>\n",
       "      <td>1622843091</td>\n",
       "      <td>1623275091</td>\n",
       "      <td>1622843183</td>\n",
       "      <td>1623275038</td>\n",
       "      <td>21395</td>\n",
       "      <td>174334</td>\n",
       "      <td>12213404538685056</td>\n",
       "      <td>36489177917</td>\n",
       "      <td>22893778548073522</td>\n",
       "    </tr>\n",
       "    <tr>\n",
       "      <th>1</th>\n",
       "      <td>271</td>\n",
       "      <td>1623275091</td>\n",
       "      <td>1623707091</td>\n",
       "      <td>1623275098</td>\n",
       "      <td>1623707059</td>\n",
       "      <td>21410</td>\n",
       "      <td>145244</td>\n",
       "      <td>12686700012872148</td>\n",
       "      <td>30802442909</td>\n",
       "      <td>22970909569111347</td>\n",
       "    </tr>\n",
       "    <tr>\n",
       "      <th>2</th>\n",
       "      <td>272</td>\n",
       "      <td>1623707091</td>\n",
       "      <td>1624139091</td>\n",
       "      <td>1623707123</td>\n",
       "      <td>1624139087</td>\n",
       "      <td>21499</td>\n",
       "      <td>135373</td>\n",
       "      <td>10640794327820158</td>\n",
       "      <td>29593210504</td>\n",
       "      <td>23020000415780615</td>\n",
       "    </tr>\n",
       "  </tbody>\n",
       "</table>\n",
       "</div>"
      ],
      "text/plain": [
       "   epoch  start_time    end_time  first_block_time  last_block_time  \\\n",
       "0    270  1622843091  1623275091        1622843183       1623275038   \n",
       "1    271  1623275091  1623707091        1623275098       1623707059   \n",
       "2    272  1623707091  1624139091        1623707123       1624139087   \n",
       "\n",
       "   block_count  tx_count             output         fees       active_stake  \n",
       "0        21395    174334  12213404538685056  36489177917  22893778548073522  \n",
       "1        21410    145244  12686700012872148  30802442909  22970909569111347  \n",
       "2        21499    135373  10640794327820158  29593210504  23020000415780615  "
      ]
     },
     "execution_count": 53,
     "metadata": {},
     "output_type": "execute_result"
    }
   ],
   "source": [
    "cardano_mainnet.epochs_history([270, 271, 272],\n",
    "                               pandas=True) # Optional: Return a pandas dataframe "
   ]
  },
  {
   "cell_type": "markdown",
   "metadata": {},
   "source": [
    "# Pool\n",
    "___"
   ]
  },
  {
   "cell_type": "markdown",
   "metadata": {},
   "source": [
    "### List Of Stake Pools\n",
    "List of registered stake pools."
   ]
  },
  {
   "cell_type": "code",
   "execution_count": 54,
   "metadata": {},
   "outputs": [
    {
     "name": "stdout",
     "output_type": "stream",
     "text": [
      "[INFO] Function registered_polls, 1 API calls.\n"
     ]
    },
    {
     "data": {
      "text/html": [
       "<div>\n",
       "<style scoped>\n",
       "    .dataframe tbody tr th:only-of-type {\n",
       "        vertical-align: middle;\n",
       "    }\n",
       "\n",
       "    .dataframe tbody tr th {\n",
       "        vertical-align: top;\n",
       "    }\n",
       "\n",
       "    .dataframe thead th {\n",
       "        text-align: right;\n",
       "    }\n",
       "</style>\n",
       "<table border=\"1\" class=\"dataframe\">\n",
       "  <thead>\n",
       "    <tr style=\"text-align: right;\">\n",
       "      <th></th>\n",
       "      <th>registered_polls_id</th>\n",
       "    </tr>\n",
       "  </thead>\n",
       "  <tbody>\n",
       "    <tr>\n",
       "      <th>0</th>\n",
       "      <td>pool1z5uqdk7dzdxaae5633fqfcu2eqzy3a3rgtuvy087f...</td>\n",
       "    </tr>\n",
       "    <tr>\n",
       "      <th>1</th>\n",
       "      <td>pool1pu5jlj4q9w9jlxeu370a3c9myx47md5j5m2str0na...</td>\n",
       "    </tr>\n",
       "    <tr>\n",
       "      <th>2</th>\n",
       "      <td>pool1c8k78ny3xvsfgenhf4yzvpzwgzxmz0t0um0h2xnn2...</td>\n",
       "    </tr>\n",
       "    <tr>\n",
       "      <th>3</th>\n",
       "      <td>pool1q80jjs53w0fx836n8g38gtdwr8ck5zre3da90peux...</td>\n",
       "    </tr>\n",
       "    <tr>\n",
       "      <th>4</th>\n",
       "      <td>pool1ddskftmsscw92d7vnj89pldwx5feegkgcmamgt5t0...</td>\n",
       "    </tr>\n",
       "  </tbody>\n",
       "</table>\n",
       "</div>"
      ],
      "text/plain": [
       "                                 registered_polls_id\n",
       "0  pool1z5uqdk7dzdxaae5633fqfcu2eqzy3a3rgtuvy087f...\n",
       "1  pool1pu5jlj4q9w9jlxeu370a3c9myx47md5j5m2str0na...\n",
       "2  pool1c8k78ny3xvsfgenhf4yzvpzwgzxmz0t0um0h2xnn2...\n",
       "3  pool1q80jjs53w0fx836n8g38gtdwr8ck5zre3da90peux...\n",
       "4  pool1ddskftmsscw92d7vnj89pldwx5feegkgcmamgt5t0..."
      ]
     },
     "execution_count": 54,
     "metadata": {},
     "output_type": "execute_result"
    }
   ],
   "source": [
    "cardano_mainnet.registered_polls()\n",
    "#or\n",
    "cardano_mainnet.registered_polls(nb_of_results=100, # Optional: Return max 100 results at the time (default: None), None for get all the data available.\n",
    "                                 pandas=True) # Optional: Return a pandas dataframe "
   ]
  },
  {
   "cell_type": "markdown",
   "metadata": {},
   "source": [
    "### Specific Stake Pool Informations\n",
    "Pool informations."
   ]
  },
  {
   "cell_type": "code",
   "execution_count": 55,
   "metadata": {},
   "outputs": [
    {
     "data": {
      "text/plain": [
       "{'pool_id': 'pool1ekhy5xsgjaq38em75vevk8df0k0rljju77tljw288ys5kumqce5',\n",
       " 'hex': 'cdae4a1a08974113e77ea332cb1da97d9e3fca5cf797f9394739214b',\n",
       " 'vrf_key': '5517fbeb4c6a5a613835808de183345eaf85ab0e251210e493e088afa41d9ab0',\n",
       " 'blocks_minted': 3073,\n",
       " 'live_stake': '55648149168432',\n",
       " 'live_size': 0.0023887520907477904,\n",
       " 'live_saturation': 0.8479059445396915,\n",
       " 'live_delegators': 1443,\n",
       " 'active_stake': '55449417952886',\n",
       " 'active_size': 0.002396649512923082,\n",
       " 'declared_pledge': '200000000000',\n",
       " 'live_pledge': '203180990314',\n",
       " 'margin_cost': 0.01,\n",
       " 'fixed_cost': '340000000',\n",
       " 'reward_account': 'stake1u8uzevd539lxn40jt60g72a649zdphe9e8hrye4nf5jv0js9uzhzg',\n",
       " 'owners': ['stake1u9qsgte62jau0qu6kjy8zch8aynt55gql6jsxe05464n99gsqd7ra',\n",
       "  'stake1u8uzevd539lxn40jt60g72a649zdphe9e8hrye4nf5jv0js9uzhzg'],\n",
       " 'registration': ['b1bfffc26b6210ced9cc679781922e8b1ac70a2f7719523528639da4ab7f2d88',\n",
       "  'be5b798897f5b83e5bf562df6fc68a94d5528acc80ab8e999ce866aa63a4d06a',\n",
       "  '0f4781efd649f91e37847cb2699a8a41632ee94df1465e255577772f362339bf',\n",
       "  '630c7195fdc1c5c14bb12c460059c5adb11b3cd6d3e576628aee0a8338f1b6ad',\n",
       "  '119fe23a35e0ddcbb5778f17ad2371228a53b5ced037c12083a0c77b5711e1d4',\n",
       "  'f1fe58c30ec7f5193476694fafc46dcdb11c3408e114e8fa2a95425243907ed4',\n",
       "  '09c2c3d34de116365c9cf9a6e75f45856013388d962dbd5584c27b7d0bb36eed'],\n",
       " 'retirement': []}"
      ]
     },
     "execution_count": 55,
     "metadata": {},
     "output_type": "execute_result"
    }
   ],
   "source": [
    "cardano_mainnet.pool_informations(pool_id)"
   ]
  },
  {
   "cell_type": "markdown",
   "metadata": {},
   "source": [
    "### Stake Pool History\n",
    "\n",
    "History of stake pool over epochs."
   ]
  },
  {
   "cell_type": "code",
   "execution_count": 56,
   "metadata": {},
   "outputs": [
    {
     "name": "stdout",
     "output_type": "stream",
     "text": [
      "[INFO] Function param_stake_pool_history, 1 API calls.\n"
     ]
    },
    {
     "data": {
      "text/html": [
       "<div>\n",
       "<style scoped>\n",
       "    .dataframe tbody tr th:only-of-type {\n",
       "        vertical-align: middle;\n",
       "    }\n",
       "\n",
       "    .dataframe tbody tr th {\n",
       "        vertical-align: top;\n",
       "    }\n",
       "\n",
       "    .dataframe thead th {\n",
       "        text-align: right;\n",
       "    }\n",
       "</style>\n",
       "<table border=\"1\" class=\"dataframe\">\n",
       "  <thead>\n",
       "    <tr style=\"text-align: right;\">\n",
       "      <th></th>\n",
       "      <th>epoch</th>\n",
       "      <th>blocks</th>\n",
       "      <th>active_stake</th>\n",
       "      <th>active_size</th>\n",
       "      <th>delegators_count</th>\n",
       "      <th>rewards</th>\n",
       "      <th>fees</th>\n",
       "    </tr>\n",
       "  </thead>\n",
       "  <tbody>\n",
       "    <tr>\n",
       "      <th>0</th>\n",
       "      <td>210</td>\n",
       "      <td>0</td>\n",
       "      <td>37220609681471</td>\n",
       "      <td>0.006144</td>\n",
       "      <td>66</td>\n",
       "      <td>0</td>\n",
       "      <td>0</td>\n",
       "    </tr>\n",
       "    <tr>\n",
       "      <th>1</th>\n",
       "      <td>211</td>\n",
       "      <td>10</td>\n",
       "      <td>54335156396766</td>\n",
       "      <td>0.005339</td>\n",
       "      <td>81</td>\n",
       "      <td>41930800644</td>\n",
       "      <td>795508006</td>\n",
       "    </tr>\n",
       "    <tr>\n",
       "      <th>2</th>\n",
       "      <td>212</td>\n",
       "      <td>19</td>\n",
       "      <td>57680429746242</td>\n",
       "      <td>0.004764</td>\n",
       "      <td>100</td>\n",
       "      <td>44444415813</td>\n",
       "      <td>820644158</td>\n",
       "    </tr>\n",
       "    <tr>\n",
       "      <th>3</th>\n",
       "      <td>213</td>\n",
       "      <td>17</td>\n",
       "      <td>39988128646167</td>\n",
       "      <td>0.003134</td>\n",
       "      <td>113</td>\n",
       "      <td>35108072495</td>\n",
       "      <td>687680724</td>\n",
       "    </tr>\n",
       "    <tr>\n",
       "      <th>4</th>\n",
       "      <td>214</td>\n",
       "      <td>16</td>\n",
       "      <td>37882297876063</td>\n",
       "      <td>0.002831</td>\n",
       "      <td>114</td>\n",
       "      <td>31712032983</td>\n",
       "      <td>653720329</td>\n",
       "    </tr>\n",
       "  </tbody>\n",
       "</table>\n",
       "</div>"
      ],
      "text/plain": [
       "   epoch  blocks    active_stake  active_size  delegators_count      rewards  \\\n",
       "0    210       0  37220609681471     0.006144                66            0   \n",
       "1    211      10  54335156396766     0.005339                81  41930800644   \n",
       "2    212      19  57680429746242     0.004764               100  44444415813   \n",
       "3    213      17  39988128646167     0.003134               113  35108072495   \n",
       "4    214      16  37882297876063     0.002831               114  31712032983   \n",
       "\n",
       "        fees  \n",
       "0          0  \n",
       "1  795508006  \n",
       "2  820644158  \n",
       "3  687680724  \n",
       "4  653720329  "
      ]
     },
     "execution_count": 56,
     "metadata": {},
     "output_type": "execute_result"
    }
   ],
   "source": [
    "cardano_mainnet.stake_pool_history(pool_id)\n",
    "#or\n",
    "cardano_mainnet.stake_pool_history(pool_id,\n",
    "                                   pandas=True) # Optional: Return a pandas dataframe "
   ]
  },
  {
   "cell_type": "markdown",
   "metadata": {},
   "source": [
    "## Data Analysis\n",
    "___"
   ]
  },
  {
   "cell_type": "markdown",
   "metadata": {},
   "source": [
    "### Rewards History Analysis\n",
    "Data table to analyze the stake rewards."
   ]
  },
  {
   "cell_type": "code",
   "execution_count": 14,
   "metadata": {},
   "outputs": [
    {
     "name": "stdout",
     "output_type": "stream",
     "text": [
      "[INFO] Function stake_reward_history, 1 API calls.\n",
      "[INFO] Function stake_amount_history, 1 API calls.\n",
      "[INFO] Function param_stake_pool_history, 1 API calls.\n",
      "[INFO] Function epochs_history, 47 API calls.\n",
      "[INFO] Function stake_reward_history, 1 API calls.\n",
      "[INFO] Function stake_amount_history, 1 API calls.\n",
      "[INFO] Function param_stake_pool_history, 1 API calls.\n",
      "[INFO] Function epochs_history, 47 API calls.\n"
     ]
    },
    {
     "data": {
      "text/html": [
       "<div>\n",
       "<style scoped>\n",
       "    .dataframe tbody tr th:only-of-type {\n",
       "        vertical-align: middle;\n",
       "    }\n",
       "\n",
       "    .dataframe tbody tr th {\n",
       "        vertical-align: top;\n",
       "    }\n",
       "\n",
       "    .dataframe thead th {\n",
       "        text-align: right;\n",
       "    }\n",
       "</style>\n",
       "<table border=\"1\" class=\"dataframe\">\n",
       "  <thead>\n",
       "    <tr style=\"text-align: right;\">\n",
       "      <th></th>\n",
       "      <th>epoch</th>\n",
       "      <th>rewards_amount</th>\n",
       "      <th>stake_amount</th>\n",
       "      <th>pool_id</th>\n",
       "      <th>epoch_start_time</th>\n",
       "      <th>epoch_end_time</th>\n",
       "      <th>epoch_first_block_time</th>\n",
       "      <th>epoch_last_block_time</th>\n",
       "      <th>epoch_block_count</th>\n",
       "      <th>epoch_tx_count</th>\n",
       "      <th>epoch_output</th>\n",
       "      <th>epoch_fees</th>\n",
       "      <th>epoch_active_stake</th>\n",
       "      <th>stake_pool_blocks</th>\n",
       "      <th>stake_pool_active_stake</th>\n",
       "      <th>stake_pool_active_size</th>\n",
       "      <th>stake_pool_delegators_count</th>\n",
       "      <th>stake_pool_rewards</th>\n",
       "      <th>stake_pool_fees</th>\n",
       "    </tr>\n",
       "  </thead>\n",
       "  <tbody>\n",
       "    <tr>\n",
       "      <th>0</th>\n",
       "      <td>242</td>\n",
       "      <td>879367</td>\n",
       "      <td>1424619058</td>\n",
       "      <td>pool1u7mqtde27swkarngjsn5mmw3sy20zavlafgqkmg8q...</td>\n",
       "      <td>1610747091</td>\n",
       "      <td>1611179091</td>\n",
       "      <td>1610747091</td>\n",
       "      <td>1611179076</td>\n",
       "      <td>21418</td>\n",
       "      <td>74057</td>\n",
       "      <td>63148817438049616</td>\n",
       "      <td>16905060417</td>\n",
       "      <td>21755094259019945</td>\n",
       "      <td>35</td>\n",
       "      <td>60557688009496</td>\n",
       "      <td>0.002784</td>\n",
       "      <td>720</td>\n",
       "      <td>37719841941</td>\n",
       "      <td>340000000</td>\n",
       "    </tr>\n",
       "    <tr>\n",
       "      <th>1</th>\n",
       "      <td>243</td>\n",
       "      <td>970119</td>\n",
       "      <td>1424619058</td>\n",
       "      <td>pool1u7mqtde27swkarngjsn5mmw3sy20zavlafgqkmg8q...</td>\n",
       "      <td>1611179091</td>\n",
       "      <td>1611611091</td>\n",
       "      <td>1611179091</td>\n",
       "      <td>1611611090</td>\n",
       "      <td>21586</td>\n",
       "      <td>58682</td>\n",
       "      <td>44531349200446205</td>\n",
       "      <td>13368193376</td>\n",
       "      <td>21849089085260375</td>\n",
       "      <td>40</td>\n",
       "      <td>60943951290359</td>\n",
       "      <td>0.002789</td>\n",
       "      <td>757</td>\n",
       "      <td>41840863127</td>\n",
       "      <td>340000000</td>\n",
       "    </tr>\n",
       "    <tr>\n",
       "      <th>2</th>\n",
       "      <td>244</td>\n",
       "      <td>1164610</td>\n",
       "      <td>1424619058</td>\n",
       "      <td>pool1u7mqtde27swkarngjsn5mmw3sy20zavlafgqkmg8q...</td>\n",
       "      <td>1611611091</td>\n",
       "      <td>1612043091</td>\n",
       "      <td>1611611091</td>\n",
       "      <td>1612043078</td>\n",
       "      <td>21491</td>\n",
       "      <td>59591</td>\n",
       "      <td>29427703690683743</td>\n",
       "      <td>13516792921</td>\n",
       "      <td>21956206748623667</td>\n",
       "      <td>50</td>\n",
       "      <td>62177721021153</td>\n",
       "      <td>0.002832</td>\n",
       "      <td>767</td>\n",
       "      <td>51169599395</td>\n",
       "      <td>340000000</td>\n",
       "    </tr>\n",
       "    <tr>\n",
       "      <th>3</th>\n",
       "      <td>245</td>\n",
       "      <td>1228869</td>\n",
       "      <td>1425498425</td>\n",
       "      <td>pool1u7mqtde27swkarngjsn5mmw3sy20zavlafgqkmg8q...</td>\n",
       "      <td>1612043091</td>\n",
       "      <td>1612475091</td>\n",
       "      <td>1612043091</td>\n",
       "      <td>1612475007</td>\n",
       "      <td>21485</td>\n",
       "      <td>88703</td>\n",
       "      <td>52975770722098664</td>\n",
       "      <td>20044918510</td>\n",
       "      <td>22086904770458818</td>\n",
       "      <td>55</td>\n",
       "      <td>63400598572150</td>\n",
       "      <td>0.002871</td>\n",
       "      <td>784</td>\n",
       "      <td>54946961660</td>\n",
       "      <td>340000000</td>\n",
       "    </tr>\n",
       "    <tr>\n",
       "      <th>4</th>\n",
       "      <td>246</td>\n",
       "      <td>857871</td>\n",
       "      <td>1426468544</td>\n",
       "      <td>pool1u7mqtde27swkarngjsn5mmw3sy20zavlafgqkmg8q...</td>\n",
       "      <td>1612475091</td>\n",
       "      <td>1612907091</td>\n",
       "      <td>1612475091</td>\n",
       "      <td>1612907067</td>\n",
       "      <td>21327</td>\n",
       "      <td>142367</td>\n",
       "      <td>143252676044465523</td>\n",
       "      <td>31528825577</td>\n",
       "      <td>22190441040634090</td>\n",
       "      <td>39</td>\n",
       "      <td>62762389516418</td>\n",
       "      <td>0.002828</td>\n",
       "      <td>790</td>\n",
       "      <td>38037964874</td>\n",
       "      <td>340000000</td>\n",
       "    </tr>\n",
       "  </tbody>\n",
       "</table>\n",
       "</div>"
      ],
      "text/plain": [
       "   epoch rewards_amount stake_amount  \\\n",
       "0    242         879367   1424619058   \n",
       "1    243         970119   1424619058   \n",
       "2    244        1164610   1424619058   \n",
       "3    245        1228869   1425498425   \n",
       "4    246         857871   1426468544   \n",
       "\n",
       "                                             pool_id  epoch_start_time  \\\n",
       "0  pool1u7mqtde27swkarngjsn5mmw3sy20zavlafgqkmg8q...        1610747091   \n",
       "1  pool1u7mqtde27swkarngjsn5mmw3sy20zavlafgqkmg8q...        1611179091   \n",
       "2  pool1u7mqtde27swkarngjsn5mmw3sy20zavlafgqkmg8q...        1611611091   \n",
       "3  pool1u7mqtde27swkarngjsn5mmw3sy20zavlafgqkmg8q...        1612043091   \n",
       "4  pool1u7mqtde27swkarngjsn5mmw3sy20zavlafgqkmg8q...        1612475091   \n",
       "\n",
       "   epoch_end_time  epoch_first_block_time  epoch_last_block_time  \\\n",
       "0      1611179091              1610747091             1611179076   \n",
       "1      1611611091              1611179091             1611611090   \n",
       "2      1612043091              1611611091             1612043078   \n",
       "3      1612475091              1612043091             1612475007   \n",
       "4      1612907091              1612475091             1612907067   \n",
       "\n",
       "   epoch_block_count  epoch_tx_count        epoch_output   epoch_fees  \\\n",
       "0              21418           74057   63148817438049616  16905060417   \n",
       "1              21586           58682   44531349200446205  13368193376   \n",
       "2              21491           59591   29427703690683743  13516792921   \n",
       "3              21485           88703   52975770722098664  20044918510   \n",
       "4              21327          142367  143252676044465523  31528825577   \n",
       "\n",
       "  epoch_active_stake  stake_pool_blocks stake_pool_active_stake  \\\n",
       "0  21755094259019945                 35          60557688009496   \n",
       "1  21849089085260375                 40          60943951290359   \n",
       "2  21956206748623667                 50          62177721021153   \n",
       "3  22086904770458818                 55          63400598572150   \n",
       "4  22190441040634090                 39          62762389516418   \n",
       "\n",
       "   stake_pool_active_size  stake_pool_delegators_count stake_pool_rewards  \\\n",
       "0                0.002784                          720        37719841941   \n",
       "1                0.002789                          757        41840863127   \n",
       "2                0.002832                          767        51169599395   \n",
       "3                0.002871                          784        54946961660   \n",
       "4                0.002828                          790        38037964874   \n",
       "\n",
       "  stake_pool_fees  \n",
       "0       340000000  \n",
       "1       340000000  \n",
       "2       340000000  \n",
       "3       340000000  \n",
       "4       340000000  "
      ]
     },
     "execution_count": 14,
     "metadata": {},
     "output_type": "execute_result"
    }
   ],
   "source": [
    "cardano_mainnet.rewards_history_analysis(stake_address)\n",
    "#or\n",
    "cardano_mainnet.rewards_history_analysis(stake_address,\n",
    "                                         pandas=True) # Optional: Return a pandas dataframe "
   ]
  },
  {
   "cell_type": "markdown",
   "metadata": {},
   "source": []
  }
 ],
 "metadata": {
  "kernelspec": {
   "display_name": "Python 3",
   "language": "python",
   "name": "python3"
  },
  "language_info": {
   "codemirror_mode": {
    "name": "ipython",
    "version": 3
   },
   "file_extension": ".py",
   "mimetype": "text/x-python",
   "name": "python",
   "nbconvert_exporter": "python",
   "pygments_lexer": "ipython3",
   "version": "3.8.0"
  }
 },
 "nbformat": 4,
 "nbformat_minor": 4
}
