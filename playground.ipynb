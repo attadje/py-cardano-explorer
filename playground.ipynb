{
 "cells": [
  {
   "cell_type": "code",
   "execution_count": 1,
   "metadata": {},
   "outputs": [],
   "source": [
    "import os\n",
    "import requests\n",
    "import pandas as pd\n",
    "from typing import Union, Optional, List, Dict, Tuple\n",
    "\n",
    "# API Header parameter\n",
    "header_param_name = 'project_id'\n",
    "\n",
    "# Blockfrost Network URL\n",
    "bf_url_cardano_mainnet = 'https://cardano-mainnet.blockfrost.io/api/v0/'\n",
    "bf_url_cardano_testnet = 'https://cardano-testnet.blockfrost.io/api/v0/'\n",
    "\n",
    "# Blockfrost Stake URL\n",
    "bf_url_stake = 'accounts/'\n",
    "bf_url_stake_rewards = '/rewards'\n",
    "bf_url_stake_amount_history = '/history'\n",
    "bf_url_stake_delegation = '/delegations'\n",
    "bf_url_stake_registration = '/registrations'\n",
    "bf_url_stake_withdrawal_history = '/withdrawals'\n",
    "bf_url_stake_mir_history = '/mirs'\n",
    "bf_url_associated_addresses = '/addresses'\n",
    "bf_url_assets_associated_addresses = '/addresses/assets'\n",
    "\n",
    "# Blockfrost Addresse URL\n",
    "bf_url_address = 'addresses/'\n",
    "bf_url_address_details = '/total'\n",
    "bf_url_address_utxo = '/utxos'\n",
    "bf_url_address_transaction = '/transactions'\n",
    "\n",
    "# Blockfrost Network Information URL\n",
    "bf_url_network_informations = '/network'\n",
    "\n",
    "# Blockfrost Epochs URL\n",
    "bf_url_epoch = 'epochs/'\n",
    "bf_url_latest_epoch = 'epochs/latest'\n",
    "bf_url_latest_epoch_protocol_parameters = 'epochs/latest/parameters'\n",
    "\n",
    "# Blockfrost Pools URL\n",
    "bf_url_polls = 'pools/'\n",
    "bf_url_param_stake_pool_history = '/history'\n",
    "\n",
    "# Blockfrost Assets URL\n",
    "bf_url_assets = 'assets/'\n",
    "bf_url_asset_history = '/history'\n",
    "bf_url_asset_transactions = '/transactions'\n",
    "bf_url_asset_addresses = '/addresses'\n",
    "bf_url_assets_policy = 'policy/'\n",
    "\n",
    "\n",
    "\n",
    "class Auth:\n",
    "    def __init__(self, api_key: str=None, network: str=\"mainnet\", proxies: dict=None):\n",
    "        \n",
    "        # Set proxies if needed\n",
    "        self.proxies = proxies\n",
    "        \n",
    "        # Set the api key in the environement variable if the api_key variable is not defined\n",
    "        if not api_key:\n",
    "            # Check if the Blockfrost API Key is configured in a environmental variable \n",
    "            assert (os.getenv('BLOCKFROST_API_KEY') is not None), '[ERROR] Your blockfrost api key is not configured in your environement path.'\n",
    "            self.api_key = os.getenv('BLOCKFROST_API_KEY')\n",
    "        \n",
    "        else:\n",
    "            self.api_key = api_key\n",
    "        \n",
    "        # Set the network url\n",
    "        if 'mainnet' in network:\n",
    "            self.network = bf_url_cardano_mainnet\n",
    "            \n",
    "        elif 'testnet' in network:\n",
    "            self.network = bf_url_cardano_testnet\n",
    "    \n",
    "    def stake_informations(self, stake_address: str) -> dict:\n",
    "        \"\"\"\n",
    "        Obtain informations about a stake account.\n",
    "        \n",
    "        :param stake_address: The stake addresse\n",
    "        :return: Dictionary with the informations about a specific stake account\n",
    "        \"\"\"\n",
    "        \n",
    "        url_stake_info = self.network + bf_url_stake + stake_address\n",
    "        \n",
    "        response = query_blockfrost(url_stake_info, self.api_key, self.proxies)\n",
    "        \n",
    "        return response\n",
    "            \n",
    "            \n",
    "    def stake_reward_history(self, stake_address: str, data_order: str='asc', nb_of_results: int=None, pandas: bool=False) -> Union[pd.DataFrame, dict]:\n",
    "        \"\"\"\n",
    "        Obtain the reward history.\n",
    "        \n",
    "        :param stake_address: The stake address\n",
    "        :param data_order: Optional, use 'desc' if you want reverse the data order (default: Ascending)\n",
    "        :param nb_of_results: Optional, number of results wanted. The api return 100 results at a time. None for return all the data\n",
    "        :param pandas: Optional, True for return a pandas dataframe (default: False)\n",
    "        :return: Dictionary or DataFrame of the rewards history \n",
    "        \"\"\"\n",
    "        \n",
    "        url_rewards_history = \"{}{}{}\".format(bf_url_stake,\n",
    "                                              stake_address,\n",
    "                                              bf_url_stake_rewards)\n",
    "        \n",
    "        response, count_api_calls = query_on_several_pages(self.network, self.api_key, data_order, nb_of_results, url_rewards_history, self.proxies)\n",
    "        \n",
    "        print('[INFO] Function stake_reward_history, {} API calls.'.format(count_api_calls))\n",
    "        \n",
    "        return pd.DataFrame.from_dict(response) if pandas else response\n",
    "    \n",
    "\n",
    "    def stake_amount_history(self, stake_address: str, data_order: str='asc', nb_of_results: int=None, pandas: bool=False) -> Union[pd.DataFrame, dict]:\n",
    "        \"\"\"\n",
    "        Obtain the stake amount history.\n",
    "        \n",
    "        :param stake_address: The stake address\n",
    "        :param data_order: Optional, use 'desc' if you want reverse the data order (default: Ascending)\n",
    "        :param nb_of_results: Optional, the number of results wanted\n",
    "        :param nb_of_results: Optional, number of results wanted. The api return 100 results at a time. None for return all the data\n",
    "        :param pandas: Optional, True for return a pandas dataframe (default: False)\n",
    "        :return: Dictionary or DataFrame of the stake amount history\n",
    "        \"\"\"\n",
    "        \n",
    "        url_stake_amount_history = \"{}{}{}\".format(bf_url_stake,\n",
    "                                                   stake_address,\n",
    "                                                   bf_url_stake_amount_history)\n",
    "        \n",
    "        response, count_api_calls = query_on_several_pages(self.network, self.api_key, data_order, nb_of_results, url_stake_amount_history, self.proxies)\n",
    "        \n",
    "        print('[INFO] Function stake_amount_history, {} API calls.'.format(count_api_calls))\n",
    "        \n",
    "        return pd.DataFrame.from_dict(response) if pandas else response\n",
    "        \n",
    "       \n",
    "\n",
    "    \n",
    "    def stake_delegation(self, stake_address: str, data_order: str='asc', nb_of_results: int=None, pandas: bool=False) -> Union[pd.DataFrame, dict]:\n",
    "        \"\"\"\n",
    "        Obtain information about the stake delegation.\n",
    "        \n",
    "        :param stake_address: The stake address\n",
    "        :param data_order: Optional, use 'desc' if you want reverse the data order (default: Ascending)\n",
    "        :param nb_of_results: Optional, number of results wanted. The api return 100 results at a time. None for return all the data\n",
    "        :param pandas: Optional, True for return a pandas dataframe (default: False)\n",
    "        :return: Dictionary or DataFrame of the stake delegation history\n",
    "        \"\"\"\n",
    "        \n",
    "        url_stake_delegation = \"{}{}{}\".format(bf_url_stake,\n",
    "                                               stake_address,\n",
    "                                               bf_url_stake_delegation)\n",
    "        \n",
    "        response, count_api_calls = query_on_several_pages(self.network, self.api_key, data_order, nb_of_results, url_stake_delegation, self.proxies)\n",
    "        \n",
    "        print('[INFO] Function stake_delegation, {} API calls.'.format(count_api_calls))\n",
    "        \n",
    "        return pd.DataFrame.from_dict(response) if pandas else response\n",
    "    \n",
    "    \n",
    "    \n",
    "    def stake_registration_deregistrations(self, stake_address: str, data_order: str='asc', nb_of_results: int=None, pandas: bool=False) -> Union[pd.DataFrame, dict]:\n",
    "        \"\"\"\n",
    "        Obtain information about the stake registration et deregistrations.\n",
    "        \n",
    "        :param stake_address: The stake address\n",
    "        :param data_order: Optional, use 'desc' if you want reverse the data order (default: Ascending)\n",
    "        :param nb_of_results: Optional, number of results wanted. The api return 100 results at a time. None for return all the data\n",
    "        :param pandas: Optional, True for return a pandas dataframe (default: False)\n",
    "        :return: Dictionary or DataFrame of the stake registration and deregistrations history\n",
    "        \"\"\"\n",
    "        \n",
    "        url_stake_registration = \"{}{}{}\".format(bf_url_stake,\n",
    "                                                 stake_address,\n",
    "                                                 bf_url_stake_registration)\n",
    "        \n",
    "        response, count_api_calls = query_on_several_pages(self.network, self.api_key, data_order, nb_of_results, url_stake_registration, self.proxies)\n",
    "        \n",
    "        print('[INFO] Function stake_registration_deregistrations, {} API calls.'.format(count_api_calls))\n",
    "        \n",
    "        return pd.DataFrame.from_dict(response) if pandas else response\n",
    "    \n",
    "    \n",
    "    def stake_withdrawal_history(self, stake_address: str, data_order: str='asc', nb_of_results: int=None, pandas: bool=False) -> Union[pd.DataFrame, dict]:\n",
    "        \"\"\"\n",
    "        Obtain information about the stake withdrawal history.\n",
    "        \n",
    "        :param stake_address: The stake address\n",
    "        :param data_order: Optional, use 'desc' if you want reverse the data order (default: Ascending)\n",
    "        :param nb_of_results: Optional, number of results wanted. The api return 100 results at a time. None for return all the data\n",
    "        :param pandas: Optional, True for return a pandas dataframe (default: False)\n",
    "        :return: Dictionary or DataFrame of the stake withdrawal history \n",
    "        \"\"\"\n",
    "        \n",
    "        url_stake_withdrawal_history = \"{}{}{}\".format(bf_url_stake,\n",
    "                                                       stake_address,\n",
    "                                                       bf_url_stake_withdrawal_history)\n",
    "        \n",
    "        response, count_api_calls = query_on_several_pages(self.network, self.api_key, data_order, nb_of_results, url_stake_withdrawal_history, self.proxies)\n",
    "        \n",
    "        print('[INFO] Function stake_withdrawal_history, {} API calls.'.format(count_api_calls))\n",
    "        \n",
    "        if pandas:\n",
    "            return pd.DataFrame.from_dict(response)\n",
    "        \n",
    "        return pd.DataFrame.from_dict(response) if pandas else response\n",
    "    \n",
    "    \n",
    "    def stake_mir_history(self, stake_address: str, data_order: str='asc', nb_of_results: int=None, pandas: bool=False) -> Union[pd.DataFrame, dict]:\n",
    "        \"\"\"\n",
    "        Obtain information about the stake mir history.\n",
    "        \n",
    "        :param stake_address: The stake address\n",
    "        :param data_order: Optional, use 'desc' if you want reverse the data order (default: Ascending)\n",
    "        :param nb_of_results: Optional, number of results wanted. The api return 100 results at a time. None for return all the data\n",
    "        :param pandas: Optional, True for return a pandas dataframe (default: False)\n",
    "        :return: Dictionary or DataFrame of the stake mir history\n",
    "        \"\"\"\n",
    "        \n",
    "        url_stake_mir_history = \"{}{}{}\".format(bf_url_stake,\n",
    "                                                stake_address,\n",
    "                                                bf_url_stake_mir_history)\n",
    "        \n",
    "        response, count_api_calls = query_on_several_pages(self.network, self.api_key, data_order, nb_of_results, url_stake_mir_history, self.proxies) \n",
    "        \n",
    "        print('[INFO] Function stake_mir_history, {} API calls.'.format(count_api_calls))\n",
    "        \n",
    "        return pd.DataFrame.from_dict(response) if pandas else response\n",
    "    \n",
    "    \n",
    "    def stake_associated_addresses(self, stake_address: str, data_order: str='asc', nb_of_results: int=None, pandas: bool=False) -> Union[pd.DataFrame, dict]:\n",
    "        \"\"\"\n",
    "        Obtain information about the stake associated addresses.\n",
    "        \n",
    "        :param stake_address: The stake address\n",
    "        :param data_order: Optional, use 'desc' if you want reverse the data order (default: Ascending)\n",
    "        :param nb_of_results: Optional, number of results wanted. The api return 100 results at a time. None for return all the data\n",
    "        :pandas: Optional, True for return a pandas dataframe (default: False)\n",
    "        :return: Dictionary or DataFrame of the stake associated addresses or empty dictionary if the stake address have no stake ADA\n",
    "        \"\"\"\n",
    "        \n",
    "        url_stake_associated_addresses = \"{}{}{}\".format(bf_url_stake,\n",
    "                                                         stake_address,\n",
    "                                                         bf_url_associated_addresses)\n",
    "        \n",
    "        response, count_api_calls = query_on_several_pages(self.network, self.api_key, data_order, nb_of_results, url_stake_associated_addresses, self.proxies)\n",
    "        \n",
    "        print('[INFO] Function stake_associated_addresses, {} API calls.'.format(count_api_calls))\n",
    "        \n",
    "        return pd.DataFrame.from_dict(response) if pandas else response\n",
    "    \n",
    "    \n",
    "    def stake_assets_associated_addresses(self, stake_address: str, data_order: str='asc', nb_of_results: int=None, pandas: bool=False) -> Union[pd.DataFrame, dict]:\n",
    "        \"\"\"\n",
    "        Obtain information about the stake assets associated addresses.\n",
    "        \n",
    "        :param stake_address: The stake address\n",
    "        :param data_order: Optional, use 'desc' if you want reverse the data order (default: Ascending)\n",
    "        :param nb_of_results: Optional, number of results wanted. The api return 100 results at a time. None for return all the data\n",
    "        :param pandas: Optional, True for return a pandas dataframe (default: False)\n",
    "        :return: Dictionary or DataFrame of the stake associated addresses or empty dictionary if the stake address have no stake ADA\n",
    "        \"\"\"\n",
    "        \n",
    "        url_stake_assets_associated_addresses = \"{}{}{}\".format(bf_url_stake,\n",
    "                                                                stake_address,\n",
    "                                                                bf_url_assets_associated_addresses)\n",
    "        \n",
    "        response, count_api_calls = query_on_several_pages(self.network, self.api_key, data_order, nb_of_results, url_stake_assets_associated_addresses, self.proxies)\n",
    "        \n",
    "        print('[INFO] Function stake_assets_associated_addresses, {} API calls.'.format(count_api_calls))\n",
    "        \n",
    "        return pd.DataFrame.from_dict(response) if pandas else response\n",
    "    \n",
    "    \n",
    "    def address_info(self, address: str) -> dict:\n",
    "        \"\"\"\n",
    "        Obtain informations about an address.\n",
    "        \n",
    "        :param stake_addresse: Address\n",
    "        :return: Dictionary or DataFrame with the informations about the address\n",
    "        \n",
    "        \"\"\"\n",
    "        \n",
    "        url_address_info = self.network + bf_url_address + address\n",
    "        \n",
    "        response = query_blockfrost(url_address_info, self.api_key, self.proxies)\n",
    "        \n",
    "        return response\n",
    "    \n",
    "    \n",
    "    \n",
    "    def address_details(self, address: str) -> dict:\n",
    "        \"\"\"\n",
    "        Obtain details information about an address.\n",
    "        \n",
    "        :param stake_addresse: Address\n",
    "        :return: Dictionary with the informations details about the address\n",
    "        \"\"\"\n",
    "        \n",
    "        url_address_details = self.network + bf_url_address + address + bf_url_address_details\n",
    "        \n",
    "        response = query_blockfrost(url_address_details, self.api_key, self.proxies)\n",
    "        \n",
    "        return response\n",
    "    \n",
    "    \n",
    "    def address_utxo(self, address: str) -> dict:\n",
    "        \"\"\"\n",
    "        Obtain UTXO of the address.\n",
    "        \n",
    "        :param stake_addresse: Address\n",
    "        :return: Dictionary with the informations details about the UTXO of an address\n",
    "        \"\"\"\n",
    "        \n",
    "        url_address_utxo = self.network + bf_url_address + address + bf_url_address_utxo\n",
    "        \n",
    "        response = query_blockfrost(url_address_utxo, self.api_key, self.proxies)\n",
    "        \n",
    "        return response\n",
    "    \n",
    "    \n",
    "    def address_transaction(self, address: str) -> dict:\n",
    "        \"\"\"\n",
    "        Transactions on the address.\n",
    "        \n",
    "        :param stake_addresse: Address\n",
    "        :return: Dictionary with the informations details about the address transaction\n",
    "        \"\"\"\n",
    "        \n",
    "        url_address_transaction = self.network + bf_url_address + address + bf_url_address_transaction\n",
    "        \n",
    "        response = query_blockfrost(url_address_transaction, self.api_key, self.proxies)\n",
    "        \n",
    "        return response\n",
    "    \n",
    "    \n",
    "    def network_info(self) -> dict:\n",
    "        \"\"\"Return detailed network information.\"\"\"\n",
    "        \n",
    "        url_network_info = self.network + bf_url_network_informations\n",
    "        \n",
    "        response = query_blockfrost(url_network_info, self.api_key, self.proxies)\n",
    "        \n",
    "        return response\n",
    "    \n",
    "    \n",
    "    def latest_epoch(self) -> dict:\n",
    "        \"\"\"Return the information about the latest, therefore current, epoch.\"\"\"\n",
    "        \n",
    "        url_latest_epoch = self.network + bf_url_latest_epoch\n",
    "        \n",
    "        response = query_blockfrost(url_latest_epoch, self.api_key, self.proxies)\n",
    "        \n",
    "        return response\n",
    "    \n",
    "    \n",
    "    def specific_epoch(self, epoch: int) -> dict:\n",
    "        \"\"\"\n",
    "        Obtain information about a specific epocht.\n",
    "        \n",
    "        :param epoch: The number of the epoch\n",
    "        :return: Dictionary with information about a specific epoch\n",
    "        \"\"\"\n",
    "        \n",
    "        # Check if the epoch is greater than 0\n",
    "        assert(int(epoch) >= 0), \"[ERROR] The number of epoch can't be negatif.\"\n",
    "        \n",
    "        url_specific_epoch = self.network + bf_url_epoch + str(epoch)\n",
    "        \n",
    "        response = query_blockfrost(url_specific_epoch, self.api_key, self.proxies)\n",
    "        \n",
    "        return response\n",
    "    \n",
    "    \n",
    "    def latest_epoch_protocol_parameters(self) -> dict:\n",
    "        \"\"\"Return the protocol parameters for the latest epoch.\"\"\"\n",
    "        \n",
    "        url_address_info = self.network + bf_url_latest_epoch_protocol_parameters\n",
    "        \n",
    "        response = query_blockfrost(url_address_info, self.api_key, self.proxies)\n",
    "        \n",
    "        return response\n",
    "    \n",
    "    \n",
    "    def epochs_history(self, epochs: list, pandas: bool=False) -> Union[pd.DataFrame, dict]:            \n",
    "        \"\"\"\n",
    "        Obtain history about the epochs.\n",
    "        \n",
    "        :param epochs: List of the epochs number\n",
    "        :pandas: Optional, True for return a pandas dataframe\n",
    "        :return: Dictionary or DataFrame of the epochs informations history\n",
    "        \"\"\"\n",
    "        \n",
    "        # Check if the parameter epochs is a list\n",
    "        assert(isinstance(epochs, list)), \"[ERROR] The parameter 'epochs' should be a list not ({})\".format(type(epochs))\n",
    "    \n",
    "        epochs_history = []\n",
    "        last_epoch = self.latest_epoch()['epoch']\n",
    "        \n",
    "        # Value to 1 because of the first call for get the last epoch\n",
    "        count_api_calls = 1\n",
    "   \n",
    "        for epoch in epochs:\n",
    "            \n",
    "            # check if the epoch number is not inferior than O or greater than the last epoch.\n",
    "            assert(epoch > 0), \"[ERROR] The number of epoch ({}) can't be inferior than 0.\".format(epoch)\n",
    "            assert(epoch <= last_epoch), \"ERROR] The number of epoch can't be greater than the last epoch ({})\".format(last_epoch)\n",
    "        \n",
    "            epochs_history.append(self.specific_epoch(epoch))\n",
    "            count_api_calls += 1\n",
    "               \n",
    "        print('[INFO] Function epochs_history, {} API calls.'.format(count_api_calls))\n",
    "            \n",
    "        return pd.DataFrame.from_dict(epochs_history) if pandas else epochs_history\n",
    "    \n",
    "    \n",
    "    def registered_polls(self, data_order: str='asc', nb_of_results: int=100, pandas: bool=False) -> Union[pd.DataFrame, dict]:\n",
    "        \"\"\"\n",
    "        Obtain the list of registered stake pools.\n",
    "        \n",
    "        :param reward_address: The stake address\n",
    "        :param data_order: Optional, use 'desc' if you want reverse the data order (default: Ascending)\n",
    "        :param nb_of_results: Optional, Number of results wanted. The api return 100 results at a time (default: 100)\n",
    "        :param pandas: Optional, True for return a pandas dataframe (default: False)\n",
    "        :return: Dictionary or DataFrame of the registered stake pools\n",
    "        \"\"\"\n",
    "        \n",
    "        response, count_api_calls = query_on_several_pages(self.network, self.api_key, data_order, nb_of_results, bf_url_polls, self.proxies)\n",
    "        \n",
    "        # Rename the column of the pool ID\n",
    "        response['registered_polls_id'] = response.pop(0)\n",
    "                  \n",
    "        print('[INFO] Function registered_polls, {} API calls.'.format(count_api_calls))\n",
    "                        \n",
    "        return pd.DataFrame.from_dict(response) if pandas else response\n",
    "    \n",
    "    \n",
    "    def pool_informations(self, pool_id: str) -> dict: \n",
    "        \"\"\"\n",
    "        Obtain Pool information.\n",
    "        \n",
    "        :param pool_id: The id of the pool\n",
    "        :return: Dictionary with the informations about a pool\n",
    "        \"\"\"\n",
    "        \n",
    "        url_pool_informations = self.network + bf_url_polls + pool_id\n",
    "        response = query_blockfrost(url_pool_informations, self.api_key, self.proxies)\n",
    "        \n",
    "        return response\n",
    "    \n",
    "    \n",
    "    def stake_pool_history(self, pool_id: str, data_order: str='asc', nb_of_results: int=100, pandas: bool=False) -> Union[pd.DataFrame, dict]:\n",
    "        \"\"\"\n",
    "        Obtain history of stake pool parameters over epochs\n",
    "        \n",
    "        :param pool_id: The id of the pool\n",
    "        :param data_order: Optional, use 'desc' if you want reverse the data order (default: Ascending)\n",
    "        :param nb_of_results: Optional, Number of results wanted. The api return 100 results at a time (default: 100)\n",
    "        :param pandas: Optional, True for return a pandas dataframe (default: False)\n",
    "        :return dict: Dictionary or DataFrame of the history of stake pool parameters over epochs\n",
    "        \"\"\"\n",
    "        \n",
    "        url_param_stake_pool_history = \"{}{}{}\".format(bf_url_polls,\n",
    "                                                       pool_id,\n",
    "                                                       bf_url_param_stake_pool_history)\n",
    "        \n",
    "        response, count_api_calls = query_on_several_pages(self.network, self.api_key, data_order, nb_of_results, url_param_stake_pool_history, self.proxies)\n",
    "        \n",
    "        print('[INFO] Function param_stake_pool_history, {} API calls.'.format(count_api_calls))\n",
    "        \n",
    "        return pd.DataFrame.from_dict(response) if pandas else response\n",
    "\n",
    "    \n",
    "    def rewards_history_analysis(self, stake_address: str, pandas: bool=False) -> Union[pd.DataFrame, dict]:\n",
    "        \"\"\"\n",
    "        Create a dataframe with explanatory variables of the stake rewards for each epochs.\n",
    "\n",
    "        :param stake_address: Stake address\n",
    "        :pandas: Optional, True for return a pandas dataframe\n",
    "        :return: Dictionary or DataFrame about informations on the rewards history\n",
    "        \"\"\"\n",
    "\n",
    "        # Get the rewards history\n",
    "        df_rewards_hist = self.stake_reward_history(stake_address, pandas=True).rename({'amount': 'rewards_amount'}, axis=1)\n",
    "        epoch_reward_list = df_rewards_hist['epoch'].tolist()\n",
    "        pool_id = df_rewards_hist['pool_id'][0]\n",
    "\n",
    "        # Get the stake amount history\n",
    "        df_amount_hist = self.stake_amount_history(stake_address, pandas=True).rename({'amount': 'stake_amount'}, axis=1)\n",
    "\n",
    "        # Get the pool informations\n",
    "        df_stake_pool_hist = self.stake_pool_history(pool_id, pandas=True)\n",
    "        # Replace the column names\n",
    "        df_stake_pool_hist_col_name = {name:'stake_pool_{}'.format(name) for name in df_stake_pool_hist.columns.tolist()}\n",
    "        df_stake_pool_hist = df_stake_pool_hist.rename(columns=df_stake_pool_hist_col_name)\n",
    "\n",
    "        # Get the epochs information\n",
    "        df_epochs_hist = self.epochs_history(epoch_reward_list, pandas=True)\n",
    "        # Replace the column names\n",
    "        df_epochs_hist_col_name = {name:'epoch_{}'.format(name) for name in df_epochs_hist.columns.tolist()}\n",
    "        df_epochs_hist = df_epochs_hist.rename(columns=df_epochs_hist_col_name)\n",
    "\n",
    "        # Concatenate the data into a unique dataframe\n",
    "        df = df_rewards_hist[['epoch','rewards_amount']].join(df_amount_hist.set_index('active_epoch'), on='epoch')\n",
    "        df = df.join(df_epochs_hist.set_index('epoch_epoch'), on='epoch')\n",
    "        df = df.join(df_stake_pool_hist.set_index('stake_pool_epoch'), on='epoch')\n",
    "\n",
    "        return df if pandas else df.to_dict()\n",
    "    \n",
    "    \n",
    "    def assets_list(self, data_order: str='asc', nb_of_results: int=100, pandas: bool=False) -> Union[pd.DataFrame, dict]:\n",
    "        \"\"\"\n",
    "        List of assets.\n",
    "        \n",
    "        :param data_order: Optional, use 'desc' if you want reverse the data order (default: Ascending)\n",
    "        :param nb_of_results: Optional, Number of results wanted. The api return 100 results at a time (default: 100)\n",
    "        :param pandas: Optional, True for return a pandas dataframe (default: False)\n",
    "        :return: Dictionary or DataFrame of the assets\n",
    "        \"\"\"\n",
    "        \n",
    "\n",
    "        response, count_api_calls = query_on_several_pages(self.network, self.api_key, data_order, nb_of_results, bf_url_assets, self.proxies)\n",
    "        \n",
    "        print('[INFO] Function assets_list, {} API calls.'.format(count_api_calls))\n",
    "        \n",
    "        return pd.DataFrame.from_dict(response) if pandas else response\n",
    "    \n",
    "    \n",
    "    def specific_asset(self, asset: str) -> dict: \n",
    "        \"\"\"\n",
    "        Obtain history of stake pool parameters over epochs.\n",
    "        \n",
    "        :param assets: Assets (Concatenation of the policy_id and hex-encoded asset_name)\n",
    "        :return: Dictionary with the info about the asset\n",
    "        \"\"\"\n",
    "        \n",
    "        url_assets_info = self.network + bf_url_assets + asset\n",
    "        response = query_blockfrost(url_assets_info, self.api_key, self.proxies)\n",
    "        \n",
    "        return response\n",
    "    \n",
    "    \n",
    "    def asset_history(self, asset: str, data_order: str='asc', nb_of_results: int=100, pandas: bool=False) -> Union[pd.DataFrame, dict]:\n",
    "        \"\"\"\n",
    "        Obtain the history of a specific asset.\n",
    "        \n",
    "        :param assets: Assets (Concatenation of the policy_id and hex-encoded asset_name)\n",
    "        :param data_order: Optional, use 'desc' if you want reverse the data order (default: Ascending)\n",
    "        :param nb_of_results: Optional, Number of results wanted. The api return 100 results at a time (default: 100)\n",
    "        :param pandas: Optional, True for return a pandas dataframe (default: False)\n",
    "        :return: Dictionary or DataFrame of the assets\n",
    "        \"\"\"\n",
    "        \n",
    "        url_assets_history = bf_url_assets + asset + bf_url_asset_history\n",
    "        response, count_api_calls = query_on_several_pages(self.network, self.api_key, data_order, nb_of_results, url_assets_history, self.proxies)\n",
    "        \n",
    "        print('[INFO] Function asset_history, {} API calls.'.format(count_api_calls))\n",
    "        \n",
    "        return pd.DataFrame.from_dict(response) if pandas else response\n",
    "    \n",
    "    \n",
    "    def asset_transactions(self, asset: str, data_order: str='asc', nb_of_results: int=100, pandas: bool=False) -> Union[pd.DataFrame, dict]:\n",
    "        \"\"\"\n",
    "        List of a specific asset transactions.\n",
    "        \n",
    "        :param assets: Assets (Concatenation of the policy_id and hex-encoded asset_name)\n",
    "        :param data_order: Optional, use 'desc' if you want reverse the data order (default: Ascending)\n",
    "        :param nb_of_results: Optional, Number of results wanted. The api return 100 results at a time (default: 100)\n",
    "        :param pandas: Optional, True for return a pandas dataframe (default: False)\n",
    "        :return: Dictionary or DataFrame of the assets\n",
    "        \"\"\"\n",
    "        \n",
    "        url_assets_transactions = bf_url_assets + asset + bf_url_asset_transactions\n",
    "        response, count_api_calls = query_on_several_pages(self.network, self.api_key, data_order, nb_of_results, url_assets_transactions, self.proxies)\n",
    "        \n",
    "        print('[INFO] Function asset_transactions, {} API calls.'.format(count_api_calls))\n",
    "        \n",
    "        return pd.DataFrame.from_dict(response) if pandas else response\n",
    "    \n",
    "    def asset_addresses(self, asset: str, data_order: str='asc', nb_of_results: int=100, pandas: bool=False) -> Union[pd.DataFrame, dict]:\n",
    "        \"\"\"\n",
    "        List of a addresses containing a specific asset.\n",
    "        \n",
    "        :param assets: Assets (Concatenation of the policy_id and hex-encoded asset_name)\n",
    "        :param data_order: Optional, use 'desc' if you want reverse the data order (default: Ascending)\n",
    "        :param nb_of_results: Optional, Number of results wanted. The api return 100 results at a time (default: 100)\n",
    "        :param pandas: Optional, True for return a pandas dataframe (default: False)\n",
    "        :return: Dictionary or DataFrame of the assets\n",
    "        \"\"\"\n",
    "        \n",
    "        url_assets_addresses = bf_url_assets + asset + bf_url_asset_addresses\n",
    "        response, count_api_calls = query_on_several_pages(self.network, self.api_key, data_order, nb_of_results, url_assets_addresses, self.proxies)\n",
    "        \n",
    "        print('[INFO] Function asset_addresses, {} API calls.'.format(count_api_calls))\n",
    "        \n",
    "        return pd.DataFrame.from_dict(response) if pandas else response\n",
    "    \n",
    "    def assets_policy(self, policy_id: str, data_order: str='asc', nb_of_results: int=100, pandas: bool=False) -> Union[pd.DataFrame, dict]:\n",
    "        \"\"\"\n",
    "        List of a addresses containing a specific asset.\n",
    "        \n",
    "        :param policy_id: Policy ID of the asset\n",
    "        :param data_order: Optional, use 'desc' if you want reverse the data order (default: Ascending)\n",
    "        :param nb_of_results: Optional, Number of results wanted. The api return 100 results at a time (default: 100)\n",
    "        :param pandas: Optional, True for return a pandas dataframe (default: False)\n",
    "        :return: Dictionary or DataFrame of the assets\n",
    "        \"\"\"\n",
    "        \n",
    "        url_assets_addresses = bf_url_assets + bf_url_assets_policy + policy_id\n",
    "        response, count_api_calls = query_on_several_pages(self.network, self.api_key, data_order, nb_of_results, url_assets_addresses, self.proxies)\n",
    "        \n",
    "        print('[INFO] Function assets_policy, {} API calls.'.format(count_api_calls))\n",
    "        \n",
    "        return pd.DataFrame.from_dict(response) if pandas else response\n",
    "    \n",
    "      \n",
    "def set_query_string_parameter(page: int, data_order: str=\"\") -> str:\n",
    "    \"\"\"\n",
    "    Create the query string to add at the end of the request url.\n",
    "    \n",
    "    :param page: Page number to extract the data\n",
    "    :param data_order: Order of the data \n",
    "    :return: Query string parameter\n",
    "    \"\"\"\n",
    "   \n",
    "    # Data is returned in ascending (oldest first, newest last) order.\n",
    "    # Use the ?order=desc query parameter to reverse this order\n",
    "    order_parameter = lambda order: 'order=desc'if 'desc' in order else ''\n",
    "    \n",
    "    # By default, the api return 100 results at a time. You have to use ?page=2 to list through the results\n",
    "    page_parameter = 'page={}'.format(page)\n",
    "    \n",
    "    query_string_parameter = '?' + page_parameter + '&' + order_parameter(data_order)\n",
    "    \n",
    "    return query_string_parameter\n",
    "\n",
    "\n",
    "def query_blockfrost(url: str, api_key: str, proxies: dict=None) -> dict:\n",
    "    \"\"\"\n",
    "    Query blockfrost api.\n",
    "    \n",
    "    :param url: The url\n",
    "    :param api_key: Blockfrost api Key\n",
    "    :return: Dictionary\n",
    "    \"\"\"\n",
    "    try:\n",
    "        if not proxies:\n",
    "            response = requests.get(url, headers={header_param_name:api_key})\n",
    "        else:\n",
    "            response = requests.get(url, proxies=proxies, headers={header_param_name:api_key})  \n",
    "    except Exception as e:\n",
    "        raise Exception('[ERROR] {}'.format(e))\n",
    "    \n",
    "    if response.status_code == 200:\n",
    "        return response.json()\n",
    "    else:\n",
    "        json = response.json()\n",
    "        raise Exception(\"[ERROR {}] {} ({}). {}\".format(json['status_code'],\n",
    "                                                   json['error'],\n",
    "                                                   url,\n",
    "                                                   json['message']))\n",
    "\n",
    "\n",
    "def nb_results_to_return(nb_of_results: int) -> Tuple[int, bool]:\n",
    "    \"\"\"\n",
    "    Set the variables for determinated the number of data to return.\n",
    "    If nb_of_results is None, nb_last_page is set to 0 for get all the data available.\n",
    "    \n",
    "    :param nb_of_results: Number of data to return, None for get all the data available\n",
    "    :return: The number of the last page to get the data (or 0 for get all the data) and False (True for get all the data) or raise an error\n",
    "    \"\"\"\n",
    "\n",
    "    # Check if the nb_of_results is not equal to 0 or is not a multiple of 100\n",
    "    if nb_of_results != None:\n",
    "        assert(nb_of_results!=0), \"[ERROR] The function parameter 'nb_of_results' ({}), cant be zero, he should be 100 or a multiple of 100 or None for get all the data available.\".format(nb_of_results)\n",
    "        assert(nb_of_results%100 == 0), \"[ERROR] The function parameter 'nb_of_results' ({}), should be 100 or a multiple of 100 or None for get all the data available.\".format(nb_of_results)\n",
    "   \n",
    "    # Determine the number of the last page to get the data, O for request all the data available.\n",
    "    nb_last_page = lambda number: 0 if not number else int(number / 100) \n",
    "\n",
    "    get_all_data = True\n",
    "    \n",
    "    if not nb_of_results:\n",
    "        return nb_last_page(nb_of_results), get_all_data\n",
    "\n",
    "    return nb_last_page(nb_of_results), False\n",
    "\n",
    "\n",
    "def query_on_several_pages(network: str, api_key: str, data_order: str, nb_of_results: int, query_url: str, proxies: dict) -> Tuple[dict, int]:\n",
    "    \"\"\"\n",
    "    Get the data from several pages and the number of api calls.\n",
    "    The blockfrost api return max 100 results at the time, this fonction allow to concatenate the data from each pages.\n",
    "    \n",
    "    :param network: The network (mainnet|testnet|local)\n",
    "    :param api_key: Blockfrost api key\n",
    "    :param data_order: The data order\n",
    "    :param nb_of_results: The number of results wanted \n",
    "    :param query_url: Query url\n",
    "    :return: Dictionary with the data and number of api calls\n",
    "    \"\"\"\n",
    "            \n",
    "    # List of dataframes, where each dataframe represent the data from each page\n",
    "    dataframes = []\n",
    "    \n",
    "    # Set the param for determinated the number of data to return\n",
    "    nb_last_page, get_all_data = nb_results_to_return(nb_of_results)\n",
    "   \n",
    "    nb_page = 0\n",
    "    count_api_calls = 0\n",
    "\n",
    "    # Retrieve the data of each page according to the desired number of data wanted or until the page is empty\n",
    "    while (nb_page < nb_last_page) or (get_all_data==True):\n",
    "\n",
    "        nb_page+=1\n",
    "        count_api_calls =+1\n",
    "\n",
    "        api_query_string_param = set_query_string_parameter(nb_page, data_order)\n",
    "\n",
    "        url = network + query_url + api_query_string_param\n",
    "\n",
    "        data = query_blockfrost(url, api_key, proxies)\n",
    "\n",
    "        # Return the data as soon as a page is empty.\n",
    "        if not data:\n",
    "            # If no data have been found, return an empty dictionary\n",
    "            if not dataframes:\n",
    "                print(\"[INFO] No data available.\" )\n",
    "                return {}, count_api_calls\n",
    "            \n",
    "            _dict = pd.concat(dataframes).reset_index(drop=True).to_dict()\n",
    "            \n",
    "            return _dict, count_api_calls\n",
    "\n",
    "        # Create a dataframe with the data from each page and add them to the list of data\n",
    "        dataframes.append(pd.DataFrame.from_dict(data))\n",
    "    \n",
    "    _dict = pd.concat(dataframes).reset_index(drop=True).to_dict()\n",
    "\n",
    "    return _dict, count_api_calls"
   ]
  },
  {
   "cell_type": "code",
   "execution_count": 2,
   "metadata": {},
   "outputs": [
    {
     "name": "stdout",
     "output_type": "stream",
     "text": [
      "env: BLOCKFROST_API_KEY=iSXrfNxhpPChKCnts2KX9MJ1eQ7exYgb\n"
     ]
    }
   ],
   "source": [
    "# Set the blockfrost api key in the environement variable\n",
    "%env BLOCKFROST_API_KEY=iSXrfNxhpPChKCnts2KX9MJ1eQ7exYgb"
   ]
  },
  {
   "cell_type": "code",
   "execution_count": 3,
   "metadata": {},
   "outputs": [
    {
     "data": {
      "text/plain": [
       "'iSXrfNxhpPChKCnts2KX9MJ1eQ7exYgb'"
      ]
     },
     "execution_count": 3,
     "metadata": {},
     "output_type": "execute_result"
    }
   ],
   "source": [
    "os.getenv('BLOCKFROST_API_KEY')"
   ]
  },
  {
   "cell_type": "code",
   "execution_count": 4,
   "metadata": {},
   "outputs": [],
   "source": [
    "cardano_mainnet = Auth()"
   ]
  },
  {
   "cell_type": "markdown",
   "metadata": {},
   "source": [
    "## Network Informations"
   ]
  },
  {
   "cell_type": "markdown",
   "metadata": {},
   "source": [
    "### Network Info\n",
    "Return detailed about the network."
   ]
  },
  {
   "cell_type": "code",
   "execution_count": 5,
   "metadata": {},
   "outputs": [
    {
     "data": {
      "text/plain": [
       "{'supply': {'max': '45000000000000000',\n",
       "  'total': '33117618880452547',\n",
       "  'circulating': '32829952624601130'},\n",
       " 'stake': {'live': '23239614004868400', 'active': '23311196777534712'}}"
      ]
     },
     "execution_count": 5,
     "metadata": {},
     "output_type": "execute_result"
    }
   ],
   "source": [
    "cardano_mainnet.network_info()"
   ]
  },
  {
   "cell_type": "markdown",
   "metadata": {},
   "source": [
    "## Stake\n",
    "___"
   ]
  },
  {
   "cell_type": "code",
   "execution_count": 6,
   "metadata": {},
   "outputs": [],
   "source": [
    "stake_address='stake1uyttshgm6jtejckv48tll58hfw3fg2ffrcc4d5qvcc4yc7q9jsalf'"
   ]
  },
  {
   "cell_type": "markdown",
   "metadata": {},
   "source": [
    "### Stake Informations\n",
    "Obtain information about a specific stake account."
   ]
  },
  {
   "cell_type": "code",
   "execution_count": 7,
   "metadata": {},
   "outputs": [
    {
     "data": {
      "text/plain": [
       "{'stake_address': 'stake1uyttshgm6jtejckv48tll58hfw3fg2ffrcc4d5qvcc4yc7q9jsalf',\n",
       " 'active': True,\n",
       " 'active_epoch': 271,\n",
       " 'controlled_amount': '3002610711',\n",
       " 'rewards_sum': '21216846',\n",
       " 'withdrawals_sum': '21239707',\n",
       " 'reserves_sum': '97317',\n",
       " 'treasury_sum': '0',\n",
       " 'withdrawable_amount': '74456',\n",
       " 'pool_id': 'pool1ekhy5xsgjaq38em75vevk8df0k0rljju77tljw288ys5kumqce5'}"
      ]
     },
     "execution_count": 7,
     "metadata": {},
     "output_type": "execute_result"
    }
   ],
   "source": [
    "cardano_mainnet.stake_informations(stake_address)"
   ]
  },
  {
   "cell_type": "markdown",
   "metadata": {},
   "source": [
    "### Stake Reward History \n",
    "Obtain information about the reward history of a specific account."
   ]
  },
  {
   "cell_type": "code",
   "execution_count": 113,
   "metadata": {},
   "outputs": [
    {
     "name": "stdout",
     "output_type": "stream",
     "text": [
      "[INFO] Function stake_reward_history, 1 API calls.\n",
      "[INFO] Function stake_reward_history, 1 API calls.\n"
     ]
    },
    {
     "data": {
      "text/html": [
       "<div>\n",
       "<style scoped>\n",
       "    .dataframe tbody tr th:only-of-type {\n",
       "        vertical-align: middle;\n",
       "    }\n",
       "\n",
       "    .dataframe tbody tr th {\n",
       "        vertical-align: top;\n",
       "    }\n",
       "\n",
       "    .dataframe thead th {\n",
       "        text-align: right;\n",
       "    }\n",
       "</style>\n",
       "<table border=\"1\" class=\"dataframe\">\n",
       "  <thead>\n",
       "    <tr style=\"text-align: right;\">\n",
       "      <th></th>\n",
       "      <th>epoch</th>\n",
       "      <th>amount</th>\n",
       "      <th>pool_id</th>\n",
       "    </tr>\n",
       "  </thead>\n",
       "  <tbody>\n",
       "    <tr>\n",
       "      <th>0</th>\n",
       "      <td>273</td>\n",
       "      <td>587159</td>\n",
       "      <td>pool1ekhy5xsgjaq38em75vevk8df0k0rljju77tljw288...</td>\n",
       "    </tr>\n",
       "    <tr>\n",
       "      <th>1</th>\n",
       "      <td>274</td>\n",
       "      <td>715853</td>\n",
       "      <td>pool1ekhy5xsgjaq38em75vevk8df0k0rljju77tljw288...</td>\n",
       "    </tr>\n",
       "    <tr>\n",
       "      <th>2</th>\n",
       "      <td>275</td>\n",
       "      <td>902199</td>\n",
       "      <td>pool1ekhy5xsgjaq38em75vevk8df0k0rljju77tljw288...</td>\n",
       "    </tr>\n",
       "    <tr>\n",
       "      <th>3</th>\n",
       "      <td>276</td>\n",
       "      <td>824733</td>\n",
       "      <td>pool1ekhy5xsgjaq38em75vevk8df0k0rljju77tljw288...</td>\n",
       "    </tr>\n",
       "    <tr>\n",
       "      <th>4</th>\n",
       "      <td>277</td>\n",
       "      <td>1056705</td>\n",
       "      <td>pool1ekhy5xsgjaq38em75vevk8df0k0rljju77tljw288...</td>\n",
       "    </tr>\n",
       "    <tr>\n",
       "      <th>5</th>\n",
       "      <td>278</td>\n",
       "      <td>1192163</td>\n",
       "      <td>pool1ekhy5xsgjaq38em75vevk8df0k0rljju77tljw288...</td>\n",
       "    </tr>\n",
       "    <tr>\n",
       "      <th>6</th>\n",
       "      <td>279</td>\n",
       "      <td>1397178</td>\n",
       "      <td>pool1ekhy5xsgjaq38em75vevk8df0k0rljju77tljw288...</td>\n",
       "    </tr>\n",
       "    <tr>\n",
       "      <th>7</th>\n",
       "      <td>280</td>\n",
       "      <td>1695805</td>\n",
       "      <td>pool1ekhy5xsgjaq38em75vevk8df0k0rljju77tljw288...</td>\n",
       "    </tr>\n",
       "    <tr>\n",
       "      <th>8</th>\n",
       "      <td>281</td>\n",
       "      <td>1456345</td>\n",
       "      <td>pool1ekhy5xsgjaq38em75vevk8df0k0rljju77tljw288...</td>\n",
       "    </tr>\n",
       "    <tr>\n",
       "      <th>9</th>\n",
       "      <td>282</td>\n",
       "      <td>1587885</td>\n",
       "      <td>pool1ekhy5xsgjaq38em75vevk8df0k0rljju77tljw288...</td>\n",
       "    </tr>\n",
       "    <tr>\n",
       "      <th>10</th>\n",
       "      <td>283</td>\n",
       "      <td>1800693</td>\n",
       "      <td>pool1ekhy5xsgjaq38em75vevk8df0k0rljju77tljw288...</td>\n",
       "    </tr>\n",
       "    <tr>\n",
       "      <th>11</th>\n",
       "      <td>284</td>\n",
       "      <td>1677728</td>\n",
       "      <td>pool1ekhy5xsgjaq38em75vevk8df0k0rljju77tljw288...</td>\n",
       "    </tr>\n",
       "    <tr>\n",
       "      <th>12</th>\n",
       "      <td>285</td>\n",
       "      <td>2219942</td>\n",
       "      <td>pool1ekhy5xsgjaq38em75vevk8df0k0rljju77tljw288...</td>\n",
       "    </tr>\n",
       "    <tr>\n",
       "      <th>13</th>\n",
       "      <td>286</td>\n",
       "      <td>1832168</td>\n",
       "      <td>pool1ekhy5xsgjaq38em75vevk8df0k0rljju77tljw288...</td>\n",
       "    </tr>\n",
       "    <tr>\n",
       "      <th>14</th>\n",
       "      <td>287</td>\n",
       "      <td>2270290</td>\n",
       "      <td>pool1ekhy5xsgjaq38em75vevk8df0k0rljju77tljw288...</td>\n",
       "    </tr>\n",
       "  </tbody>\n",
       "</table>\n",
       "</div>"
      ],
      "text/plain": [
       "    epoch   amount                                            pool_id\n",
       "0     273   587159  pool1ekhy5xsgjaq38em75vevk8df0k0rljju77tljw288...\n",
       "1     274   715853  pool1ekhy5xsgjaq38em75vevk8df0k0rljju77tljw288...\n",
       "2     275   902199  pool1ekhy5xsgjaq38em75vevk8df0k0rljju77tljw288...\n",
       "3     276   824733  pool1ekhy5xsgjaq38em75vevk8df0k0rljju77tljw288...\n",
       "4     277  1056705  pool1ekhy5xsgjaq38em75vevk8df0k0rljju77tljw288...\n",
       "5     278  1192163  pool1ekhy5xsgjaq38em75vevk8df0k0rljju77tljw288...\n",
       "6     279  1397178  pool1ekhy5xsgjaq38em75vevk8df0k0rljju77tljw288...\n",
       "7     280  1695805  pool1ekhy5xsgjaq38em75vevk8df0k0rljju77tljw288...\n",
       "8     281  1456345  pool1ekhy5xsgjaq38em75vevk8df0k0rljju77tljw288...\n",
       "9     282  1587885  pool1ekhy5xsgjaq38em75vevk8df0k0rljju77tljw288...\n",
       "10    283  1800693  pool1ekhy5xsgjaq38em75vevk8df0k0rljju77tljw288...\n",
       "11    284  1677728  pool1ekhy5xsgjaq38em75vevk8df0k0rljju77tljw288...\n",
       "12    285  2219942  pool1ekhy5xsgjaq38em75vevk8df0k0rljju77tljw288...\n",
       "13    286  1832168  pool1ekhy5xsgjaq38em75vevk8df0k0rljju77tljw288...\n",
       "14    287  2270290  pool1ekhy5xsgjaq38em75vevk8df0k0rljju77tljw288..."
      ]
     },
     "execution_count": 113,
     "metadata": {},
     "output_type": "execute_result"
    }
   ],
   "source": [
    "cardano_mainnet.stake_reward_history(stake_address) \n",
    "#or      \n",
    "cardano_mainnet.stake_reward_history(stake_address, \n",
    "                                     data_order='asc', # Optional: Data order (default: Ascending)\n",
    "                                     nb_of_results=100, # Optional: Return max 100 results at the time (default: None), None for get all the data available.\n",
    "                                     pandas=True) # Optional: Return a pandas dataframe"
   ]
  },
  {
   "cell_type": "markdown",
   "metadata": {},
   "source": [
    "### Stake Amount History \n",
    "Obtain information about the history of a specific account."
   ]
  },
  {
   "cell_type": "code",
   "execution_count": 27,
   "metadata": {},
   "outputs": [
    {
     "name": "stdout",
     "output_type": "stream",
     "text": [
      "[INFO] Function stake_amount_history, 1 API calls.\n",
      "[INFO] Function stake_amount_history, 1 API calls.\n"
     ]
    },
    {
     "data": {
      "text/html": [
       "<div>\n",
       "<style scoped>\n",
       "    .dataframe tbody tr th:only-of-type {\n",
       "        vertical-align: middle;\n",
       "    }\n",
       "\n",
       "    .dataframe tbody tr th {\n",
       "        vertical-align: top;\n",
       "    }\n",
       "\n",
       "    .dataframe thead th {\n",
       "        text-align: right;\n",
       "    }\n",
       "</style>\n",
       "<table border=\"1\" class=\"dataframe\">\n",
       "  <thead>\n",
       "    <tr style=\"text-align: right;\">\n",
       "      <th></th>\n",
       "      <th>active_epoch</th>\n",
       "      <th>amount</th>\n",
       "      <th>pool_id</th>\n",
       "    </tr>\n",
       "  </thead>\n",
       "  <tbody>\n",
       "    <tr>\n",
       "      <th>0</th>\n",
       "      <td>242</td>\n",
       "      <td>1424619058</td>\n",
       "      <td>pool1u7mqtde27swkarngjsn5mmw3sy20zavlafgqkmg8q...</td>\n",
       "    </tr>\n",
       "    <tr>\n",
       "      <th>1</th>\n",
       "      <td>243</td>\n",
       "      <td>1424619058</td>\n",
       "      <td>pool1u7mqtde27swkarngjsn5mmw3sy20zavlafgqkmg8q...</td>\n",
       "    </tr>\n",
       "    <tr>\n",
       "      <th>2</th>\n",
       "      <td>244</td>\n",
       "      <td>1424619058</td>\n",
       "      <td>pool1u7mqtde27swkarngjsn5mmw3sy20zavlafgqkmg8q...</td>\n",
       "    </tr>\n",
       "    <tr>\n",
       "      <th>3</th>\n",
       "      <td>245</td>\n",
       "      <td>1425498425</td>\n",
       "      <td>pool1u7mqtde27swkarngjsn5mmw3sy20zavlafgqkmg8q...</td>\n",
       "    </tr>\n",
       "    <tr>\n",
       "      <th>4</th>\n",
       "      <td>246</td>\n",
       "      <td>1426468544</td>\n",
       "      <td>pool1u7mqtde27swkarngjsn5mmw3sy20zavlafgqkmg8q...</td>\n",
       "    </tr>\n",
       "  </tbody>\n",
       "</table>\n",
       "</div>"
      ],
      "text/plain": [
       "   active_epoch      amount                                            pool_id\n",
       "0           242  1424619058  pool1u7mqtde27swkarngjsn5mmw3sy20zavlafgqkmg8q...\n",
       "1           243  1424619058  pool1u7mqtde27swkarngjsn5mmw3sy20zavlafgqkmg8q...\n",
       "2           244  1424619058  pool1u7mqtde27swkarngjsn5mmw3sy20zavlafgqkmg8q...\n",
       "3           245  1425498425  pool1u7mqtde27swkarngjsn5mmw3sy20zavlafgqkmg8q...\n",
       "4           246  1426468544  pool1u7mqtde27swkarngjsn5mmw3sy20zavlafgqkmg8q..."
      ]
     },
     "execution_count": 27,
     "metadata": {},
     "output_type": "execute_result"
    }
   ],
   "source": [
    "cardano_mainnet.stake_amount_history(stake_address)\n",
    "#or                        \n",
    "cardano_mainnet.stake_amount_history(stake_address, \n",
    "                                     data_order='asc', # Optional: Data order (default: Ascending)\n",
    "                                     nb_of_results=100, # Optional: Return max 100 results at the time (default: None), None for get all the data available.\n",
    "                                     pandas=True) # Optional: Return a pandas dataframe"
   ]
  },
  {
   "cell_type": "markdown",
   "metadata": {},
   "source": [
    "### Stake Delegation History\n",
    "Obtain information about the delegation of a specific account."
   ]
  },
  {
   "cell_type": "code",
   "execution_count": 28,
   "metadata": {},
   "outputs": [
    {
     "name": "stdout",
     "output_type": "stream",
     "text": [
      "[INFO] Function stake_delegation, 1 API calls.\n",
      "[INFO] Function stake_delegation, 1 API calls.\n"
     ]
    },
    {
     "data": {
      "text/html": [
       "<div>\n",
       "<style scoped>\n",
       "    .dataframe tbody tr th:only-of-type {\n",
       "        vertical-align: middle;\n",
       "    }\n",
       "\n",
       "    .dataframe tbody tr th {\n",
       "        vertical-align: top;\n",
       "    }\n",
       "\n",
       "    .dataframe thead th {\n",
       "        text-align: right;\n",
       "    }\n",
       "</style>\n",
       "<table border=\"1\" class=\"dataframe\">\n",
       "  <thead>\n",
       "    <tr style=\"text-align: right;\">\n",
       "      <th></th>\n",
       "      <th>active_epoch</th>\n",
       "      <th>tx_hash</th>\n",
       "      <th>amount</th>\n",
       "      <th>pool_id</th>\n",
       "    </tr>\n",
       "  </thead>\n",
       "  <tbody>\n",
       "    <tr>\n",
       "      <th>0</th>\n",
       "      <td>242</td>\n",
       "      <td>b602262e1264dabd6c10747415558934d196834d7c7dea...</td>\n",
       "      <td>747625479</td>\n",
       "      <td>pool1u7mqtde27swkarngjsn5mmw3sy20zavlafgqkmg8q...</td>\n",
       "    </tr>\n",
       "    <tr>\n",
       "      <th>1</th>\n",
       "      <td>248</td>\n",
       "      <td>5822a3b2ebc0a45426aff524e5a0fd2bf7906f671e875a...</td>\n",
       "      <td>747452454</td>\n",
       "      <td>pool1m62sl6rauje9cknrkhwl39tc4hujudkd7gp478dpz...</td>\n",
       "    </tr>\n",
       "    <tr>\n",
       "      <th>2</th>\n",
       "      <td>259</td>\n",
       "      <td>2c0c3c2123b74b926d2b6969ea21f49ae92861acecf2b8...</td>\n",
       "      <td>21263559</td>\n",
       "      <td>pool1lurfk0k0wwx54hlg8a7zp3jtstu57u59aeq7aketl...</td>\n",
       "    </tr>\n",
       "  </tbody>\n",
       "</table>\n",
       "</div>"
      ],
      "text/plain": [
       "   active_epoch                                            tx_hash     amount  \\\n",
       "0           242  b602262e1264dabd6c10747415558934d196834d7c7dea...  747625479   \n",
       "1           248  5822a3b2ebc0a45426aff524e5a0fd2bf7906f671e875a...  747452454   \n",
       "2           259  2c0c3c2123b74b926d2b6969ea21f49ae92861acecf2b8...   21263559   \n",
       "\n",
       "                                             pool_id  \n",
       "0  pool1u7mqtde27swkarngjsn5mmw3sy20zavlafgqkmg8q...  \n",
       "1  pool1m62sl6rauje9cknrkhwl39tc4hujudkd7gp478dpz...  \n",
       "2  pool1lurfk0k0wwx54hlg8a7zp3jtstu57u59aeq7aketl...  "
      ]
     },
     "execution_count": 28,
     "metadata": {},
     "output_type": "execute_result"
    }
   ],
   "source": [
    "cardano_mainnet.stake_delegation(stake_address)\n",
    "#or\n",
    "cardano_mainnet.stake_delegation(stake_address, \n",
    "                                 data_order='asc', # Optional: Data order (default: Ascending)\n",
    "                                 nb_of_results=100, # Optional: Return max 100 results at the time (default: None), None for get all the data available.\n",
    "                                 pandas=True) # Optional: Return a pandas dataframe"
   ]
  },
  {
   "cell_type": "markdown",
   "metadata": {},
   "source": [
    "### Stake Registrations And Deregistrations History\n",
    "Obtain information about the registrations and deregistrations of a specific account."
   ]
  },
  {
   "cell_type": "code",
   "execution_count": 29,
   "metadata": {},
   "outputs": [
    {
     "name": "stdout",
     "output_type": "stream",
     "text": [
      "[INFO] Function stake_registration_deregistrations, 1 API calls.\n",
      "[INFO] Function stake_registration_deregistrations, 1 API calls.\n"
     ]
    },
    {
     "data": {
      "text/html": [
       "<div>\n",
       "<style scoped>\n",
       "    .dataframe tbody tr th:only-of-type {\n",
       "        vertical-align: middle;\n",
       "    }\n",
       "\n",
       "    .dataframe tbody tr th {\n",
       "        vertical-align: top;\n",
       "    }\n",
       "\n",
       "    .dataframe thead th {\n",
       "        text-align: right;\n",
       "    }\n",
       "</style>\n",
       "<table border=\"1\" class=\"dataframe\">\n",
       "  <thead>\n",
       "    <tr style=\"text-align: right;\">\n",
       "      <th></th>\n",
       "      <th>tx_hash</th>\n",
       "      <th>action</th>\n",
       "    </tr>\n",
       "  </thead>\n",
       "  <tbody>\n",
       "    <tr>\n",
       "      <th>0</th>\n",
       "      <td>b602262e1264dabd6c10747415558934d196834d7c7dea...</td>\n",
       "      <td>registered</td>\n",
       "    </tr>\n",
       "  </tbody>\n",
       "</table>\n",
       "</div>"
      ],
      "text/plain": [
       "                                             tx_hash      action\n",
       "0  b602262e1264dabd6c10747415558934d196834d7c7dea...  registered"
      ]
     },
     "execution_count": 29,
     "metadata": {},
     "output_type": "execute_result"
    }
   ],
   "source": [
    "cardano_mainnet.stake_registration_deregistrations(stake_address)\n",
    "#or\n",
    "cardano_mainnet.stake_registration_deregistrations(stake_address, \n",
    "                                                   data_order='asc', # Optional: Data order (default: Ascending)\n",
    "                                                   nb_of_results=100, # Optional: Return max 100 results at the time (default: None), None for get all the data available.\n",
    "                                                   pandas=True) # Optional: Return a pandas dataframe"
   ]
  },
  {
   "cell_type": "markdown",
   "metadata": {},
   "source": [
    "### Stake Withdrawal History\n",
    "Obtain information about the withdrawals of a specific account."
   ]
  },
  {
   "cell_type": "code",
   "execution_count": 22,
   "metadata": {},
   "outputs": [
    {
     "name": "stdout",
     "output_type": "stream",
     "text": [
      "[INFO] Function stake_withdrawal_history, 1 API calls.\n",
      "[INFO] Function stake_withdrawal_history, 1 API calls.\n"
     ]
    },
    {
     "data": {
      "text/html": [
       "<div>\n",
       "<style scoped>\n",
       "    .dataframe tbody tr th:only-of-type {\n",
       "        vertical-align: middle;\n",
       "    }\n",
       "\n",
       "    .dataframe tbody tr th {\n",
       "        vertical-align: top;\n",
       "    }\n",
       "\n",
       "    .dataframe thead th {\n",
       "        text-align: right;\n",
       "    }\n",
       "</style>\n",
       "<table border=\"1\" class=\"dataframe\">\n",
       "  <thead>\n",
       "    <tr style=\"text-align: right;\">\n",
       "      <th></th>\n",
       "      <th>tx_hash</th>\n",
       "      <th>amount</th>\n",
       "    </tr>\n",
       "  </thead>\n",
       "  <tbody>\n",
       "    <tr>\n",
       "      <th>0</th>\n",
       "      <td>80b09b61d2da86f5847d0b9a5f72d32224fcd7e1aa1716...</td>\n",
       "      <td>21239707</td>\n",
       "    </tr>\n",
       "  </tbody>\n",
       "</table>\n",
       "</div>"
      ],
      "text/plain": [
       "                                             tx_hash    amount\n",
       "0  80b09b61d2da86f5847d0b9a5f72d32224fcd7e1aa1716...  21239707"
      ]
     },
     "execution_count": 22,
     "metadata": {},
     "output_type": "execute_result"
    }
   ],
   "source": [
    "cardano_mainnet.stake_withdrawal_history(stake_adress)\n",
    "#or\n",
    "cardano_mainnet.stake_withdrawal_history(stake_address, \n",
    "                                         data_order='asc', # Optional: Data order (default: Ascending)\n",
    "                                         nb_of_results=100, # Optional: Return max 100 results at the time (default: None), None for get all the data available.\n",
    "                                         pandas=True) # Optional: Return a pandas dataframe"
   ]
  },
  {
   "cell_type": "markdown",
   "metadata": {},
   "source": [
    "### Stake MIR History\n",
    "Obtain information about the MIRs of a specific account."
   ]
  },
  {
   "cell_type": "code",
   "execution_count": 7,
   "metadata": {},
   "outputs": [
    {
     "name": "stdout",
     "output_type": "stream",
     "text": [
      "[INFO] Function stake_mir_history, 1 API calls.\n",
      "[INFO] Function stake_mir_history, 1 API calls.\n"
     ]
    },
    {
     "data": {
      "text/html": [
       "<div>\n",
       "<style scoped>\n",
       "    .dataframe tbody tr th:only-of-type {\n",
       "        vertical-align: middle;\n",
       "    }\n",
       "\n",
       "    .dataframe tbody tr th {\n",
       "        vertical-align: top;\n",
       "    }\n",
       "\n",
       "    .dataframe thead th {\n",
       "        text-align: right;\n",
       "    }\n",
       "</style>\n",
       "<table border=\"1\" class=\"dataframe\">\n",
       "  <thead>\n",
       "    <tr style=\"text-align: right;\">\n",
       "      <th></th>\n",
       "      <th>tx_hash</th>\n",
       "      <th>amount</th>\n",
       "    </tr>\n",
       "  </thead>\n",
       "  <tbody>\n",
       "    <tr>\n",
       "      <th>0</th>\n",
       "      <td>443b98009b9a705c7112b031d223f26a3399f8cf1e7f12...</td>\n",
       "      <td>16922</td>\n",
       "    </tr>\n",
       "    <tr>\n",
       "      <th>1</th>\n",
       "      <td>f707cb4decf7f21991f506bba051a0184ca8ecbd402f79...</td>\n",
       "      <td>5196</td>\n",
       "    </tr>\n",
       "  </tbody>\n",
       "</table>\n",
       "</div>"
      ],
      "text/plain": [
       "                                             tx_hash amount\n",
       "0  443b98009b9a705c7112b031d223f26a3399f8cf1e7f12...  16922\n",
       "1  f707cb4decf7f21991f506bba051a0184ca8ecbd402f79...   5196"
      ]
     },
     "execution_count": 7,
     "metadata": {},
     "output_type": "execute_result"
    }
   ],
   "source": [
    "cardano_mainnet.stake_mir_history(stake_address)\n",
    "#or\n",
    "cardano_mainnet.stake_mir_history(stake_address, \n",
    "                                  data_order='asc', # Optional: Data order (default: Ascending)\n",
    "                                  nb_of_results=100, # Optional: Return max 100 results at the time (default: None), None for get all the data available.\n",
    "                                  pandas=True) # Optional: Return a pandas dataframe"
   ]
  },
  {
   "cell_type": "markdown",
   "metadata": {},
   "source": [
    "### Stake Associated Addresses\n",
    "Obtain information about the MIRs of a specific account."
   ]
  },
  {
   "cell_type": "code",
   "execution_count": 36,
   "metadata": {},
   "outputs": [
    {
     "name": "stdout",
     "output_type": "stream",
     "text": [
      "[INFO] Function stake_associated_addresses, 1 API calls.\n"
     ]
    },
    {
     "data": {
      "text/html": [
       "<div>\n",
       "<style scoped>\n",
       "    .dataframe tbody tr th:only-of-type {\n",
       "        vertical-align: middle;\n",
       "    }\n",
       "\n",
       "    .dataframe tbody tr th {\n",
       "        vertical-align: top;\n",
       "    }\n",
       "\n",
       "    .dataframe thead th {\n",
       "        text-align: right;\n",
       "    }\n",
       "</style>\n",
       "<table border=\"1\" class=\"dataframe\">\n",
       "  <thead>\n",
       "    <tr style=\"text-align: right;\">\n",
       "      <th></th>\n",
       "      <th>address</th>\n",
       "    </tr>\n",
       "  </thead>\n",
       "  <tbody>\n",
       "    <tr>\n",
       "      <th>0</th>\n",
       "      <td>addr1q9r6uwt607lu7n37chnz307695altf0x7j7ugv3xe...</td>\n",
       "    </tr>\n",
       "    <tr>\n",
       "      <th>1</th>\n",
       "      <td>addr1qx3my260e4j6xe2u2jcfukkhl6mshfa2n3ttpjp6s...</td>\n",
       "    </tr>\n",
       "    <tr>\n",
       "      <th>2</th>\n",
       "      <td>addr1q8zq90g052grjvpz3h8qwl7tzd7yunwp3vsf3seka...</td>\n",
       "    </tr>\n",
       "    <tr>\n",
       "      <th>3</th>\n",
       "      <td>addr1q9p98qwy4wkcaesq2sdmax853rgr9he9zjr9zwgfj...</td>\n",
       "    </tr>\n",
       "    <tr>\n",
       "      <th>4</th>\n",
       "      <td>addr1q8lnsa3gywesgjquamuq9clhfdfgvn9fm6w2pvsmc...</td>\n",
       "    </tr>\n",
       "  </tbody>\n",
       "</table>\n",
       "</div>"
      ],
      "text/plain": [
       "                                             address\n",
       "0  addr1q9r6uwt607lu7n37chnz307695altf0x7j7ugv3xe...\n",
       "1  addr1qx3my260e4j6xe2u2jcfukkhl6mshfa2n3ttpjp6s...\n",
       "2  addr1q8zq90g052grjvpz3h8qwl7tzd7yunwp3vsf3seka...\n",
       "3  addr1q9p98qwy4wkcaesq2sdmax853rgr9he9zjr9zwgfj...\n",
       "4  addr1q8lnsa3gywesgjquamuq9clhfdfgvn9fm6w2pvsmc..."
      ]
     },
     "execution_count": 36,
     "metadata": {},
     "output_type": "execute_result"
    }
   ],
   "source": [
    "cardano_mainnet.stake_associated_addresses('stake1uyanwg4eumz5pvc6jyk7m7zvdpjycpe8d4pc47m5saw76zqzfvrkd', pandas=True).head()"
   ]
  },
  {
   "cell_type": "code",
   "execution_count": null,
   "metadata": {},
   "outputs": [],
   "source": []
  },
  {
   "cell_type": "markdown",
   "metadata": {},
   "source": [
    "### Stake Assets Associated Addresses\n",
    "Obtain information about assets associated with addresses of a specific account.</blockquote>"
   ]
  },
  {
   "cell_type": "code",
   "execution_count": 30,
   "metadata": {},
   "outputs": [
    {
     "name": "stdout",
     "output_type": "stream",
     "text": [
      "[INFO] Function stake_associated_addresses, 1 API calls.\n",
      "[INFO] No data available.\n",
      "[INFO] Function stake_assets_associated_addresses, 1 API calls.\n"
     ]
    },
    {
     "data": {
      "text/html": [
       "<div>\n",
       "<style scoped>\n",
       "    .dataframe tbody tr th:only-of-type {\n",
       "        vertical-align: middle;\n",
       "    }\n",
       "\n",
       "    .dataframe tbody tr th {\n",
       "        vertical-align: top;\n",
       "    }\n",
       "\n",
       "    .dataframe thead th {\n",
       "        text-align: right;\n",
       "    }\n",
       "</style>\n",
       "<table border=\"1\" class=\"dataframe\">\n",
       "  <thead>\n",
       "    <tr style=\"text-align: right;\">\n",
       "      <th></th>\n",
       "    </tr>\n",
       "  </thead>\n",
       "  <tbody>\n",
       "  </tbody>\n",
       "</table>\n",
       "</div>"
      ],
      "text/plain": [
       "Empty DataFrame\n",
       "Columns: []\n",
       "Index: []"
      ]
     },
     "execution_count": 30,
     "metadata": {},
     "output_type": "execute_result"
    }
   ],
   "source": [
    "cardano_mainnet.stake_associated_addresses('stake1uyanwg4eumz5pvc6jyk7m7zvdpjycpe8d4pc47m5saw76zqzfvrkd')\n",
    "#or\n",
    "cardano_mainnet.stake_assets_associated_addresses(stake_address, \n",
    "                                                  data_order='asc', # Optional: Data order (default: Ascending)\n",
    "                                                  nb_of_results=100, # Optional: Return max 100 results at the time (default: None), None for get all the data available.\n",
    "                                                  pandas=True) # Optional: Return a pandas dataframe "
   ]
  },
  {
   "cell_type": "markdown",
   "metadata": {},
   "source": [
    "# Address\n",
    "___"
   ]
  },
  {
   "cell_type": "markdown",
   "metadata": {},
   "source": [
    "### Specific Address\n",
    "Obtain information about a specific address."
   ]
  },
  {
   "cell_type": "code",
   "execution_count": 33,
   "metadata": {},
   "outputs": [
    {
     "data": {
      "text/plain": [
       "{'address': 'addr1qxtu4ap26sg69x03qxh3nlekhx7mkp0wsc5tcyv69ged5q3mxu3tnek9gze34yfdahuyc6ryfsrjwm2r3tahfp6aa5yqn600vq',\n",
       " 'amount': [{'unit': 'lovelace', 'quantity': '1481480'},\n",
       "  {'unit': 'ceb5dedd6cda3f0b4a98919b5d3827e15e324771642b57e0e6aabd57426c61636b43617264616e6f343334',\n",
       "   'quantity': '1'}],\n",
       " 'stake_address': 'stake1uyanwg4eumz5pvc6jyk7m7zvdpjycpe8d4pc47m5saw76zqzfvrkd',\n",
       " 'type': 'shelley'}"
      ]
     },
     "execution_count": 33,
     "metadata": {},
     "output_type": "execute_result"
    }
   ],
   "source": [
    "cardano_mainnet.address_info('addr1qxtu4ap26sg69x03qxh3nlekhx7mkp0wsc5tcyv69ged5q3mxu3tnek9gze34yfdahuyc6ryfsrjwm2r3tahfp6aa5yqn600vq')"
   ]
  },
  {
   "cell_type": "markdown",
   "metadata": {},
   "source": [
    "### Address Details\n",
    "Obtain details about an address."
   ]
  },
  {
   "cell_type": "code",
   "execution_count": 37,
   "metadata": {},
   "outputs": [
    {
     "data": {
      "text/plain": [
       "{'address': 'addr1q8z24xgrlj3m2qjh2vxyqg2fh33y3tegufkll5c4lu8u35gkhpw3h4yhn93ve2whllg0wjazjs5jj8332mgqe332f3uq8m7m6h',\n",
       " 'received_sum': [{'unit': 'lovelace', 'quantity': '350000000'}],\n",
       " 'sent_sum': [{'unit': 'lovelace', 'quantity': '0'}],\n",
       " 'tx_count': 1}"
      ]
     },
     "execution_count": 37,
     "metadata": {},
     "output_type": "execute_result"
    }
   ],
   "source": [
    "cardano_mainnet.address_details(address)"
   ]
  },
  {
   "cell_type": "markdown",
   "metadata": {},
   "source": [
    "### Address UTXOs\n",
    "UTXOs of the address."
   ]
  },
  {
   "cell_type": "code",
   "execution_count": 38,
   "metadata": {},
   "outputs": [
    {
     "data": {
      "text/plain": [
       "[{'tx_hash': '996ff0a57282ef943ecdbc263cf9c41c178d65587d70d9d9dcbe98e520f8e406',\n",
       "  'tx_index': 4,\n",
       "  'output_index': 4,\n",
       "  'amount': [{'unit': 'lovelace', 'quantity': '350000000'}],\n",
       "  'block': '73768f4ca2a0c96611a1fbd7f53a3b1b573fb0371012e54a943cf58926eb9cea'}]"
      ]
     },
     "execution_count": 38,
     "metadata": {},
     "output_type": "execute_result"
    }
   ],
   "source": [
    "cardano_mainnet.address_utxo(address)"
   ]
  },
  {
   "cell_type": "markdown",
   "metadata": {},
   "source": [
    "### Address Transactions\n",
    "Transactions on the address."
   ]
  },
  {
   "cell_type": "code",
   "execution_count": 39,
   "metadata": {},
   "outputs": [
    {
     "data": {
      "text/plain": [
       "[{'tx_hash': '996ff0a57282ef943ecdbc263cf9c41c178d65587d70d9d9dcbe98e520f8e406',\n",
       "  'tx_index': 45,\n",
       "  'block_height': 6095572}]"
      ]
     },
     "execution_count": 39,
     "metadata": {},
     "output_type": "execute_result"
    }
   ],
   "source": [
    "cardano_mainnet.address_transaction(address)"
   ]
  },
  {
   "cell_type": "markdown",
   "metadata": {},
   "source": [
    "## Epoch\n",
    "___"
   ]
  },
  {
   "cell_type": "markdown",
   "metadata": {},
   "source": [
    "### Latest Epoch\n",
    "Obtain the information about the latest epoch."
   ]
  },
  {
   "cell_type": "code",
   "execution_count": 50,
   "metadata": {},
   "outputs": [
    {
     "data": {
      "text/plain": [
       "{'epoch': 288,\n",
       " 'start_time': 1630619091,\n",
       " 'end_time': 1631051091,\n",
       " 'first_block_time': 1630619101,\n",
       " 'last_block_time': 1630695809,\n",
       " 'block_count': 3867,\n",
       " 'tx_count': 77200,\n",
       " 'output': '41529702474109934',\n",
       " 'fees': '16021622015',\n",
       " 'active_stake': '23136223153988390'}"
      ]
     },
     "execution_count": 50,
     "metadata": {},
     "output_type": "execute_result"
    }
   ],
   "source": [
    "cardano_mainnet.latest_epoch()"
   ]
  },
  {
   "cell_type": "markdown",
   "metadata": {},
   "source": [
    "### Latest Epoch Protocol Parameters\n",
    "Return the protocol parameters for the latest epoch."
   ]
  },
  {
   "cell_type": "code",
   "execution_count": 51,
   "metadata": {},
   "outputs": [
    {
     "data": {
      "text/plain": [
       "{'epoch': 288,\n",
       " 'min_fee_a': 44,\n",
       " 'min_fee_b': 155381,\n",
       " 'max_block_size': 65536,\n",
       " 'max_tx_size': 16384,\n",
       " 'max_block_header_size': 1100,\n",
       " 'key_deposit': '2000000',\n",
       " 'pool_deposit': '500000000',\n",
       " 'e_max': 18,\n",
       " 'n_opt': 500,\n",
       " 'a0': 0.3,\n",
       " 'rho': 0.003,\n",
       " 'tau': 0.2,\n",
       " 'decentralisation_param': 0,\n",
       " 'extra_entropy': None,\n",
       " 'protocol_major_ver': 4,\n",
       " 'protocol_minor_ver': 0,\n",
       " 'min_utxo': '1000000',\n",
       " 'min_pool_cost': '340000000',\n",
       " 'nonce': 'bf3b52ab86e152b392cbf095c1d0f07aaeda956eecfdb44b09bcb85a0ecae36a'}"
      ]
     },
     "execution_count": 51,
     "metadata": {},
     "output_type": "execute_result"
    }
   ],
   "source": [
    "cardano_mainnet.latest_epoch_protocol_parameters()"
   ]
  },
  {
   "cell_type": "markdown",
   "metadata": {},
   "source": [
    "### Specific Epoch\n",
    "Obtain informations about a specific epoch."
   ]
  },
  {
   "cell_type": "code",
   "execution_count": 52,
   "metadata": {},
   "outputs": [
    {
     "data": {
      "text/plain": [
       "{'epoch': 287,\n",
       " 'start_time': 1630187091,\n",
       " 'end_time': 1630619091,\n",
       " 'first_block_time': 1630187230,\n",
       " 'last_block_time': 1630619085,\n",
       " 'block_count': 21065,\n",
       " 'tx_count': 401343,\n",
       " 'output': '74754307451589173',\n",
       " 'fees': '86536781869',\n",
       " 'active_stake': '23041097075076811'}"
      ]
     },
     "execution_count": 52,
     "metadata": {},
     "output_type": "execute_result"
    }
   ],
   "source": [
    "cardano_mainnet.specific_epoch(287)"
   ]
  },
  {
   "cell_type": "markdown",
   "metadata": {},
   "source": [
    "### Epochs History\n",
    "Obtain informations about sevrals epochs."
   ]
  },
  {
   "cell_type": "code",
   "execution_count": 114,
   "metadata": {},
   "outputs": [
    {
     "name": "stdout",
     "output_type": "stream",
     "text": [
      "[INFO] Function epochs_history, 4 API calls.\n"
     ]
    },
    {
     "data": {
      "text/html": [
       "<div>\n",
       "<style scoped>\n",
       "    .dataframe tbody tr th:only-of-type {\n",
       "        vertical-align: middle;\n",
       "    }\n",
       "\n",
       "    .dataframe tbody tr th {\n",
       "        vertical-align: top;\n",
       "    }\n",
       "\n",
       "    .dataframe thead th {\n",
       "        text-align: right;\n",
       "    }\n",
       "</style>\n",
       "<table border=\"1\" class=\"dataframe\">\n",
       "  <thead>\n",
       "    <tr style=\"text-align: right;\">\n",
       "      <th></th>\n",
       "      <th>epoch</th>\n",
       "      <th>start_time</th>\n",
       "      <th>end_time</th>\n",
       "      <th>first_block_time</th>\n",
       "      <th>last_block_time</th>\n",
       "      <th>block_count</th>\n",
       "      <th>tx_count</th>\n",
       "      <th>output</th>\n",
       "      <th>fees</th>\n",
       "      <th>active_stake</th>\n",
       "    </tr>\n",
       "  </thead>\n",
       "  <tbody>\n",
       "    <tr>\n",
       "      <th>0</th>\n",
       "      <td>287</td>\n",
       "      <td>1630187091</td>\n",
       "      <td>1630619091</td>\n",
       "      <td>1630187230</td>\n",
       "      <td>1630619085</td>\n",
       "      <td>21065</td>\n",
       "      <td>401343</td>\n",
       "      <td>74754307451589173</td>\n",
       "      <td>86536781869</td>\n",
       "      <td>23041097075076811</td>\n",
       "    </tr>\n",
       "    <tr>\n",
       "      <th>1</th>\n",
       "      <td>288</td>\n",
       "      <td>1630619091</td>\n",
       "      <td>1631051091</td>\n",
       "      <td>1630619101</td>\n",
       "      <td>1631051088</td>\n",
       "      <td>21136</td>\n",
       "      <td>475383</td>\n",
       "      <td>120564869080762073</td>\n",
       "      <td>99992854778</td>\n",
       "      <td>23136223153988390</td>\n",
       "    </tr>\n",
       "    <tr>\n",
       "      <th>2</th>\n",
       "      <td>289</td>\n",
       "      <td>1631051091</td>\n",
       "      <td>1631483091</td>\n",
       "      <td>1631051131</td>\n",
       "      <td>1631220179</td>\n",
       "      <td>8300</td>\n",
       "      <td>222169</td>\n",
       "      <td>16575922695723877</td>\n",
       "      <td>45777614908</td>\n",
       "      <td>23311196777534712</td>\n",
       "    </tr>\n",
       "  </tbody>\n",
       "</table>\n",
       "</div>"
      ],
      "text/plain": [
       "   epoch  start_time    end_time  first_block_time  last_block_time  \\\n",
       "0    287  1630187091  1630619091        1630187230       1630619085   \n",
       "1    288  1630619091  1631051091        1630619101       1631051088   \n",
       "2    289  1631051091  1631483091        1631051131       1631220179   \n",
       "\n",
       "   block_count  tx_count              output         fees       active_stake  \n",
       "0        21065    401343   74754307451589173  86536781869  23041097075076811  \n",
       "1        21136    475383  120564869080762073  99992854778  23136223153988390  \n",
       "2         8300    222169   16575922695723877  45777614908  23311196777534712  "
      ]
     },
     "execution_count": 114,
     "metadata": {},
     "output_type": "execute_result"
    }
   ],
   "source": [
    "cardano_mainnet.epochs_history([287, 288, 289],\n",
    "                               pandas=True) # Optional: Return a pandas dataframe "
   ]
  },
  {
   "cell_type": "markdown",
   "metadata": {},
   "source": [
    "# Pool\n",
    "___"
   ]
  },
  {
   "cell_type": "code",
   "execution_count": 38,
   "metadata": {},
   "outputs": [],
   "source": [
    "pool_id='pool1ekhy5xsgjaq38em75vevk8df0k0rljju77tljw288ys5kumqce5'"
   ]
  },
  {
   "cell_type": "markdown",
   "metadata": {},
   "source": [
    "### List Of Stake Pools\n",
    "List of registered stake pools."
   ]
  },
  {
   "cell_type": "code",
   "execution_count": 22,
   "metadata": {},
   "outputs": [
    {
     "name": "stdout",
     "output_type": "stream",
     "text": [
      "[INFO] Function registered_polls, 1 API calls.\n",
      "[INFO] Function registered_polls, 1 API calls.\n"
     ]
    },
    {
     "data": {
      "text/html": [
       "<div>\n",
       "<style scoped>\n",
       "    .dataframe tbody tr th:only-of-type {\n",
       "        vertical-align: middle;\n",
       "    }\n",
       "\n",
       "    .dataframe tbody tr th {\n",
       "        vertical-align: top;\n",
       "    }\n",
       "\n",
       "    .dataframe thead th {\n",
       "        text-align: right;\n",
       "    }\n",
       "</style>\n",
       "<table border=\"1\" class=\"dataframe\">\n",
       "  <thead>\n",
       "    <tr style=\"text-align: right;\">\n",
       "      <th></th>\n",
       "      <th>registered_polls_id</th>\n",
       "    </tr>\n",
       "  </thead>\n",
       "  <tbody>\n",
       "    <tr>\n",
       "      <th>0</th>\n",
       "      <td>pool1z5uqdk7dzdxaae5633fqfcu2eqzy3a3rgtuvy087f...</td>\n",
       "    </tr>\n",
       "    <tr>\n",
       "      <th>1</th>\n",
       "      <td>pool1pu5jlj4q9w9jlxeu370a3c9myx47md5j5m2str0na...</td>\n",
       "    </tr>\n",
       "    <tr>\n",
       "      <th>2</th>\n",
       "      <td>pool1c8k78ny3xvsfgenhf4yzvpzwgzxmz0t0um0h2xnn2...</td>\n",
       "    </tr>\n",
       "    <tr>\n",
       "      <th>3</th>\n",
       "      <td>pool1q80jjs53w0fx836n8g38gtdwr8ck5zre3da90peux...</td>\n",
       "    </tr>\n",
       "    <tr>\n",
       "      <th>4</th>\n",
       "      <td>pool1ddskftmsscw92d7vnj89pldwx5feegkgcmamgt5t0...</td>\n",
       "    </tr>\n",
       "    <tr>\n",
       "      <th>...</th>\n",
       "      <td>...</td>\n",
       "    </tr>\n",
       "    <tr>\n",
       "      <th>95</th>\n",
       "      <td>pool1cuccvs6vdlrxw67kwvzdx3gcl3ha0402mkhhseqmr...</td>\n",
       "    </tr>\n",
       "    <tr>\n",
       "      <th>96</th>\n",
       "      <td>pool144m894gswuy3se407ma5870nkaw5ylykrak73gf4k...</td>\n",
       "    </tr>\n",
       "    <tr>\n",
       "      <th>97</th>\n",
       "      <td>pool1z7n2ruhmxmv77f6cqhd3wsy6774h2wuay77agxuf2...</td>\n",
       "    </tr>\n",
       "    <tr>\n",
       "      <th>98</th>\n",
       "      <td>pool12mmcc4rc2fzfv7gyv8h06nvnsrm3m7erzdv8x6gzv...</td>\n",
       "    </tr>\n",
       "    <tr>\n",
       "      <th>99</th>\n",
       "      <td>pool1vnsfv2qpt5gxte9prupjey8kw7ap7t6c8lc02ks4s...</td>\n",
       "    </tr>\n",
       "  </tbody>\n",
       "</table>\n",
       "<p>100 rows × 1 columns</p>\n",
       "</div>"
      ],
      "text/plain": [
       "                                  registered_polls_id\n",
       "0   pool1z5uqdk7dzdxaae5633fqfcu2eqzy3a3rgtuvy087f...\n",
       "1   pool1pu5jlj4q9w9jlxeu370a3c9myx47md5j5m2str0na...\n",
       "2   pool1c8k78ny3xvsfgenhf4yzvpzwgzxmz0t0um0h2xnn2...\n",
       "3   pool1q80jjs53w0fx836n8g38gtdwr8ck5zre3da90peux...\n",
       "4   pool1ddskftmsscw92d7vnj89pldwx5feegkgcmamgt5t0...\n",
       "..                                                ...\n",
       "95  pool1cuccvs6vdlrxw67kwvzdx3gcl3ha0402mkhhseqmr...\n",
       "96  pool144m894gswuy3se407ma5870nkaw5ylykrak73gf4k...\n",
       "97  pool1z7n2ruhmxmv77f6cqhd3wsy6774h2wuay77agxuf2...\n",
       "98  pool12mmcc4rc2fzfv7gyv8h06nvnsrm3m7erzdv8x6gzv...\n",
       "99  pool1vnsfv2qpt5gxte9prupjey8kw7ap7t6c8lc02ks4s...\n",
       "\n",
       "[100 rows x 1 columns]"
      ]
     },
     "execution_count": 22,
     "metadata": {},
     "output_type": "execute_result"
    }
   ],
   "source": [
    "cardano_mainnet.registered_polls()\n",
    "#or\n",
    "cardano_mainnet.registered_polls(nb_of_results=100, # Optional: Return max 100 results at the time (default: None), None for get all the data available.\n",
    "                                 pandas=True) # Optional: Return a pandas dataframe "
   ]
  },
  {
   "cell_type": "markdown",
   "metadata": {},
   "source": [
    "### Specific Stake Pool Informations\n",
    "Pool informations."
   ]
  },
  {
   "cell_type": "code",
   "execution_count": 101,
   "metadata": {},
   "outputs": [
    {
     "data": {
      "text/plain": [
       "{'pool_id': 'pool1ekhy5xsgjaq38em75vevk8df0k0rljju77tljw288ys5kumqce5',\n",
       " 'hex': 'cdae4a1a08974113e77ea332cb1da97d9e3fca5cf797f9394739214b',\n",
       " 'vrf_key': '5517fbeb4c6a5a613835808de183345eaf85ab0e251210e493e088afa41d9ab0',\n",
       " 'blocks_minted': 3147,\n",
       " 'live_stake': '54555227944320',\n",
       " 'live_size': 0.002346623855644148,\n",
       " 'live_saturation': 0.8308755242659245,\n",
       " 'live_delegators': 1439,\n",
       " 'active_stake': '55724573270655',\n",
       " 'active_size': 0.0023904638531625053,\n",
       " 'declared_pledge': '200000000000',\n",
       " 'live_pledge': '203514088542',\n",
       " 'margin_cost': 0.01,\n",
       " 'fixed_cost': '340000000',\n",
       " 'reward_account': 'stake1u8uzevd539lxn40jt60g72a649zdphe9e8hrye4nf5jv0js9uzhzg',\n",
       " 'owners': ['stake1u9qsgte62jau0qu6kjy8zch8aynt55gql6jsxe05464n99gsqd7ra',\n",
       "  'stake1u8uzevd539lxn40jt60g72a649zdphe9e8hrye4nf5jv0js9uzhzg'],\n",
       " 'registration': ['b1bfffc26b6210ced9cc679781922e8b1ac70a2f7719523528639da4ab7f2d88',\n",
       "  'be5b798897f5b83e5bf562df6fc68a94d5528acc80ab8e999ce866aa63a4d06a',\n",
       "  '0f4781efd649f91e37847cb2699a8a41632ee94df1465e255577772f362339bf',\n",
       "  '630c7195fdc1c5c14bb12c460059c5adb11b3cd6d3e576628aee0a8338f1b6ad',\n",
       "  '119fe23a35e0ddcbb5778f17ad2371228a53b5ced037c12083a0c77b5711e1d4',\n",
       "  'f1fe58c30ec7f5193476694fafc46dcdb11c3408e114e8fa2a95425243907ed4',\n",
       "  '09c2c3d34de116365c9cf9a6e75f45856013388d962dbd5584c27b7d0bb36eed'],\n",
       " 'retirement': []}"
      ]
     },
     "execution_count": 101,
     "metadata": {},
     "output_type": "execute_result"
    }
   ],
   "source": [
    "cardano_mainnet.pool_informations(pool_id)"
   ]
  },
  {
   "cell_type": "markdown",
   "metadata": {},
   "source": [
    "### Stake Pool History\n",
    "\n",
    "History of stake pool over epochs."
   ]
  },
  {
   "cell_type": "code",
   "execution_count": 41,
   "metadata": {},
   "outputs": [
    {
     "name": "stdout",
     "output_type": "stream",
     "text": [
      "[INFO] Function param_stake_pool_history, 1 API calls.\n"
     ]
    },
    {
     "data": {
      "text/html": [
       "<div>\n",
       "<style scoped>\n",
       "    .dataframe tbody tr th:only-of-type {\n",
       "        vertical-align: middle;\n",
       "    }\n",
       "\n",
       "    .dataframe tbody tr th {\n",
       "        vertical-align: top;\n",
       "    }\n",
       "\n",
       "    .dataframe thead th {\n",
       "        text-align: right;\n",
       "    }\n",
       "</style>\n",
       "<table border=\"1\" class=\"dataframe\">\n",
       "  <thead>\n",
       "    <tr style=\"text-align: right;\">\n",
       "      <th></th>\n",
       "      <th>epoch</th>\n",
       "      <th>blocks</th>\n",
       "      <th>active_stake</th>\n",
       "      <th>active_size</th>\n",
       "      <th>delegators_count</th>\n",
       "      <th>rewards</th>\n",
       "      <th>fees</th>\n",
       "    </tr>\n",
       "  </thead>\n",
       "  <tbody>\n",
       "    <tr>\n",
       "      <th>0</th>\n",
       "      <td>210</td>\n",
       "      <td>0</td>\n",
       "      <td>37220609681471</td>\n",
       "      <td>0.006144</td>\n",
       "      <td>66</td>\n",
       "      <td>0</td>\n",
       "      <td>0</td>\n",
       "    </tr>\n",
       "    <tr>\n",
       "      <th>1</th>\n",
       "      <td>211</td>\n",
       "      <td>10</td>\n",
       "      <td>54335156396766</td>\n",
       "      <td>0.005339</td>\n",
       "      <td>81</td>\n",
       "      <td>41930800644</td>\n",
       "      <td>795508006</td>\n",
       "    </tr>\n",
       "    <tr>\n",
       "      <th>2</th>\n",
       "      <td>212</td>\n",
       "      <td>19</td>\n",
       "      <td>57680429746242</td>\n",
       "      <td>0.004764</td>\n",
       "      <td>100</td>\n",
       "      <td>44444415813</td>\n",
       "      <td>820644158</td>\n",
       "    </tr>\n",
       "    <tr>\n",
       "      <th>3</th>\n",
       "      <td>213</td>\n",
       "      <td>17</td>\n",
       "      <td>39988128646167</td>\n",
       "      <td>0.003134</td>\n",
       "      <td>113</td>\n",
       "      <td>35108072495</td>\n",
       "      <td>687680724</td>\n",
       "    </tr>\n",
       "    <tr>\n",
       "      <th>4</th>\n",
       "      <td>214</td>\n",
       "      <td>16</td>\n",
       "      <td>37882297876063</td>\n",
       "      <td>0.002831</td>\n",
       "      <td>114</td>\n",
       "      <td>31712032983</td>\n",
       "      <td>653720329</td>\n",
       "    </tr>\n",
       "    <tr>\n",
       "      <th>...</th>\n",
       "      <td>...</td>\n",
       "      <td>...</td>\n",
       "      <td>...</td>\n",
       "      <td>...</td>\n",
       "      <td>...</td>\n",
       "      <td>...</td>\n",
       "      <td>...</td>\n",
       "    </tr>\n",
       "    <tr>\n",
       "      <th>75</th>\n",
       "      <td>285</td>\n",
       "      <td>50</td>\n",
       "      <td>40596153024380</td>\n",
       "      <td>0.001753</td>\n",
       "      <td>1289</td>\n",
       "      <td>35877372279</td>\n",
       "      <td>695373722</td>\n",
       "    </tr>\n",
       "    <tr>\n",
       "      <th>76</th>\n",
       "      <td>286</td>\n",
       "      <td>41</td>\n",
       "      <td>40152317141941</td>\n",
       "      <td>0.001735</td>\n",
       "      <td>1322</td>\n",
       "      <td>29268927540</td>\n",
       "      <td>629289275</td>\n",
       "    </tr>\n",
       "    <tr>\n",
       "      <th>77</th>\n",
       "      <td>287</td>\n",
       "      <td>47</td>\n",
       "      <td>40998606047892</td>\n",
       "      <td>0.001779</td>\n",
       "      <td>1413</td>\n",
       "      <td>33332667160</td>\n",
       "      <td>669926671</td>\n",
       "    </tr>\n",
       "    <tr>\n",
       "      <th>78</th>\n",
       "      <td>288</td>\n",
       "      <td>49</td>\n",
       "      <td>55449417952886</td>\n",
       "      <td>0.002397</td>\n",
       "      <td>1439</td>\n",
       "      <td>0</td>\n",
       "      <td>0</td>\n",
       "    </tr>\n",
       "    <tr>\n",
       "      <th>79</th>\n",
       "      <td>289</td>\n",
       "      <td>43</td>\n",
       "      <td>55724573270655</td>\n",
       "      <td>0.002390</td>\n",
       "      <td>1443</td>\n",
       "      <td>0</td>\n",
       "      <td>0</td>\n",
       "    </tr>\n",
       "  </tbody>\n",
       "</table>\n",
       "<p>80 rows × 7 columns</p>\n",
       "</div>"
      ],
      "text/plain": [
       "    epoch  blocks    active_stake  active_size  delegators_count      rewards  \\\n",
       "0     210       0  37220609681471     0.006144                66            0   \n",
       "1     211      10  54335156396766     0.005339                81  41930800644   \n",
       "2     212      19  57680429746242     0.004764               100  44444415813   \n",
       "3     213      17  39988128646167     0.003134               113  35108072495   \n",
       "4     214      16  37882297876063     0.002831               114  31712032983   \n",
       "..    ...     ...             ...          ...               ...          ...   \n",
       "75    285      50  40596153024380     0.001753              1289  35877372279   \n",
       "76    286      41  40152317141941     0.001735              1322  29268927540   \n",
       "77    287      47  40998606047892     0.001779              1413  33332667160   \n",
       "78    288      49  55449417952886     0.002397              1439            0   \n",
       "79    289      43  55724573270655     0.002390              1443            0   \n",
       "\n",
       "         fees  \n",
       "0           0  \n",
       "1   795508006  \n",
       "2   820644158  \n",
       "3   687680724  \n",
       "4   653720329  \n",
       "..        ...  \n",
       "75  695373722  \n",
       "76  629289275  \n",
       "77  669926671  \n",
       "78          0  \n",
       "79          0  \n",
       "\n",
       "[80 rows x 7 columns]"
      ]
     },
     "execution_count": 41,
     "metadata": {},
     "output_type": "execute_result"
    }
   ],
   "source": [
    "cardano_mainnet.stake_pool_history(pool_id, pandas=True)"
   ]
  },
  {
   "cell_type": "markdown",
   "metadata": {},
   "source": [
    "## Data Analysis\n",
    "___"
   ]
  },
  {
   "cell_type": "markdown",
   "metadata": {},
   "source": [
    "### Rewards History Analysis\n",
    "Data table to analyze the stake rewards."
   ]
  },
  {
   "cell_type": "code",
   "execution_count": 104,
   "metadata": {},
   "outputs": [
    {
     "name": "stdout",
     "output_type": "stream",
     "text": [
      "[INFO] Function stake_reward_history, 1 API calls.\n",
      "[INFO] Function stake_amount_history, 1 API calls.\n",
      "[INFO] Function param_stake_pool_history, 1 API calls.\n"
     ]
    },
    {
     "ename": "Exception",
     "evalue": "[ERROR] ('Connection aborted.', RemoteDisconnected('Remote end closed connection without response'))",
     "output_type": "error",
     "traceback": [
      "\u001b[0;31m---------------------------------------------------------------------------\u001b[0m",
      "\u001b[0;31mRemoteDisconnected\u001b[0m                        Traceback (most recent call last)",
      "\u001b[0;32m/Library/Frameworks/Python.framework/Versions/3.8/lib/python3.8/site-packages/urllib3/connectionpool.py\u001b[0m in \u001b[0;36murlopen\u001b[0;34m(self, method, url, body, headers, retries, redirect, assert_same_host, timeout, pool_timeout, release_conn, chunked, body_pos, **response_kw)\u001b[0m\n\u001b[1;32m    698\u001b[0m             \u001b[0;31m# Make the request on the httplib connection object.\u001b[0m\u001b[0;34m\u001b[0m\u001b[0;34m\u001b[0m\u001b[0;34m\u001b[0m\u001b[0m\n\u001b[0;32m--> 699\u001b[0;31m             httplib_response = self._make_request(\n\u001b[0m\u001b[1;32m    700\u001b[0m                 \u001b[0mconn\u001b[0m\u001b[0;34m,\u001b[0m\u001b[0;34m\u001b[0m\u001b[0;34m\u001b[0m\u001b[0m\n",
      "\u001b[0;32m/Library/Frameworks/Python.framework/Versions/3.8/lib/python3.8/site-packages/urllib3/connectionpool.py\u001b[0m in \u001b[0;36m_make_request\u001b[0;34m(self, conn, method, url, timeout, chunked, **httplib_request_kw)\u001b[0m\n\u001b[1;32m    444\u001b[0m                     \u001b[0;31m# Otherwise it looks like a bug in the code.\u001b[0m\u001b[0;34m\u001b[0m\u001b[0;34m\u001b[0m\u001b[0;34m\u001b[0m\u001b[0m\n\u001b[0;32m--> 445\u001b[0;31m                     \u001b[0msix\u001b[0m\u001b[0;34m.\u001b[0m\u001b[0mraise_from\u001b[0m\u001b[0;34m(\u001b[0m\u001b[0me\u001b[0m\u001b[0;34m,\u001b[0m \u001b[0;32mNone\u001b[0m\u001b[0;34m)\u001b[0m\u001b[0;34m\u001b[0m\u001b[0;34m\u001b[0m\u001b[0m\n\u001b[0m\u001b[1;32m    446\u001b[0m         \u001b[0;32mexcept\u001b[0m \u001b[0;34m(\u001b[0m\u001b[0mSocketTimeout\u001b[0m\u001b[0;34m,\u001b[0m \u001b[0mBaseSSLError\u001b[0m\u001b[0;34m,\u001b[0m \u001b[0mSocketError\u001b[0m\u001b[0;34m)\u001b[0m \u001b[0;32mas\u001b[0m \u001b[0me\u001b[0m\u001b[0;34m:\u001b[0m\u001b[0;34m\u001b[0m\u001b[0;34m\u001b[0m\u001b[0m\n",
      "\u001b[0;32m/Library/Frameworks/Python.framework/Versions/3.8/lib/python3.8/site-packages/urllib3/packages/six.py\u001b[0m in \u001b[0;36mraise_from\u001b[0;34m(value, from_value)\u001b[0m\n",
      "\u001b[0;32m/Library/Frameworks/Python.framework/Versions/3.8/lib/python3.8/site-packages/urllib3/connectionpool.py\u001b[0m in \u001b[0;36m_make_request\u001b[0;34m(self, conn, method, url, timeout, chunked, **httplib_request_kw)\u001b[0m\n\u001b[1;32m    439\u001b[0m                 \u001b[0;32mtry\u001b[0m\u001b[0;34m:\u001b[0m\u001b[0;34m\u001b[0m\u001b[0;34m\u001b[0m\u001b[0m\n\u001b[0;32m--> 440\u001b[0;31m                     \u001b[0mhttplib_response\u001b[0m \u001b[0;34m=\u001b[0m \u001b[0mconn\u001b[0m\u001b[0;34m.\u001b[0m\u001b[0mgetresponse\u001b[0m\u001b[0;34m(\u001b[0m\u001b[0;34m)\u001b[0m\u001b[0;34m\u001b[0m\u001b[0;34m\u001b[0m\u001b[0m\n\u001b[0m\u001b[1;32m    441\u001b[0m                 \u001b[0;32mexcept\u001b[0m \u001b[0mBaseException\u001b[0m \u001b[0;32mas\u001b[0m \u001b[0me\u001b[0m\u001b[0;34m:\u001b[0m\u001b[0;34m\u001b[0m\u001b[0;34m\u001b[0m\u001b[0m\n",
      "\u001b[0;32m/Library/Frameworks/Python.framework/Versions/3.8/lib/python3.8/http/client.py\u001b[0m in \u001b[0;36mgetresponse\u001b[0;34m(self)\u001b[0m\n\u001b[1;32m   1321\u001b[0m             \u001b[0;32mtry\u001b[0m\u001b[0;34m:\u001b[0m\u001b[0;34m\u001b[0m\u001b[0;34m\u001b[0m\u001b[0m\n\u001b[0;32m-> 1322\u001b[0;31m                 \u001b[0mresponse\u001b[0m\u001b[0;34m.\u001b[0m\u001b[0mbegin\u001b[0m\u001b[0;34m(\u001b[0m\u001b[0;34m)\u001b[0m\u001b[0;34m\u001b[0m\u001b[0;34m\u001b[0m\u001b[0m\n\u001b[0m\u001b[1;32m   1323\u001b[0m             \u001b[0;32mexcept\u001b[0m \u001b[0mConnectionError\u001b[0m\u001b[0;34m:\u001b[0m\u001b[0;34m\u001b[0m\u001b[0;34m\u001b[0m\u001b[0m\n",
      "\u001b[0;32m/Library/Frameworks/Python.framework/Versions/3.8/lib/python3.8/http/client.py\u001b[0m in \u001b[0;36mbegin\u001b[0;34m(self)\u001b[0m\n\u001b[1;32m    302\u001b[0m         \u001b[0;32mwhile\u001b[0m \u001b[0;32mTrue\u001b[0m\u001b[0;34m:\u001b[0m\u001b[0;34m\u001b[0m\u001b[0;34m\u001b[0m\u001b[0m\n\u001b[0;32m--> 303\u001b[0;31m             \u001b[0mversion\u001b[0m\u001b[0;34m,\u001b[0m \u001b[0mstatus\u001b[0m\u001b[0;34m,\u001b[0m \u001b[0mreason\u001b[0m \u001b[0;34m=\u001b[0m \u001b[0mself\u001b[0m\u001b[0;34m.\u001b[0m\u001b[0m_read_status\u001b[0m\u001b[0;34m(\u001b[0m\u001b[0;34m)\u001b[0m\u001b[0;34m\u001b[0m\u001b[0;34m\u001b[0m\u001b[0m\n\u001b[0m\u001b[1;32m    304\u001b[0m             \u001b[0;32mif\u001b[0m \u001b[0mstatus\u001b[0m \u001b[0;34m!=\u001b[0m \u001b[0mCONTINUE\u001b[0m\u001b[0;34m:\u001b[0m\u001b[0;34m\u001b[0m\u001b[0;34m\u001b[0m\u001b[0m\n",
      "\u001b[0;32m/Library/Frameworks/Python.framework/Versions/3.8/lib/python3.8/http/client.py\u001b[0m in \u001b[0;36m_read_status\u001b[0;34m(self)\u001b[0m\n\u001b[1;32m    271\u001b[0m             \u001b[0;31m# sending a valid response.\u001b[0m\u001b[0;34m\u001b[0m\u001b[0;34m\u001b[0m\u001b[0;34m\u001b[0m\u001b[0m\n\u001b[0;32m--> 272\u001b[0;31m             raise RemoteDisconnected(\"Remote end closed connection without\"\n\u001b[0m\u001b[1;32m    273\u001b[0m                                      \" response\")\n",
      "\u001b[0;31mRemoteDisconnected\u001b[0m: Remote end closed connection without response",
      "\nDuring handling of the above exception, another exception occurred:\n",
      "\u001b[0;31mProtocolError\u001b[0m                             Traceback (most recent call last)",
      "\u001b[0;32m/Library/Frameworks/Python.framework/Versions/3.8/lib/python3.8/site-packages/requests/adapters.py\u001b[0m in \u001b[0;36msend\u001b[0;34m(self, request, stream, timeout, verify, cert, proxies)\u001b[0m\n\u001b[1;32m    438\u001b[0m             \u001b[0;32mif\u001b[0m \u001b[0;32mnot\u001b[0m \u001b[0mchunked\u001b[0m\u001b[0;34m:\u001b[0m\u001b[0;34m\u001b[0m\u001b[0;34m\u001b[0m\u001b[0m\n\u001b[0;32m--> 439\u001b[0;31m                 resp = conn.urlopen(\n\u001b[0m\u001b[1;32m    440\u001b[0m                     \u001b[0mmethod\u001b[0m\u001b[0;34m=\u001b[0m\u001b[0mrequest\u001b[0m\u001b[0;34m.\u001b[0m\u001b[0mmethod\u001b[0m\u001b[0;34m,\u001b[0m\u001b[0;34m\u001b[0m\u001b[0;34m\u001b[0m\u001b[0m\n",
      "\u001b[0;32m/Library/Frameworks/Python.framework/Versions/3.8/lib/python3.8/site-packages/urllib3/connectionpool.py\u001b[0m in \u001b[0;36murlopen\u001b[0;34m(self, method, url, body, headers, retries, redirect, assert_same_host, timeout, pool_timeout, release_conn, chunked, body_pos, **response_kw)\u001b[0m\n\u001b[1;32m    754\u001b[0m \u001b[0;34m\u001b[0m\u001b[0m\n\u001b[0;32m--> 755\u001b[0;31m             retries = retries.increment(\n\u001b[0m\u001b[1;32m    756\u001b[0m                 \u001b[0mmethod\u001b[0m\u001b[0;34m,\u001b[0m \u001b[0murl\u001b[0m\u001b[0;34m,\u001b[0m \u001b[0merror\u001b[0m\u001b[0;34m=\u001b[0m\u001b[0me\u001b[0m\u001b[0;34m,\u001b[0m \u001b[0m_pool\u001b[0m\u001b[0;34m=\u001b[0m\u001b[0mself\u001b[0m\u001b[0;34m,\u001b[0m \u001b[0m_stacktrace\u001b[0m\u001b[0;34m=\u001b[0m\u001b[0msys\u001b[0m\u001b[0;34m.\u001b[0m\u001b[0mexc_info\u001b[0m\u001b[0;34m(\u001b[0m\u001b[0;34m)\u001b[0m\u001b[0;34m[\u001b[0m\u001b[0;36m2\u001b[0m\u001b[0;34m]\u001b[0m\u001b[0;34m\u001b[0m\u001b[0;34m\u001b[0m\u001b[0m\n",
      "\u001b[0;32m/Library/Frameworks/Python.framework/Versions/3.8/lib/python3.8/site-packages/urllib3/util/retry.py\u001b[0m in \u001b[0;36mincrement\u001b[0;34m(self, method, url, response, error, _pool, _stacktrace)\u001b[0m\n\u001b[1;32m    531\u001b[0m             \u001b[0;32mif\u001b[0m \u001b[0mread\u001b[0m \u001b[0;32mis\u001b[0m \u001b[0;32mFalse\u001b[0m \u001b[0;32mor\u001b[0m \u001b[0;32mnot\u001b[0m \u001b[0mself\u001b[0m\u001b[0;34m.\u001b[0m\u001b[0m_is_method_retryable\u001b[0m\u001b[0;34m(\u001b[0m\u001b[0mmethod\u001b[0m\u001b[0;34m)\u001b[0m\u001b[0;34m:\u001b[0m\u001b[0;34m\u001b[0m\u001b[0;34m\u001b[0m\u001b[0m\n\u001b[0;32m--> 532\u001b[0;31m                 \u001b[0;32mraise\u001b[0m \u001b[0msix\u001b[0m\u001b[0;34m.\u001b[0m\u001b[0mreraise\u001b[0m\u001b[0;34m(\u001b[0m\u001b[0mtype\u001b[0m\u001b[0;34m(\u001b[0m\u001b[0merror\u001b[0m\u001b[0;34m)\u001b[0m\u001b[0;34m,\u001b[0m \u001b[0merror\u001b[0m\u001b[0;34m,\u001b[0m \u001b[0m_stacktrace\u001b[0m\u001b[0;34m)\u001b[0m\u001b[0;34m\u001b[0m\u001b[0;34m\u001b[0m\u001b[0m\n\u001b[0m\u001b[1;32m    533\u001b[0m             \u001b[0;32melif\u001b[0m \u001b[0mread\u001b[0m \u001b[0;32mis\u001b[0m \u001b[0;32mnot\u001b[0m \u001b[0;32mNone\u001b[0m\u001b[0;34m:\u001b[0m\u001b[0;34m\u001b[0m\u001b[0;34m\u001b[0m\u001b[0m\n",
      "\u001b[0;32m/Library/Frameworks/Python.framework/Versions/3.8/lib/python3.8/site-packages/urllib3/packages/six.py\u001b[0m in \u001b[0;36mreraise\u001b[0;34m(tp, value, tb)\u001b[0m\n\u001b[1;32m    768\u001b[0m             \u001b[0;32mif\u001b[0m \u001b[0mvalue\u001b[0m\u001b[0;34m.\u001b[0m\u001b[0m__traceback__\u001b[0m \u001b[0;32mis\u001b[0m \u001b[0;32mnot\u001b[0m \u001b[0mtb\u001b[0m\u001b[0;34m:\u001b[0m\u001b[0;34m\u001b[0m\u001b[0;34m\u001b[0m\u001b[0m\n\u001b[0;32m--> 769\u001b[0;31m                 \u001b[0;32mraise\u001b[0m \u001b[0mvalue\u001b[0m\u001b[0;34m.\u001b[0m\u001b[0mwith_traceback\u001b[0m\u001b[0;34m(\u001b[0m\u001b[0mtb\u001b[0m\u001b[0;34m)\u001b[0m\u001b[0;34m\u001b[0m\u001b[0;34m\u001b[0m\u001b[0m\n\u001b[0m\u001b[1;32m    770\u001b[0m             \u001b[0;32mraise\u001b[0m \u001b[0mvalue\u001b[0m\u001b[0;34m\u001b[0m\u001b[0;34m\u001b[0m\u001b[0m\n",
      "\u001b[0;32m/Library/Frameworks/Python.framework/Versions/3.8/lib/python3.8/site-packages/urllib3/connectionpool.py\u001b[0m in \u001b[0;36murlopen\u001b[0;34m(self, method, url, body, headers, retries, redirect, assert_same_host, timeout, pool_timeout, release_conn, chunked, body_pos, **response_kw)\u001b[0m\n\u001b[1;32m    698\u001b[0m             \u001b[0;31m# Make the request on the httplib connection object.\u001b[0m\u001b[0;34m\u001b[0m\u001b[0;34m\u001b[0m\u001b[0;34m\u001b[0m\u001b[0m\n\u001b[0;32m--> 699\u001b[0;31m             httplib_response = self._make_request(\n\u001b[0m\u001b[1;32m    700\u001b[0m                 \u001b[0mconn\u001b[0m\u001b[0;34m,\u001b[0m\u001b[0;34m\u001b[0m\u001b[0;34m\u001b[0m\u001b[0m\n",
      "\u001b[0;32m/Library/Frameworks/Python.framework/Versions/3.8/lib/python3.8/site-packages/urllib3/connectionpool.py\u001b[0m in \u001b[0;36m_make_request\u001b[0;34m(self, conn, method, url, timeout, chunked, **httplib_request_kw)\u001b[0m\n\u001b[1;32m    444\u001b[0m                     \u001b[0;31m# Otherwise it looks like a bug in the code.\u001b[0m\u001b[0;34m\u001b[0m\u001b[0;34m\u001b[0m\u001b[0;34m\u001b[0m\u001b[0m\n\u001b[0;32m--> 445\u001b[0;31m                     \u001b[0msix\u001b[0m\u001b[0;34m.\u001b[0m\u001b[0mraise_from\u001b[0m\u001b[0;34m(\u001b[0m\u001b[0me\u001b[0m\u001b[0;34m,\u001b[0m \u001b[0;32mNone\u001b[0m\u001b[0;34m)\u001b[0m\u001b[0;34m\u001b[0m\u001b[0;34m\u001b[0m\u001b[0m\n\u001b[0m\u001b[1;32m    446\u001b[0m         \u001b[0;32mexcept\u001b[0m \u001b[0;34m(\u001b[0m\u001b[0mSocketTimeout\u001b[0m\u001b[0;34m,\u001b[0m \u001b[0mBaseSSLError\u001b[0m\u001b[0;34m,\u001b[0m \u001b[0mSocketError\u001b[0m\u001b[0;34m)\u001b[0m \u001b[0;32mas\u001b[0m \u001b[0me\u001b[0m\u001b[0;34m:\u001b[0m\u001b[0;34m\u001b[0m\u001b[0;34m\u001b[0m\u001b[0m\n",
      "\u001b[0;32m/Library/Frameworks/Python.framework/Versions/3.8/lib/python3.8/site-packages/urllib3/packages/six.py\u001b[0m in \u001b[0;36mraise_from\u001b[0;34m(value, from_value)\u001b[0m\n",
      "\u001b[0;32m/Library/Frameworks/Python.framework/Versions/3.8/lib/python3.8/site-packages/urllib3/connectionpool.py\u001b[0m in \u001b[0;36m_make_request\u001b[0;34m(self, conn, method, url, timeout, chunked, **httplib_request_kw)\u001b[0m\n\u001b[1;32m    439\u001b[0m                 \u001b[0;32mtry\u001b[0m\u001b[0;34m:\u001b[0m\u001b[0;34m\u001b[0m\u001b[0;34m\u001b[0m\u001b[0m\n\u001b[0;32m--> 440\u001b[0;31m                     \u001b[0mhttplib_response\u001b[0m \u001b[0;34m=\u001b[0m \u001b[0mconn\u001b[0m\u001b[0;34m.\u001b[0m\u001b[0mgetresponse\u001b[0m\u001b[0;34m(\u001b[0m\u001b[0;34m)\u001b[0m\u001b[0;34m\u001b[0m\u001b[0;34m\u001b[0m\u001b[0m\n\u001b[0m\u001b[1;32m    441\u001b[0m                 \u001b[0;32mexcept\u001b[0m \u001b[0mBaseException\u001b[0m \u001b[0;32mas\u001b[0m \u001b[0me\u001b[0m\u001b[0;34m:\u001b[0m\u001b[0;34m\u001b[0m\u001b[0;34m\u001b[0m\u001b[0m\n",
      "\u001b[0;32m/Library/Frameworks/Python.framework/Versions/3.8/lib/python3.8/http/client.py\u001b[0m in \u001b[0;36mgetresponse\u001b[0;34m(self)\u001b[0m\n\u001b[1;32m   1321\u001b[0m             \u001b[0;32mtry\u001b[0m\u001b[0;34m:\u001b[0m\u001b[0;34m\u001b[0m\u001b[0;34m\u001b[0m\u001b[0m\n\u001b[0;32m-> 1322\u001b[0;31m                 \u001b[0mresponse\u001b[0m\u001b[0;34m.\u001b[0m\u001b[0mbegin\u001b[0m\u001b[0;34m(\u001b[0m\u001b[0;34m)\u001b[0m\u001b[0;34m\u001b[0m\u001b[0;34m\u001b[0m\u001b[0m\n\u001b[0m\u001b[1;32m   1323\u001b[0m             \u001b[0;32mexcept\u001b[0m \u001b[0mConnectionError\u001b[0m\u001b[0;34m:\u001b[0m\u001b[0;34m\u001b[0m\u001b[0;34m\u001b[0m\u001b[0m\n",
      "\u001b[0;32m/Library/Frameworks/Python.framework/Versions/3.8/lib/python3.8/http/client.py\u001b[0m in \u001b[0;36mbegin\u001b[0;34m(self)\u001b[0m\n\u001b[1;32m    302\u001b[0m         \u001b[0;32mwhile\u001b[0m \u001b[0;32mTrue\u001b[0m\u001b[0;34m:\u001b[0m\u001b[0;34m\u001b[0m\u001b[0;34m\u001b[0m\u001b[0m\n\u001b[0;32m--> 303\u001b[0;31m             \u001b[0mversion\u001b[0m\u001b[0;34m,\u001b[0m \u001b[0mstatus\u001b[0m\u001b[0;34m,\u001b[0m \u001b[0mreason\u001b[0m \u001b[0;34m=\u001b[0m \u001b[0mself\u001b[0m\u001b[0;34m.\u001b[0m\u001b[0m_read_status\u001b[0m\u001b[0;34m(\u001b[0m\u001b[0;34m)\u001b[0m\u001b[0;34m\u001b[0m\u001b[0;34m\u001b[0m\u001b[0m\n\u001b[0m\u001b[1;32m    304\u001b[0m             \u001b[0;32mif\u001b[0m \u001b[0mstatus\u001b[0m \u001b[0;34m!=\u001b[0m \u001b[0mCONTINUE\u001b[0m\u001b[0;34m:\u001b[0m\u001b[0;34m\u001b[0m\u001b[0;34m\u001b[0m\u001b[0m\n",
      "\u001b[0;32m/Library/Frameworks/Python.framework/Versions/3.8/lib/python3.8/http/client.py\u001b[0m in \u001b[0;36m_read_status\u001b[0;34m(self)\u001b[0m\n\u001b[1;32m    271\u001b[0m             \u001b[0;31m# sending a valid response.\u001b[0m\u001b[0;34m\u001b[0m\u001b[0;34m\u001b[0m\u001b[0;34m\u001b[0m\u001b[0m\n\u001b[0;32m--> 272\u001b[0;31m             raise RemoteDisconnected(\"Remote end closed connection without\"\n\u001b[0m\u001b[1;32m    273\u001b[0m                                      \" response\")\n",
      "\u001b[0;31mProtocolError\u001b[0m: ('Connection aborted.', RemoteDisconnected('Remote end closed connection without response'))",
      "\nDuring handling of the above exception, another exception occurred:\n",
      "\u001b[0;31mConnectionError\u001b[0m                           Traceback (most recent call last)",
      "\u001b[0;32m<ipython-input-89-7f2d64bde468>\u001b[0m in \u001b[0;36mquery_blockfrost\u001b[0;34m(url, api_key, proxies)\u001b[0m\n\u001b[1;32m    643\u001b[0m         \u001b[0;32mif\u001b[0m \u001b[0;32mnot\u001b[0m \u001b[0mproxies\u001b[0m\u001b[0;34m:\u001b[0m\u001b[0;34m\u001b[0m\u001b[0;34m\u001b[0m\u001b[0m\n\u001b[0;32m--> 644\u001b[0;31m             \u001b[0mresponse\u001b[0m \u001b[0;34m=\u001b[0m \u001b[0mrequests\u001b[0m\u001b[0;34m.\u001b[0m\u001b[0mget\u001b[0m\u001b[0;34m(\u001b[0m\u001b[0murl\u001b[0m\u001b[0;34m,\u001b[0m \u001b[0mheaders\u001b[0m\u001b[0;34m=\u001b[0m\u001b[0;34m{\u001b[0m\u001b[0mheader_param_name\u001b[0m\u001b[0;34m:\u001b[0m\u001b[0mapi_key\u001b[0m\u001b[0;34m}\u001b[0m\u001b[0;34m)\u001b[0m\u001b[0;34m\u001b[0m\u001b[0;34m\u001b[0m\u001b[0m\n\u001b[0m\u001b[1;32m    645\u001b[0m         \u001b[0;32melse\u001b[0m\u001b[0;34m:\u001b[0m\u001b[0;34m\u001b[0m\u001b[0;34m\u001b[0m\u001b[0m\n",
      "\u001b[0;32m/Library/Frameworks/Python.framework/Versions/3.8/lib/python3.8/site-packages/requests/api.py\u001b[0m in \u001b[0;36mget\u001b[0;34m(url, params, **kwargs)\u001b[0m\n\u001b[1;32m     75\u001b[0m     \u001b[0mkwargs\u001b[0m\u001b[0;34m.\u001b[0m\u001b[0msetdefault\u001b[0m\u001b[0;34m(\u001b[0m\u001b[0;34m'allow_redirects'\u001b[0m\u001b[0;34m,\u001b[0m \u001b[0;32mTrue\u001b[0m\u001b[0;34m)\u001b[0m\u001b[0;34m\u001b[0m\u001b[0;34m\u001b[0m\u001b[0m\n\u001b[0;32m---> 76\u001b[0;31m     \u001b[0;32mreturn\u001b[0m \u001b[0mrequest\u001b[0m\u001b[0;34m(\u001b[0m\u001b[0;34m'get'\u001b[0m\u001b[0;34m,\u001b[0m \u001b[0murl\u001b[0m\u001b[0;34m,\u001b[0m \u001b[0mparams\u001b[0m\u001b[0;34m=\u001b[0m\u001b[0mparams\u001b[0m\u001b[0;34m,\u001b[0m \u001b[0;34m**\u001b[0m\u001b[0mkwargs\u001b[0m\u001b[0;34m)\u001b[0m\u001b[0;34m\u001b[0m\u001b[0;34m\u001b[0m\u001b[0m\n\u001b[0m\u001b[1;32m     77\u001b[0m \u001b[0;34m\u001b[0m\u001b[0m\n",
      "\u001b[0;32m/Library/Frameworks/Python.framework/Versions/3.8/lib/python3.8/site-packages/requests/api.py\u001b[0m in \u001b[0;36mrequest\u001b[0;34m(method, url, **kwargs)\u001b[0m\n\u001b[1;32m     60\u001b[0m     \u001b[0;32mwith\u001b[0m \u001b[0msessions\u001b[0m\u001b[0;34m.\u001b[0m\u001b[0mSession\u001b[0m\u001b[0;34m(\u001b[0m\u001b[0;34m)\u001b[0m \u001b[0;32mas\u001b[0m \u001b[0msession\u001b[0m\u001b[0;34m:\u001b[0m\u001b[0;34m\u001b[0m\u001b[0;34m\u001b[0m\u001b[0m\n\u001b[0;32m---> 61\u001b[0;31m         \u001b[0;32mreturn\u001b[0m \u001b[0msession\u001b[0m\u001b[0;34m.\u001b[0m\u001b[0mrequest\u001b[0m\u001b[0;34m(\u001b[0m\u001b[0mmethod\u001b[0m\u001b[0;34m=\u001b[0m\u001b[0mmethod\u001b[0m\u001b[0;34m,\u001b[0m \u001b[0murl\u001b[0m\u001b[0;34m=\u001b[0m\u001b[0murl\u001b[0m\u001b[0;34m,\u001b[0m \u001b[0;34m**\u001b[0m\u001b[0mkwargs\u001b[0m\u001b[0;34m)\u001b[0m\u001b[0;34m\u001b[0m\u001b[0;34m\u001b[0m\u001b[0m\n\u001b[0m\u001b[1;32m     62\u001b[0m \u001b[0;34m\u001b[0m\u001b[0m\n",
      "\u001b[0;32m/Library/Frameworks/Python.framework/Versions/3.8/lib/python3.8/site-packages/requests/sessions.py\u001b[0m in \u001b[0;36mrequest\u001b[0;34m(self, method, url, params, data, headers, cookies, files, auth, timeout, allow_redirects, proxies, hooks, stream, verify, cert, json)\u001b[0m\n\u001b[1;32m    541\u001b[0m         \u001b[0msend_kwargs\u001b[0m\u001b[0;34m.\u001b[0m\u001b[0mupdate\u001b[0m\u001b[0;34m(\u001b[0m\u001b[0msettings\u001b[0m\u001b[0;34m)\u001b[0m\u001b[0;34m\u001b[0m\u001b[0;34m\u001b[0m\u001b[0m\n\u001b[0;32m--> 542\u001b[0;31m         \u001b[0mresp\u001b[0m \u001b[0;34m=\u001b[0m \u001b[0mself\u001b[0m\u001b[0;34m.\u001b[0m\u001b[0msend\u001b[0m\u001b[0;34m(\u001b[0m\u001b[0mprep\u001b[0m\u001b[0;34m,\u001b[0m \u001b[0;34m**\u001b[0m\u001b[0msend_kwargs\u001b[0m\u001b[0;34m)\u001b[0m\u001b[0;34m\u001b[0m\u001b[0;34m\u001b[0m\u001b[0m\n\u001b[0m\u001b[1;32m    543\u001b[0m \u001b[0;34m\u001b[0m\u001b[0m\n",
      "\u001b[0;32m/Library/Frameworks/Python.framework/Versions/3.8/lib/python3.8/site-packages/requests/sessions.py\u001b[0m in \u001b[0;36msend\u001b[0;34m(self, request, **kwargs)\u001b[0m\n\u001b[1;32m    654\u001b[0m         \u001b[0;31m# Send the request\u001b[0m\u001b[0;34m\u001b[0m\u001b[0;34m\u001b[0m\u001b[0;34m\u001b[0m\u001b[0m\n\u001b[0;32m--> 655\u001b[0;31m         \u001b[0mr\u001b[0m \u001b[0;34m=\u001b[0m \u001b[0madapter\u001b[0m\u001b[0;34m.\u001b[0m\u001b[0msend\u001b[0m\u001b[0;34m(\u001b[0m\u001b[0mrequest\u001b[0m\u001b[0;34m,\u001b[0m \u001b[0;34m**\u001b[0m\u001b[0mkwargs\u001b[0m\u001b[0;34m)\u001b[0m\u001b[0;34m\u001b[0m\u001b[0;34m\u001b[0m\u001b[0m\n\u001b[0m\u001b[1;32m    656\u001b[0m \u001b[0;34m\u001b[0m\u001b[0m\n",
      "\u001b[0;32m/Library/Frameworks/Python.framework/Versions/3.8/lib/python3.8/site-packages/requests/adapters.py\u001b[0m in \u001b[0;36msend\u001b[0;34m(self, request, stream, timeout, verify, cert, proxies)\u001b[0m\n\u001b[1;32m    497\u001b[0m         \u001b[0;32mexcept\u001b[0m \u001b[0;34m(\u001b[0m\u001b[0mProtocolError\u001b[0m\u001b[0;34m,\u001b[0m \u001b[0msocket\u001b[0m\u001b[0;34m.\u001b[0m\u001b[0merror\u001b[0m\u001b[0;34m)\u001b[0m \u001b[0;32mas\u001b[0m \u001b[0merr\u001b[0m\u001b[0;34m:\u001b[0m\u001b[0;34m\u001b[0m\u001b[0;34m\u001b[0m\u001b[0m\n\u001b[0;32m--> 498\u001b[0;31m             \u001b[0;32mraise\u001b[0m \u001b[0mConnectionError\u001b[0m\u001b[0;34m(\u001b[0m\u001b[0merr\u001b[0m\u001b[0;34m,\u001b[0m \u001b[0mrequest\u001b[0m\u001b[0;34m=\u001b[0m\u001b[0mrequest\u001b[0m\u001b[0;34m)\u001b[0m\u001b[0;34m\u001b[0m\u001b[0;34m\u001b[0m\u001b[0m\n\u001b[0m\u001b[1;32m    499\u001b[0m \u001b[0;34m\u001b[0m\u001b[0m\n",
      "\u001b[0;31mConnectionError\u001b[0m: ('Connection aborted.', RemoteDisconnected('Remote end closed connection without response'))",
      "\nDuring handling of the above exception, another exception occurred:\n",
      "\u001b[0;31mException\u001b[0m                                 Traceback (most recent call last)",
      "\u001b[0;32m<ipython-input-104-86e7ad5587c1>\u001b[0m in \u001b[0;36m<module>\u001b[0;34m\u001b[0m\n\u001b[0;32m----> 1\u001b[0;31m \u001b[0mcardano_mainnet\u001b[0m\u001b[0;34m.\u001b[0m\u001b[0mrewards_history_analysis\u001b[0m\u001b[0;34m(\u001b[0m\u001b[0mstake_address\u001b[0m\u001b[0;34m,\u001b[0m \u001b[0mpandas\u001b[0m\u001b[0;34m=\u001b[0m\u001b[0;32mTrue\u001b[0m\u001b[0;34m)\u001b[0m \u001b[0;31m# Optional: Return a pandas dataframe\u001b[0m\u001b[0;34m\u001b[0m\u001b[0;34m\u001b[0m\u001b[0m\n\u001b[0m",
      "\u001b[0;32m<ipython-input-89-7f2d64bde468>\u001b[0m in \u001b[0;36mrewards_history_analysis\u001b[0;34m(self, stake_address, pandas)\u001b[0m\n\u001b[1;32m    492\u001b[0m \u001b[0;34m\u001b[0m\u001b[0m\n\u001b[1;32m    493\u001b[0m         \u001b[0;31m# Get the epochs information\u001b[0m\u001b[0;34m\u001b[0m\u001b[0;34m\u001b[0m\u001b[0;34m\u001b[0m\u001b[0m\n\u001b[0;32m--> 494\u001b[0;31m         \u001b[0mdf_epochs_hist\u001b[0m \u001b[0;34m=\u001b[0m \u001b[0mself\u001b[0m\u001b[0;34m.\u001b[0m\u001b[0mepochs_history\u001b[0m\u001b[0;34m(\u001b[0m\u001b[0mepoch_reward_list\u001b[0m\u001b[0;34m,\u001b[0m \u001b[0mpandas\u001b[0m\u001b[0;34m=\u001b[0m\u001b[0;32mTrue\u001b[0m\u001b[0;34m)\u001b[0m\u001b[0;34m\u001b[0m\u001b[0;34m\u001b[0m\u001b[0m\n\u001b[0m\u001b[1;32m    495\u001b[0m         \u001b[0;31m# Replace the column names\u001b[0m\u001b[0;34m\u001b[0m\u001b[0;34m\u001b[0m\u001b[0;34m\u001b[0m\u001b[0m\n\u001b[1;32m    496\u001b[0m         \u001b[0mdf_epochs_hist_col_name\u001b[0m \u001b[0;34m=\u001b[0m \u001b[0;34m{\u001b[0m\u001b[0mname\u001b[0m\u001b[0;34m:\u001b[0m\u001b[0;34m'epoch_{}'\u001b[0m\u001b[0;34m.\u001b[0m\u001b[0mformat\u001b[0m\u001b[0;34m(\u001b[0m\u001b[0mname\u001b[0m\u001b[0;34m)\u001b[0m \u001b[0;32mfor\u001b[0m \u001b[0mname\u001b[0m \u001b[0;32min\u001b[0m \u001b[0mdf_epochs_hist\u001b[0m\u001b[0;34m.\u001b[0m\u001b[0mcolumns\u001b[0m\u001b[0;34m.\u001b[0m\u001b[0mtolist\u001b[0m\u001b[0;34m(\u001b[0m\u001b[0;34m)\u001b[0m\u001b[0;34m}\u001b[0m\u001b[0;34m\u001b[0m\u001b[0;34m\u001b[0m\u001b[0m\n",
      "\u001b[0;32m<ipython-input-89-7f2d64bde468>\u001b[0m in \u001b[0;36mepochs_history\u001b[0;34m(self, epochs, pandas)\u001b[0m\n\u001b[1;32m    403\u001b[0m             \u001b[0;32massert\u001b[0m\u001b[0;34m(\u001b[0m\u001b[0mepoch\u001b[0m \u001b[0;34m<\u001b[0m \u001b[0mlast_epoch\u001b[0m\u001b[0;34m)\u001b[0m\u001b[0;34m,\u001b[0m \u001b[0;34m\"ERROR] The number of epoch can't be greater than the last epoch ({})\"\u001b[0m\u001b[0;34m.\u001b[0m\u001b[0mformat\u001b[0m\u001b[0;34m(\u001b[0m\u001b[0mlast_epoch\u001b[0m\u001b[0;34m)\u001b[0m\u001b[0;34m\u001b[0m\u001b[0;34m\u001b[0m\u001b[0m\n\u001b[1;32m    404\u001b[0m \u001b[0;34m\u001b[0m\u001b[0m\n\u001b[0;32m--> 405\u001b[0;31m             \u001b[0mepochs_history\u001b[0m\u001b[0;34m.\u001b[0m\u001b[0mappend\u001b[0m\u001b[0;34m(\u001b[0m\u001b[0mself\u001b[0m\u001b[0;34m.\u001b[0m\u001b[0mspecific_epoch\u001b[0m\u001b[0;34m(\u001b[0m\u001b[0mepoch\u001b[0m\u001b[0;34m)\u001b[0m\u001b[0;34m)\u001b[0m\u001b[0;34m\u001b[0m\u001b[0;34m\u001b[0m\u001b[0m\n\u001b[0m\u001b[1;32m    406\u001b[0m             \u001b[0mcount_api_calls\u001b[0m \u001b[0;34m+=\u001b[0m \u001b[0;36m1\u001b[0m\u001b[0;34m\u001b[0m\u001b[0;34m\u001b[0m\u001b[0m\n\u001b[1;32m    407\u001b[0m \u001b[0;34m\u001b[0m\u001b[0m\n",
      "\u001b[0;32m<ipython-input-89-7f2d64bde468>\u001b[0m in \u001b[0;36mspecific_epoch\u001b[0;34m(self, epoch)\u001b[0m\n\u001b[1;32m    364\u001b[0m         \u001b[0murl_specific_epoch\u001b[0m \u001b[0;34m=\u001b[0m \u001b[0mself\u001b[0m\u001b[0;34m.\u001b[0m\u001b[0mnetwork\u001b[0m \u001b[0;34m+\u001b[0m \u001b[0mbf_url_epoch\u001b[0m \u001b[0;34m+\u001b[0m \u001b[0mstr\u001b[0m\u001b[0;34m(\u001b[0m\u001b[0mepoch\u001b[0m\u001b[0;34m)\u001b[0m\u001b[0;34m\u001b[0m\u001b[0;34m\u001b[0m\u001b[0m\n\u001b[1;32m    365\u001b[0m \u001b[0;34m\u001b[0m\u001b[0m\n\u001b[0;32m--> 366\u001b[0;31m         \u001b[0mresponse\u001b[0m \u001b[0;34m=\u001b[0m \u001b[0mquery_blockfrost\u001b[0m\u001b[0;34m(\u001b[0m\u001b[0murl_specific_epoch\u001b[0m\u001b[0;34m,\u001b[0m \u001b[0mself\u001b[0m\u001b[0;34m.\u001b[0m\u001b[0mapi_key\u001b[0m\u001b[0;34m,\u001b[0m \u001b[0mself\u001b[0m\u001b[0;34m.\u001b[0m\u001b[0mproxies\u001b[0m\u001b[0;34m)\u001b[0m\u001b[0;34m\u001b[0m\u001b[0;34m\u001b[0m\u001b[0m\n\u001b[0m\u001b[1;32m    367\u001b[0m \u001b[0;34m\u001b[0m\u001b[0m\n\u001b[1;32m    368\u001b[0m         \u001b[0;32mreturn\u001b[0m \u001b[0mresponse\u001b[0m\u001b[0;34m\u001b[0m\u001b[0;34m\u001b[0m\u001b[0m\n",
      "\u001b[0;32m<ipython-input-89-7f2d64bde468>\u001b[0m in \u001b[0;36mquery_blockfrost\u001b[0;34m(url, api_key, proxies)\u001b[0m\n\u001b[1;32m    646\u001b[0m             \u001b[0mresponse\u001b[0m \u001b[0;34m=\u001b[0m \u001b[0mrequests\u001b[0m\u001b[0;34m.\u001b[0m\u001b[0mget\u001b[0m\u001b[0;34m(\u001b[0m\u001b[0murl\u001b[0m\u001b[0;34m,\u001b[0m \u001b[0mproxies\u001b[0m\u001b[0;34m=\u001b[0m\u001b[0mproxies\u001b[0m\u001b[0;34m,\u001b[0m \u001b[0mheaders\u001b[0m\u001b[0;34m=\u001b[0m\u001b[0;34m{\u001b[0m\u001b[0mheader_param_name\u001b[0m\u001b[0;34m:\u001b[0m\u001b[0mapi_key\u001b[0m\u001b[0;34m}\u001b[0m\u001b[0;34m)\u001b[0m\u001b[0;34m\u001b[0m\u001b[0;34m\u001b[0m\u001b[0m\n\u001b[1;32m    647\u001b[0m     \u001b[0;32mexcept\u001b[0m \u001b[0mException\u001b[0m \u001b[0;32mas\u001b[0m \u001b[0me\u001b[0m\u001b[0;34m:\u001b[0m\u001b[0;34m\u001b[0m\u001b[0;34m\u001b[0m\u001b[0m\n\u001b[0;32m--> 648\u001b[0;31m         \u001b[0;32mraise\u001b[0m \u001b[0mException\u001b[0m\u001b[0;34m(\u001b[0m\u001b[0;34m'[ERROR] {}'\u001b[0m\u001b[0;34m.\u001b[0m\u001b[0mformat\u001b[0m\u001b[0;34m(\u001b[0m\u001b[0me\u001b[0m\u001b[0;34m)\u001b[0m\u001b[0;34m)\u001b[0m\u001b[0;34m\u001b[0m\u001b[0;34m\u001b[0m\u001b[0m\n\u001b[0m\u001b[1;32m    649\u001b[0m \u001b[0;34m\u001b[0m\u001b[0m\n\u001b[1;32m    650\u001b[0m     \u001b[0;32mif\u001b[0m \u001b[0mresponse\u001b[0m\u001b[0;34m.\u001b[0m\u001b[0mstatus_code\u001b[0m \u001b[0;34m==\u001b[0m \u001b[0;36m200\u001b[0m\u001b[0;34m:\u001b[0m\u001b[0;34m\u001b[0m\u001b[0;34m\u001b[0m\u001b[0m\n",
      "\u001b[0;31mException\u001b[0m: [ERROR] ('Connection aborted.', RemoteDisconnected('Remote end closed connection without response'))"
     ]
    }
   ],
   "source": [
    "cardano_mainnet.rewards_history_analysis(stake_address, pandas=True) # Optional: Return a pandas dataframe "
   ]
  },
  {
   "cell_type": "markdown",
   "metadata": {},
   "source": [
    "# Assets\n",
    "___"
   ]
  },
  {
   "cell_type": "code",
   "execution_count": 8,
   "metadata": {},
   "outputs": [],
   "source": [
    "policy_id='ceb5dedd6cda3f0b4a98919b5d3827e15e324771642b57e0e6aabd57'\n",
    "asset_name='476f6c64486f736b696e736f6e3431'"
   ]
  },
  {
   "cell_type": "markdown",
   "metadata": {},
   "source": [
    "### Assets List\n",
    "List of assets."
   ]
  },
  {
   "cell_type": "code",
   "execution_count": 34,
   "metadata": {},
   "outputs": [
    {
     "name": "stdout",
     "output_type": "stream",
     "text": [
      "[INFO] Function assets_list, 1 API calls.\n"
     ]
    },
    {
     "data": {
      "text/plain": [
       "['00000002df633853f6a47465c9496721d2d5b1291b8398016c0e87ae6e7574636f696e',\n",
       " '3a9241cd79895e3a8d65261b40077d4437ce71e9d7c8c6c00e3f658e4669727374636f696e',\n",
       " '02f68378e37af4545d027d0a9fa5581ac682897a3fc1f6d8f936ed2b4154414441',\n",
       " 'e8e62d329e73190190c3e323fb5c9fb98ee55f0676332ba949f29d724649525354',\n",
       " 'ac3f4224723e2ed9d166478662f6e48bae9ddf0fc5ee58f54f6c322943454e54']"
      ]
     },
     "execution_count": 34,
     "metadata": {},
     "output_type": "execute_result"
    }
   ],
   "source": [
    "cardano_mainnet.assets(pandas=True).head()['asset'].tolist()"
   ]
  },
  {
   "cell_type": "markdown",
   "metadata": {},
   "source": [
    "### Specific Asset\n",
    "Information about a specific asset."
   ]
  },
  {
   "cell_type": "code",
   "execution_count": 9,
   "metadata": {},
   "outputs": [
    {
     "data": {
      "text/plain": [
       "{'asset': 'ceb5dedd6cda3f0b4a98919b5d3827e15e324771642b57e0e6aabd57476f6c64486f736b696e736f6e3431',\n",
       " 'policy_id': 'ceb5dedd6cda3f0b4a98919b5d3827e15e324771642b57e0e6aabd57',\n",
       " 'asset_name': '476f6c64486f736b696e736f6e3431',\n",
       " 'fingerprint': 'asset1c9k5d9npey44xxs4csm999py83sg95zfmcalty',\n",
       " 'quantity': '1',\n",
       " 'initial_mint_tx_hash': 'c0e67cfb6381f379c028d2ce16965527ea94c48c9e92db29fa8b110a25964a7d',\n",
       " 'mint_or_burn_count': 1,\n",
       " 'onchain_metadata': {'name': 'GoldHoskinson41',\n",
       "  'image': 'ipfs://QmNqd5tWwPeukfckWuBRQoJoGanduuxeGisYcjmxhRv4u5',\n",
       "  'files': [{'src': 'ipfs://QmWf4oJwCJVhu75GH4Utnd9MeCc6UMAhsVHr7bp3MK7zCo',\n",
       "    'name': 'GoldHoskinson41',\n",
       "    'mediaType': 'video/mp4'}],\n",
       "  'hiRes': 'ipfs://QmUFdMtfGNxgTFGSwMw1dFdW8XX6ZmrJKzh6F1KdTYRFpz',\n",
       "  'burned': ['GoldBasho047',\n",
       "   'GoldVoltaire106',\n",
       "   'GoldGoguen148',\n",
       "   'GoldByron103',\n",
       "   'GoldShelley058',\n",
       "   'GoldCardano41',\n",
       "   'GoldLovelace31'],\n",
       "  'attributes': {'Type': 'Art',\n",
       "   'Piece': 'Hoskinson',\n",
       "   'Artist': 'Projekt',\n",
       "   'Rarity': 'Gold',\n",
       "   'Series': 'Pioneers',\n",
       "   'Creator': 'Mycelial Gallery'},\n",
       "  'description': 'Charles Hoskinson, minted by Mycelial Gallery.'},\n",
       " 'metadata': None}"
      ]
     },
     "execution_count": 9,
     "metadata": {},
     "output_type": "execute_result"
    }
   ],
   "source": [
    "cardano_mainnet.specific_asset(policy_id+asset_name)"
   ]
  },
  {
   "cell_type": "markdown",
   "metadata": {},
   "source": [
    "### Asset history\n",
    "History of a specific asset."
   ]
  },
  {
   "cell_type": "code",
   "execution_count": 10,
   "metadata": {},
   "outputs": [
    {
     "name": "stdout",
     "output_type": "stream",
     "text": [
      "[INFO] Function asset_history, 1 API calls.\n"
     ]
    },
    {
     "data": {
      "text/html": [
       "<div>\n",
       "<style scoped>\n",
       "    .dataframe tbody tr th:only-of-type {\n",
       "        vertical-align: middle;\n",
       "    }\n",
       "\n",
       "    .dataframe tbody tr th {\n",
       "        vertical-align: top;\n",
       "    }\n",
       "\n",
       "    .dataframe thead th {\n",
       "        text-align: right;\n",
       "    }\n",
       "</style>\n",
       "<table border=\"1\" class=\"dataframe\">\n",
       "  <thead>\n",
       "    <tr style=\"text-align: right;\">\n",
       "      <th></th>\n",
       "      <th>tx_hash</th>\n",
       "      <th>action</th>\n",
       "      <th>amount</th>\n",
       "    </tr>\n",
       "  </thead>\n",
       "  <tbody>\n",
       "    <tr>\n",
       "      <th>0</th>\n",
       "      <td>c0e67cfb6381f379c028d2ce16965527ea94c48c9e92db...</td>\n",
       "      <td>minted</td>\n",
       "      <td>1</td>\n",
       "    </tr>\n",
       "  </tbody>\n",
       "</table>\n",
       "</div>"
      ],
      "text/plain": [
       "                                             tx_hash  action amount\n",
       "0  c0e67cfb6381f379c028d2ce16965527ea94c48c9e92db...  minted      1"
      ]
     },
     "execution_count": 10,
     "metadata": {},
     "output_type": "execute_result"
    }
   ],
   "source": [
    "cardano_mainnet.asset_history(policy_id+asset_name, pandas=True)"
   ]
  },
  {
   "cell_type": "markdown",
   "metadata": {},
   "source": [
    "### Asset transactions\n",
    "List of a specific asset transactions."
   ]
  },
  {
   "cell_type": "code",
   "execution_count": 11,
   "metadata": {},
   "outputs": [
    {
     "name": "stdout",
     "output_type": "stream",
     "text": [
      "[INFO] Function asset_transactions, 1 API calls.\n"
     ]
    },
    {
     "data": {
      "text/html": [
       "<div>\n",
       "<style scoped>\n",
       "    .dataframe tbody tr th:only-of-type {\n",
       "        vertical-align: middle;\n",
       "    }\n",
       "\n",
       "    .dataframe tbody tr th {\n",
       "        vertical-align: top;\n",
       "    }\n",
       "\n",
       "    .dataframe thead th {\n",
       "        text-align: right;\n",
       "    }\n",
       "</style>\n",
       "<table border=\"1\" class=\"dataframe\">\n",
       "  <thead>\n",
       "    <tr style=\"text-align: right;\">\n",
       "      <th></th>\n",
       "      <th>tx_hash</th>\n",
       "      <th>tx_index</th>\n",
       "      <th>block_height</th>\n",
       "    </tr>\n",
       "  </thead>\n",
       "  <tbody>\n",
       "    <tr>\n",
       "      <th>0</th>\n",
       "      <td>c0e67cfb6381f379c028d2ce16965527ea94c48c9e92db...</td>\n",
       "      <td>40</td>\n",
       "      <td>6213768</td>\n",
       "    </tr>\n",
       "    <tr>\n",
       "      <th>1</th>\n",
       "      <td>e00a3a442f739823cabeb391901d75f79d0da66d89abd1...</td>\n",
       "      <td>14</td>\n",
       "      <td>6222327</td>\n",
       "    </tr>\n",
       "    <tr>\n",
       "      <th>2</th>\n",
       "      <td>3428b76dbe5bebbfb4de29e08efb18e32880985359281b...</td>\n",
       "      <td>25</td>\n",
       "      <td>6222328</td>\n",
       "    </tr>\n",
       "  </tbody>\n",
       "</table>\n",
       "</div>"
      ],
      "text/plain": [
       "                                             tx_hash  tx_index  block_height\n",
       "0  c0e67cfb6381f379c028d2ce16965527ea94c48c9e92db...        40       6213768\n",
       "1  e00a3a442f739823cabeb391901d75f79d0da66d89abd1...        14       6222327\n",
       "2  3428b76dbe5bebbfb4de29e08efb18e32880985359281b...        25       6222328"
      ]
     },
     "execution_count": 11,
     "metadata": {},
     "output_type": "execute_result"
    }
   ],
   "source": [
    "cardano_mainnet.asset_transactions(policy_id+asset_name, pandas=True)"
   ]
  },
  {
   "cell_type": "markdown",
   "metadata": {},
   "source": [
    "### Asset addresses\n",
    "List of a addresses containing a specific asset"
   ]
  },
  {
   "cell_type": "code",
   "execution_count": 16,
   "metadata": {},
   "outputs": [
    {
     "name": "stdout",
     "output_type": "stream",
     "text": [
      "[INFO] Function asset_addresses, 1 API calls.\n"
     ]
    },
    {
     "data": {
      "text/plain": [
       "['addr1qytstx6xt93ux775sg2k5f9l4xfpat8e06mpg8mm7ahfesfmxu3tnek9gze34yfdahuyc6ryfsrjwm2r3tahfp6aa5yqqq3pyx']"
      ]
     },
     "execution_count": 16,
     "metadata": {},
     "output_type": "execute_result"
    }
   ],
   "source": [
    "cardano_mainnet.asset_addresses(policy_id+asset_name, pandas=True)['address'].tolist()"
   ]
  },
  {
   "cell_type": "markdown",
   "metadata": {},
   "source": [
    "### Assets of a specific policy\n",
    "\n",
    "List of asset minted under a specific policy"
   ]
  },
  {
   "cell_type": "code",
   "execution_count": 13,
   "metadata": {},
   "outputs": [
    {
     "name": "stdout",
     "output_type": "stream",
     "text": [
      "[INFO] Function assets_policy, 1 API calls.\n"
     ]
    },
    {
     "data": {
      "text/html": [
       "<div>\n",
       "<style scoped>\n",
       "    .dataframe tbody tr th:only-of-type {\n",
       "        vertical-align: middle;\n",
       "    }\n",
       "\n",
       "    .dataframe tbody tr th {\n",
       "        vertical-align: top;\n",
       "    }\n",
       "\n",
       "    .dataframe thead th {\n",
       "        text-align: right;\n",
       "    }\n",
       "</style>\n",
       "<table border=\"1\" class=\"dataframe\">\n",
       "  <thead>\n",
       "    <tr style=\"text-align: right;\">\n",
       "      <th></th>\n",
       "      <th>asset</th>\n",
       "      <th>quantity</th>\n",
       "    </tr>\n",
       "  </thead>\n",
       "  <tbody>\n",
       "    <tr>\n",
       "      <th>0</th>\n",
       "      <td>ceb5dedd6cda3f0b4a98919b5d3827e15e324771642b57...</td>\n",
       "      <td>1</td>\n",
       "    </tr>\n",
       "    <tr>\n",
       "      <th>1</th>\n",
       "      <td>ceb5dedd6cda3f0b4a98919b5d3827e15e324771642b57...</td>\n",
       "      <td>1</td>\n",
       "    </tr>\n",
       "    <tr>\n",
       "      <th>2</th>\n",
       "      <td>ceb5dedd6cda3f0b4a98919b5d3827e15e324771642b57...</td>\n",
       "      <td>1</td>\n",
       "    </tr>\n",
       "    <tr>\n",
       "      <th>3</th>\n",
       "      <td>ceb5dedd6cda3f0b4a98919b5d3827e15e324771642b57...</td>\n",
       "      <td>1</td>\n",
       "    </tr>\n",
       "    <tr>\n",
       "      <th>4</th>\n",
       "      <td>ceb5dedd6cda3f0b4a98919b5d3827e15e324771642b57...</td>\n",
       "      <td>1</td>\n",
       "    </tr>\n",
       "  </tbody>\n",
       "</table>\n",
       "</div>"
      ],
      "text/plain": [
       "                                               asset quantity\n",
       "0  ceb5dedd6cda3f0b4a98919b5d3827e15e324771642b57...        1\n",
       "1  ceb5dedd6cda3f0b4a98919b5d3827e15e324771642b57...        1\n",
       "2  ceb5dedd6cda3f0b4a98919b5d3827e15e324771642b57...        1\n",
       "3  ceb5dedd6cda3f0b4a98919b5d3827e15e324771642b57...        1\n",
       "4  ceb5dedd6cda3f0b4a98919b5d3827e15e324771642b57...        1"
      ]
     },
     "execution_count": 13,
     "metadata": {},
     "output_type": "execute_result"
    }
   ],
   "source": [
    "cardano_mainnet.assets_policy(policy_id, pandas=True).head()"
   ]
  },
  {
   "cell_type": "code",
   "execution_count": null,
   "metadata": {},
   "outputs": [],
   "source": []
  }
 ],
 "metadata": {
  "kernelspec": {
   "display_name": "Python 3",
   "language": "python",
   "name": "python3"
  },
  "language_info": {
   "codemirror_mode": {
    "name": "ipython",
    "version": 3
   },
   "file_extension": ".py",
   "mimetype": "text/x-python",
   "name": "python",
   "nbconvert_exporter": "python",
   "pygments_lexer": "ipython3",
   "version": "3.8.0"
  }
 },
 "nbformat": 4,
 "nbformat_minor": 4
}
